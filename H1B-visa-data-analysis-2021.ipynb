{
 "cells": [
  {
   "cell_type": "markdown",
   "metadata": {},
   "source": [
    "This is a notebook of Exploratory data analysis of H1B visa for the year 2021. \n",
    "\n",
    "About the Dataset\n",
    "This dataset provides a comprehensive record of Labor Condition Application (LCA) disclosures for H1B visa petitions filed with the U.S. Department of Labor (DOL) 2021. The H1B visa is a non-immigrant visa that allows U.S. companies to employ foreign workers in specialty occupations requiring theoretical or technical expertise. These roles typically include fields such as IT, engineering, finance, healthcare, and more. The H1B program is critical for addressing skill gaps in the U.S. workforce and supporting economic growth.\n",
    "\n",
    "Key features\n",
    "Years Covered: 2021.\n",
    "Number of Records: Includes all LCAs filed during this period.\n",
    "Attributes: Comprehensive fields such as case number, job title, employer name, wage data, work location, and visa classification.\n",
    "Source: Data is based on public disclosures from the U.S. Department of Labor.\n",
    "\n",
    "Source of Dataset \n",
    "https://www.kaggle.com/datasets/zongaobian/h1b-lca-disclosure-data-2020-2024/data?select=Combined_LCA_Disclosure_Data_FY2021.csv"
   ]
  },
  {
   "cell_type": "code",
   "execution_count": 1,
   "metadata": {},
   "outputs": [],
   "source": [
    "import warnings\n",
    "warnings.filterwarnings(\"ignore\")"
   ]
  },
  {
   "cell_type": "code",
   "execution_count": 2,
   "metadata": {},
   "outputs": [],
   "source": [
    "# Import necessary libraries\n",
    "\n",
    "import pandas as pd\n",
    "import numpy as np\n",
    "import seaborn as sns\n",
    "import matplotlib.pyplot as plt"
   ]
  },
  {
   "cell_type": "code",
   "execution_count": 3,
   "metadata": {},
   "outputs": [
    {
     "name": "stdout",
     "output_type": "stream",
     "text": [
      "2.2.3\n"
     ]
    }
   ],
   "source": [
    "print(pd.__version__)"
   ]
  },
  {
   "cell_type": "code",
   "execution_count": 4,
   "metadata": {},
   "outputs": [
    {
     "name": "stdout",
     "output_type": "stream",
     "text": [
      "2.0.2\n"
     ]
    }
   ],
   "source": [
    "print(np.__version__)"
   ]
  },
  {
   "cell_type": "code",
   "execution_count": 5,
   "metadata": {},
   "outputs": [
    {
     "name": "stdout",
     "output_type": "stream",
     "text": [
      "0.13.2\n"
     ]
    }
   ],
   "source": [
    "print(sns.__version__)"
   ]
  },
  {
   "cell_type": "code",
   "execution_count": 9,
   "metadata": {},
   "outputs": [
    {
     "name": "stdout",
     "output_type": "stream",
     "text": [
      "3.9.4\n"
     ]
    }
   ],
   "source": [
    "import matplotlib\n",
    "print(matplotlib.__version__)"
   ]
  },
  {
   "cell_type": "code",
   "execution_count": 10,
   "metadata": {},
   "outputs": [],
   "source": [
    "# Load Dataset\n",
    "\n",
    "h1b_visa_data_2021 = pd.read_csv(\"data/Combined_LCA_Disclosure_Data_FY2021.csv\")"
   ]
  },
  {
   "cell_type": "code",
   "execution_count": 11,
   "metadata": {},
   "outputs": [
    {
     "data": {
      "text/html": [
       "<div>\n",
       "<style scoped>\n",
       "    .dataframe tbody tr th:only-of-type {\n",
       "        vertical-align: middle;\n",
       "    }\n",
       "\n",
       "    .dataframe tbody tr th {\n",
       "        vertical-align: top;\n",
       "    }\n",
       "\n",
       "    .dataframe thead th {\n",
       "        text-align: right;\n",
       "    }\n",
       "</style>\n",
       "<table border=\"1\" class=\"dataframe\">\n",
       "  <thead>\n",
       "    <tr style=\"text-align: right;\">\n",
       "      <th></th>\n",
       "      <th>CASE_NUMBER</th>\n",
       "      <th>CASE_STATUS</th>\n",
       "      <th>RECEIVED_DATE</th>\n",
       "      <th>DECISION_DATE</th>\n",
       "      <th>ORIGINAL_CERT_DATE</th>\n",
       "      <th>VISA_CLASS</th>\n",
       "      <th>JOB_TITLE</th>\n",
       "      <th>SOC_CODE</th>\n",
       "      <th>SOC_TITLE</th>\n",
       "      <th>FULL_TIME_POSITION</th>\n",
       "      <th>...</th>\n",
       "      <th>WILLFUL_VIOLATOR</th>\n",
       "      <th>SUPPORT_H1B</th>\n",
       "      <th>STATUTORY_BASIS</th>\n",
       "      <th>APPENDIX_A_ATTACHED</th>\n",
       "      <th>PUBLIC_DISCLOSURE</th>\n",
       "      <th>PREPARER_LAST_NAME</th>\n",
       "      <th>PREPARER_FIRST_NAME</th>\n",
       "      <th>PREPARER_MIDDLE_INITIAL</th>\n",
       "      <th>PREPARER_BUSINESS_NAME</th>\n",
       "      <th>PREPARER_EMAIL</th>\n",
       "    </tr>\n",
       "  </thead>\n",
       "  <tbody>\n",
       "    <tr>\n",
       "      <th>0</th>\n",
       "      <td>I-200-20268-843329</td>\n",
       "      <td>Certified</td>\n",
       "      <td>2020-09-24</td>\n",
       "      <td>2020-10-01</td>\n",
       "      <td>NaN</td>\n",
       "      <td>H-1B</td>\n",
       "      <td>Senior Technical Architect</td>\n",
       "      <td>15-1132</td>\n",
       "      <td>Software Developers, Applications</td>\n",
       "      <td>Y</td>\n",
       "      <td>...</td>\n",
       "      <td>N</td>\n",
       "      <td>Y</td>\n",
       "      <td>Wage</td>\n",
       "      <td>NaN</td>\n",
       "      <td>Disclose Business</td>\n",
       "      <td>Chothani</td>\n",
       "      <td>Poorvi</td>\n",
       "      <td>R</td>\n",
       "      <td>The Law office of Poorvi Chothani, PLLC</td>\n",
       "      <td>gov@poorvichothani.com</td>\n",
       "    </tr>\n",
       "    <tr>\n",
       "      <th>1</th>\n",
       "      <td>I-200-20268-843033</td>\n",
       "      <td>Certified</td>\n",
       "      <td>2020-09-24</td>\n",
       "      <td>2020-10-01</td>\n",
       "      <td>NaN</td>\n",
       "      <td>H-1B</td>\n",
       "      <td>Programmer Analyst\\t</td>\n",
       "      <td>15-1131</td>\n",
       "      <td>Computer Programmers</td>\n",
       "      <td>Y</td>\n",
       "      <td>...</td>\n",
       "      <td>N</td>\n",
       "      <td>Y</td>\n",
       "      <td>Wage</td>\n",
       "      <td>NaN</td>\n",
       "      <td>Disclose Business</td>\n",
       "      <td>NaN</td>\n",
       "      <td>NaN</td>\n",
       "      <td>NaN</td>\n",
       "      <td>NaN</td>\n",
       "      <td>NaN</td>\n",
       "    </tr>\n",
       "    <tr>\n",
       "      <th>2</th>\n",
       "      <td>I-200-20268-843527</td>\n",
       "      <td>Certified</td>\n",
       "      <td>2020-09-24</td>\n",
       "      <td>2020-10-01</td>\n",
       "      <td>NaN</td>\n",
       "      <td>H-1B</td>\n",
       "      <td>Software Developer</td>\n",
       "      <td>15-1132</td>\n",
       "      <td>Software Developers, Applications</td>\n",
       "      <td>Y</td>\n",
       "      <td>...</td>\n",
       "      <td>N</td>\n",
       "      <td>Y</td>\n",
       "      <td>Wage</td>\n",
       "      <td>NaN</td>\n",
       "      <td>Disclose Business</td>\n",
       "      <td>NaN</td>\n",
       "      <td>NaN</td>\n",
       "      <td>NaN</td>\n",
       "      <td>NaN</td>\n",
       "      <td>NaN</td>\n",
       "    </tr>\n",
       "    <tr>\n",
       "      <th>3</th>\n",
       "      <td>I-200-20268-844241</td>\n",
       "      <td>Certified</td>\n",
       "      <td>2020-09-24</td>\n",
       "      <td>2020-10-01</td>\n",
       "      <td>NaN</td>\n",
       "      <td>H-1B</td>\n",
       "      <td>JAVA ANALYST 2</td>\n",
       "      <td>15-1121</td>\n",
       "      <td>Computer Systems Analysts</td>\n",
       "      <td>Y</td>\n",
       "      <td>...</td>\n",
       "      <td>N</td>\n",
       "      <td>Y</td>\n",
       "      <td>Wage</td>\n",
       "      <td>NaN</td>\n",
       "      <td>Disclose Business</td>\n",
       "      <td>NaN</td>\n",
       "      <td>NaN</td>\n",
       "      <td>NaN</td>\n",
       "      <td>NaN</td>\n",
       "      <td>NaN</td>\n",
       "    </tr>\n",
       "    <tr>\n",
       "      <th>4</th>\n",
       "      <td>I-200-20268-844003</td>\n",
       "      <td>Certified</td>\n",
       "      <td>2020-09-24</td>\n",
       "      <td>2020-10-01</td>\n",
       "      <td>NaN</td>\n",
       "      <td>H-1B</td>\n",
       "      <td>SQL DATABASE ADMINISTRATOR II</td>\n",
       "      <td>15-1141</td>\n",
       "      <td>Database Administrators</td>\n",
       "      <td>Y</td>\n",
       "      <td>...</td>\n",
       "      <td>N</td>\n",
       "      <td>Y</td>\n",
       "      <td>Wage</td>\n",
       "      <td>NaN</td>\n",
       "      <td>Disclose Business</td>\n",
       "      <td>NaN</td>\n",
       "      <td>NaN</td>\n",
       "      <td>NaN</td>\n",
       "      <td>NaN</td>\n",
       "      <td>NaN</td>\n",
       "    </tr>\n",
       "  </tbody>\n",
       "</table>\n",
       "<p>5 rows × 96 columns</p>\n",
       "</div>"
      ],
      "text/plain": [
       "          CASE_NUMBER CASE_STATUS RECEIVED_DATE DECISION_DATE  \\\n",
       "0  I-200-20268-843329   Certified    2020-09-24    2020-10-01   \n",
       "1  I-200-20268-843033   Certified    2020-09-24    2020-10-01   \n",
       "2  I-200-20268-843527   Certified    2020-09-24    2020-10-01   \n",
       "3  I-200-20268-844241   Certified    2020-09-24    2020-10-01   \n",
       "4  I-200-20268-844003   Certified    2020-09-24    2020-10-01   \n",
       "\n",
       "  ORIGINAL_CERT_DATE VISA_CLASS                      JOB_TITLE SOC_CODE  \\\n",
       "0                NaN       H-1B     Senior Technical Architect  15-1132   \n",
       "1                NaN       H-1B           Programmer Analyst\\t  15-1131   \n",
       "2                NaN       H-1B             Software Developer  15-1132   \n",
       "3                NaN       H-1B                 JAVA ANALYST 2  15-1121   \n",
       "4                NaN       H-1B  SQL DATABASE ADMINISTRATOR II  15-1141   \n",
       "\n",
       "                           SOC_TITLE FULL_TIME_POSITION  ... WILLFUL_VIOLATOR  \\\n",
       "0  Software Developers, Applications                  Y  ...                N   \n",
       "1               Computer Programmers                  Y  ...                N   \n",
       "2  Software Developers, Applications                  Y  ...                N   \n",
       "3          Computer Systems Analysts                  Y  ...                N   \n",
       "4            Database Administrators                  Y  ...                N   \n",
       "\n",
       "  SUPPORT_H1B  STATUTORY_BASIS  APPENDIX_A_ATTACHED  PUBLIC_DISCLOSURE  \\\n",
       "0           Y             Wage                  NaN  Disclose Business   \n",
       "1           Y             Wage                  NaN  Disclose Business   \n",
       "2           Y             Wage                  NaN  Disclose Business   \n",
       "3           Y             Wage                  NaN  Disclose Business   \n",
       "4           Y             Wage                  NaN  Disclose Business   \n",
       "\n",
       "   PREPARER_LAST_NAME  PREPARER_FIRST_NAME  PREPARER_MIDDLE_INITIAL  \\\n",
       "0            Chothani               Poorvi                        R   \n",
       "1                 NaN                  NaN                      NaN   \n",
       "2                 NaN                  NaN                      NaN   \n",
       "3                 NaN                  NaN                      NaN   \n",
       "4                 NaN                  NaN                      NaN   \n",
       "\n",
       "                    PREPARER_BUSINESS_NAME          PREPARER_EMAIL  \n",
       "0  The Law office of Poorvi Chothani, PLLC  gov@poorvichothani.com  \n",
       "1                                      NaN                     NaN  \n",
       "2                                      NaN                     NaN  \n",
       "3                                      NaN                     NaN  \n",
       "4                                      NaN                     NaN  \n",
       "\n",
       "[5 rows x 96 columns]"
      ]
     },
     "execution_count": 11,
     "metadata": {},
     "output_type": "execute_result"
    }
   ],
   "source": [
    "# Data Analysis \n",
    "\n",
    "h1b_visa_data_2021.head()"
   ]
  },
  {
   "cell_type": "code",
   "execution_count": 12,
   "metadata": {},
   "outputs": [
    {
     "data": {
      "text/plain": [
       "Index(['CASE_NUMBER', 'CASE_STATUS', 'RECEIVED_DATE', 'DECISION_DATE',\n",
       "       'ORIGINAL_CERT_DATE', 'VISA_CLASS', 'JOB_TITLE', 'SOC_CODE',\n",
       "       'SOC_TITLE', 'FULL_TIME_POSITION', 'BEGIN_DATE', 'END_DATE',\n",
       "       'TOTAL_WORKER_POSITIONS', 'NEW_EMPLOYMENT', 'CONTINUED_EMPLOYMENT',\n",
       "       'CHANGE_PREVIOUS_EMPLOYMENT', 'NEW_CONCURRENT_EMPLOYMENT',\n",
       "       'CHANGE_EMPLOYER', 'AMENDED_PETITION', 'EMPLOYER_NAME',\n",
       "       'TRADE_NAME_DBA', 'EMPLOYER_ADDRESS1', 'EMPLOYER_ADDRESS2',\n",
       "       'EMPLOYER_CITY', 'EMPLOYER_STATE', 'EMPLOYER_POSTAL_CODE',\n",
       "       'EMPLOYER_COUNTRY', 'EMPLOYER_PROVINCE', 'EMPLOYER_PHONE',\n",
       "       'EMPLOYER_PHONE_EXT', 'NAICS_CODE', 'EMPLOYER_POC_LAST_NAME',\n",
       "       'EMPLOYER_POC_FIRST_NAME', 'EMPLOYER_POC_MIDDLE_NAME',\n",
       "       'EMPLOYER_POC_JOB_TITLE', 'EMPLOYER_POC_ADDRESS1',\n",
       "       'EMPLOYER_POC_ADDRESS2', 'EMPLOYER_POC_CITY', 'EMPLOYER_POC_STATE',\n",
       "       'EMPLOYER_POC_POSTAL_CODE', 'EMPLOYER_POC_COUNTRY',\n",
       "       'EMPLOYER_POC_PROVINCE', 'EMPLOYER_POC_PHONE', 'EMPLOYER_POC_PHONE_EXT',\n",
       "       'EMPLOYER_POC_EMAIL', 'AGENT_REPRESENTING_EMPLOYER',\n",
       "       'AGENT_ATTORNEY_LAST_NAME', 'AGENT_ATTORNEY_FIRST_NAME',\n",
       "       'AGENT_ATTORNEY_MIDDLE_NAME', 'AGENT_ATTORNEY_ADDRESS1',\n",
       "       'AGENT_ATTORNEY_ADDRESS2', 'AGENT_ATTORNEY_CITY',\n",
       "       'AGENT_ATTORNEY_STATE', 'AGENT_ATTORNEY_POSTAL_CODE',\n",
       "       'AGENT_ATTORNEY_COUNTRY', 'AGENT_ATTORNEY_PROVINCE',\n",
       "       'AGENT_ATTORNEY_PHONE', 'AGENT_ATTORNEY_PHONE_EXT',\n",
       "       'AGENT_ATTORNEY_EMAIL_ADDRESS', 'LAWFIRM_NAME_BUSINESS_NAME',\n",
       "       'STATE_OF_HIGHEST_COURT', 'NAME_OF_HIGHEST_STATE_COURT',\n",
       "       'WORKSITE_WORKERS', 'SECONDARY_ENTITY',\n",
       "       'SECONDARY_ENTITY_BUSINESS_NAME', 'WORKSITE_ADDRESS1',\n",
       "       'WORKSITE_ADDRESS2', 'WORKSITE_CITY', 'WORKSITE_COUNTY',\n",
       "       'WORKSITE_STATE', 'WORKSITE_POSTAL_CODE', 'WAGE_RATE_OF_PAY_FROM',\n",
       "       'WAGE_RATE_OF_PAY_TO', 'WAGE_UNIT_OF_PAY', 'PREVAILING_WAGE',\n",
       "       'PW_UNIT_OF_PAY', 'PW_TRACKING_NUMBER', 'PW_WAGE_LEVEL', 'PW_OES_YEAR',\n",
       "       'PW_OTHER_SOURCE', 'PW_OTHER_YEAR', 'PW_SURVEY_PUBLISHER',\n",
       "       'PW_SURVEY_NAME', 'TOTAL_WORKSITE_LOCATIONS', 'AGREE_TO_LC_STATEMENT',\n",
       "       'H_1B_DEPENDENT', 'WILLFUL_VIOLATOR', 'SUPPORT_H1B', 'STATUTORY_BASIS',\n",
       "       'APPENDIX_A_ATTACHED', 'PUBLIC_DISCLOSURE', 'PREPARER_LAST_NAME',\n",
       "       'PREPARER_FIRST_NAME', 'PREPARER_MIDDLE_INITIAL',\n",
       "       'PREPARER_BUSINESS_NAME', 'PREPARER_EMAIL'],\n",
       "      dtype='object')"
      ]
     },
     "execution_count": 12,
     "metadata": {},
     "output_type": "execute_result"
    }
   ],
   "source": [
    "# Features of the data\n",
    "h1b_visa_data_2021.columns"
   ]
  },
  {
   "cell_type": "code",
   "execution_count": 13,
   "metadata": {},
   "outputs": [
    {
     "data": {
      "text/plain": [
       "(826305, 96)"
      ]
     },
     "execution_count": 13,
     "metadata": {},
     "output_type": "execute_result"
    }
   ],
   "source": [
    "# Shape of the data \n",
    "\n",
    "h1b_visa_data_2021.shape"
   ]
  },
  {
   "cell_type": "code",
   "execution_count": 14,
   "metadata": {},
   "outputs": [
    {
     "name": "stdout",
     "output_type": "stream",
     "text": [
      "<class 'pandas.core.frame.DataFrame'>\n",
      "RangeIndex: 826305 entries, 0 to 826304\n",
      "Data columns (total 96 columns):\n",
      " #   Column                          Non-Null Count   Dtype  \n",
      "---  ------                          --------------   -----  \n",
      " 0   CASE_NUMBER                     826305 non-null  object \n",
      " 1   CASE_STATUS                     826305 non-null  object \n",
      " 2   RECEIVED_DATE                   826305 non-null  object \n",
      " 3   DECISION_DATE                   826305 non-null  object \n",
      " 4   ORIGINAL_CERT_DATE              33621 non-null   object \n",
      " 5   VISA_CLASS                      826305 non-null  object \n",
      " 6   JOB_TITLE                       826305 non-null  object \n",
      " 7   SOC_CODE                        826305 non-null  object \n",
      " 8   SOC_TITLE                       826305 non-null  object \n",
      " 9   FULL_TIME_POSITION              826305 non-null  object \n",
      " 10  BEGIN_DATE                      826305 non-null  object \n",
      " 11  END_DATE                        826305 non-null  object \n",
      " 12  TOTAL_WORKER_POSITIONS          826305 non-null  int64  \n",
      " 13  NEW_EMPLOYMENT                  826305 non-null  int64  \n",
      " 14  CONTINUED_EMPLOYMENT            826305 non-null  int64  \n",
      " 15  CHANGE_PREVIOUS_EMPLOYMENT      826305 non-null  int64  \n",
      " 16  NEW_CONCURRENT_EMPLOYMENT       826305 non-null  int64  \n",
      " 17  CHANGE_EMPLOYER                 826305 non-null  int64  \n",
      " 18  AMENDED_PETITION                826305 non-null  int64  \n",
      " 19  EMPLOYER_NAME                   826303 non-null  object \n",
      " 20  TRADE_NAME_DBA                  82779 non-null   object \n",
      " 21  EMPLOYER_ADDRESS1               826305 non-null  object \n",
      " 22  EMPLOYER_ADDRESS2               387416 non-null  object \n",
      " 23  EMPLOYER_CITY                   826305 non-null  object \n",
      " 24  EMPLOYER_STATE                  826294 non-null  object \n",
      " 25  EMPLOYER_POSTAL_CODE            826305 non-null  object \n",
      " 26  EMPLOYER_COUNTRY                826305 non-null  object \n",
      " 27  EMPLOYER_PROVINCE               58919 non-null   object \n",
      " 28  EMPLOYER_PHONE                  826305 non-null  int64  \n",
      " 29  EMPLOYER_PHONE_EXT              51237 non-null   float64\n",
      " 30  NAICS_CODE                      826305 non-null  int64  \n",
      " 31  EMPLOYER_POC_LAST_NAME          826301 non-null  object \n",
      " 32  EMPLOYER_POC_FIRST_NAME         826295 non-null  object \n",
      " 33  EMPLOYER_POC_MIDDLE_NAME        145045 non-null  object \n",
      " 34  EMPLOYER_POC_JOB_TITLE          826305 non-null  object \n",
      " 35  EMPLOYER_POC_ADDRESS1           826305 non-null  object \n",
      " 36  EMPLOYER_POC_ADDRESS2           398630 non-null  object \n",
      " 37  EMPLOYER_POC_CITY               826305 non-null  object \n",
      " 38  EMPLOYER_POC_STATE              825638 non-null  object \n",
      " 39  EMPLOYER_POC_POSTAL_CODE        826305 non-null  object \n",
      " 40  EMPLOYER_POC_COUNTRY            826305 non-null  object \n",
      " 41  EMPLOYER_POC_PROVINCE           1635 non-null    object \n",
      " 42  EMPLOYER_POC_PHONE              826305 non-null  int64  \n",
      " 43  EMPLOYER_POC_PHONE_EXT          52457 non-null   float64\n",
      " 44  EMPLOYER_POC_EMAIL              809732 non-null  object \n",
      " 45  AGENT_REPRESENTING_EMPLOYER     826305 non-null  object \n",
      " 46  AGENT_ATTORNEY_LAST_NAME        597708 non-null  object \n",
      " 47  AGENT_ATTORNEY_FIRST_NAME       597708 non-null  object \n",
      " 48  AGENT_ATTORNEY_MIDDLE_NAME      326922 non-null  object \n",
      " 49  AGENT_ATTORNEY_ADDRESS1         597708 non-null  object \n",
      " 50  AGENT_ATTORNEY_ADDRESS2         466587 non-null  object \n",
      " 51  AGENT_ATTORNEY_CITY             597708 non-null  object \n",
      " 52  AGENT_ATTORNEY_STATE            597708 non-null  object \n",
      " 53  AGENT_ATTORNEY_POSTAL_CODE      597708 non-null  object \n",
      " 54  AGENT_ATTORNEY_COUNTRY          597708 non-null  object \n",
      " 55  AGENT_ATTORNEY_PROVINCE         28344 non-null   object \n",
      " 56  AGENT_ATTORNEY_PHONE            597708 non-null  float64\n",
      " 57  AGENT_ATTORNEY_PHONE_EXT        42862 non-null   float64\n",
      " 58  AGENT_ATTORNEY_EMAIL_ADDRESS    597526 non-null  object \n",
      " 59  LAWFIRM_NAME_BUSINESS_NAME      597708 non-null  object \n",
      " 60  STATE_OF_HIGHEST_COURT          596564 non-null  object \n",
      " 61  NAME_OF_HIGHEST_STATE_COURT     596535 non-null  object \n",
      " 62  WORKSITE_WORKERS                826304 non-null  float64\n",
      " 63  SECONDARY_ENTITY                826305 non-null  object \n",
      " 64  SECONDARY_ENTITY_BUSINESS_NAME  211233 non-null  object \n",
      " 65  WORKSITE_ADDRESS1               826304 non-null  object \n",
      " 66  WORKSITE_ADDRESS2               235305 non-null  object \n",
      " 67  WORKSITE_CITY                   826292 non-null  object \n",
      " 68  WORKSITE_COUNTY                 826291 non-null  object \n",
      " 69  WORKSITE_STATE                  826304 non-null  object \n",
      " 70  WORKSITE_POSTAL_CODE            826304 non-null  object \n",
      " 71  WAGE_RATE_OF_PAY_FROM           826304 non-null  float64\n",
      " 72  WAGE_RATE_OF_PAY_TO             275581 non-null  float64\n",
      " 73  WAGE_UNIT_OF_PAY                826304 non-null  object \n",
      " 74  PREVAILING_WAGE                 826304 non-null  float64\n",
      " 75  PW_UNIT_OF_PAY                  826304 non-null  object \n",
      " 76  PW_TRACKING_NUMBER              2067 non-null    object \n",
      " 77  PW_WAGE_LEVEL                   740300 non-null  object \n",
      " 78  PW_OES_YEAR                     746257 non-null  object \n",
      " 79  PW_OTHER_SOURCE                 77980 non-null   object \n",
      " 80  PW_OTHER_YEAR                   77980 non-null   float64\n",
      " 81  PW_SURVEY_PUBLISHER             70760 non-null   object \n",
      " 82  PW_SURVEY_NAME                  70738 non-null   object \n",
      " 83  TOTAL_WORKSITE_LOCATIONS        826305 non-null  int64  \n",
      " 84  AGREE_TO_LC_STATEMENT           826305 non-null  object \n",
      " 85  H_1B_DEPENDENT                  804242 non-null  object \n",
      " 86  WILLFUL_VIOLATOR                804234 non-null  object \n",
      " 87  SUPPORT_H1B                     237062 non-null  object \n",
      " 88  STATUTORY_BASIS                 235367 non-null  object \n",
      " 89  APPENDIX_A_ATTACHED             863 non-null     object \n",
      " 90  PUBLIC_DISCLOSURE               826110 non-null  object \n",
      " 91  PREPARER_LAST_NAME              398073 non-null  object \n",
      " 92  PREPARER_FIRST_NAME             398063 non-null  object \n",
      " 93  PREPARER_MIDDLE_INITIAL         161279 non-null  object \n",
      " 94  PREPARER_BUSINESS_NAME          411728 non-null  object \n",
      " 95  PREPARER_EMAIL                  406067 non-null  object \n",
      "dtypes: float64(9), int64(11), object(76)\n",
      "memory usage: 605.2+ MB\n"
     ]
    }
   ],
   "source": [
    "# Info of the data\n",
    "\n",
    "h1b_visa_data_2021.info()"
   ]
  },
  {
   "cell_type": "code",
   "execution_count": 15,
   "metadata": {},
   "outputs": [
    {
     "data": {
      "text/html": [
       "<div>\n",
       "<style scoped>\n",
       "    .dataframe tbody tr th:only-of-type {\n",
       "        vertical-align: middle;\n",
       "    }\n",
       "\n",
       "    .dataframe tbody tr th {\n",
       "        vertical-align: top;\n",
       "    }\n",
       "\n",
       "    .dataframe thead th {\n",
       "        text-align: right;\n",
       "    }\n",
       "</style>\n",
       "<table border=\"1\" class=\"dataframe\">\n",
       "  <thead>\n",
       "    <tr style=\"text-align: right;\">\n",
       "      <th></th>\n",
       "      <th>TOTAL_WORKER_POSITIONS</th>\n",
       "      <th>NEW_EMPLOYMENT</th>\n",
       "      <th>CONTINUED_EMPLOYMENT</th>\n",
       "      <th>CHANGE_PREVIOUS_EMPLOYMENT</th>\n",
       "      <th>NEW_CONCURRENT_EMPLOYMENT</th>\n",
       "      <th>CHANGE_EMPLOYER</th>\n",
       "      <th>AMENDED_PETITION</th>\n",
       "      <th>EMPLOYER_PHONE</th>\n",
       "      <th>EMPLOYER_PHONE_EXT</th>\n",
       "      <th>NAICS_CODE</th>\n",
       "      <th>EMPLOYER_POC_PHONE</th>\n",
       "      <th>EMPLOYER_POC_PHONE_EXT</th>\n",
       "      <th>AGENT_ATTORNEY_PHONE</th>\n",
       "      <th>AGENT_ATTORNEY_PHONE_EXT</th>\n",
       "      <th>WORKSITE_WORKERS</th>\n",
       "      <th>WAGE_RATE_OF_PAY_FROM</th>\n",
       "      <th>WAGE_RATE_OF_PAY_TO</th>\n",
       "      <th>PREVAILING_WAGE</th>\n",
       "      <th>PW_OTHER_YEAR</th>\n",
       "      <th>TOTAL_WORKSITE_LOCATIONS</th>\n",
       "    </tr>\n",
       "  </thead>\n",
       "  <tbody>\n",
       "    <tr>\n",
       "      <th>count</th>\n",
       "      <td>826305.000000</td>\n",
       "      <td>826305.000000</td>\n",
       "      <td>826305.000000</td>\n",
       "      <td>826305.000000</td>\n",
       "      <td>826305.000000</td>\n",
       "      <td>826305.000000</td>\n",
       "      <td>826305.000000</td>\n",
       "      <td>8.263050e+05</td>\n",
       "      <td>51237.000000</td>\n",
       "      <td>826305.000000</td>\n",
       "      <td>8.263050e+05</td>\n",
       "      <td>52457.000000</td>\n",
       "      <td>5.977080e+05</td>\n",
       "      <td>42862.000000</td>\n",
       "      <td>826304.000000</td>\n",
       "      <td>8.263040e+05</td>\n",
       "      <td>2.755810e+05</td>\n",
       "      <td>826304.00000</td>\n",
       "      <td>77980.000000</td>\n",
       "      <td>826305.000000</td>\n",
       "    </tr>\n",
       "    <tr>\n",
       "      <th>mean</th>\n",
       "      <td>2.171127</td>\n",
       "      <td>0.783414</td>\n",
       "      <td>0.458559</td>\n",
       "      <td>0.204738</td>\n",
       "      <td>0.011018</td>\n",
       "      <td>0.367035</td>\n",
       "      <td>0.350256</td>\n",
       "      <td>1.598002e+10</td>\n",
       "      <td>506.438765</td>\n",
       "      <td>419273.526665</td>\n",
       "      <td>1.723350e+10</td>\n",
       "      <td>747.802600</td>\n",
       "      <td>1.509250e+10</td>\n",
       "      <td>882.013042</td>\n",
       "      <td>2.170044</td>\n",
       "      <td>1.075382e+05</td>\n",
       "      <td>1.302524e+05</td>\n",
       "      <td>94172.56927</td>\n",
       "      <td>2020.020159</td>\n",
       "      <td>1.497902</td>\n",
       "    </tr>\n",
       "    <tr>\n",
       "      <th>std</th>\n",
       "      <td>8.254991</td>\n",
       "      <td>5.033861</td>\n",
       "      <td>4.244532</td>\n",
       "      <td>1.858493</td>\n",
       "      <td>0.164595</td>\n",
       "      <td>2.117312</td>\n",
       "      <td>1.830674</td>\n",
       "      <td>5.684077e+10</td>\n",
       "      <td>1341.534073</td>\n",
       "      <td>210929.074576</td>\n",
       "      <td>2.331964e+11</td>\n",
       "      <td>1686.966146</td>\n",
       "      <td>2.794445e+10</td>\n",
       "      <td>2122.088346</td>\n",
       "      <td>8.252787</td>\n",
       "      <td>7.107891e+04</td>\n",
       "      <td>6.129883e+05</td>\n",
       "      <td>40046.33134</td>\n",
       "      <td>0.699639</td>\n",
       "      <td>0.694445</td>\n",
       "    </tr>\n",
       "    <tr>\n",
       "      <th>min</th>\n",
       "      <td>1.000000</td>\n",
       "      <td>0.000000</td>\n",
       "      <td>0.000000</td>\n",
       "      <td>0.000000</td>\n",
       "      <td>0.000000</td>\n",
       "      <td>0.000000</td>\n",
       "      <td>0.000000</td>\n",
       "      <td>1.042848e+09</td>\n",
       "      <td>0.000000</td>\n",
       "      <td>1113.000000</td>\n",
       "      <td>1.047921e+09</td>\n",
       "      <td>0.000000</td>\n",
       "      <td>1.089191e+09</td>\n",
       "      <td>0.000000</td>\n",
       "      <td>1.000000</td>\n",
       "      <td>1.000000e+01</td>\n",
       "      <td>1.034000e+01</td>\n",
       "      <td>7.25000</td>\n",
       "      <td>1990.000000</td>\n",
       "      <td>1.000000</td>\n",
       "    </tr>\n",
       "    <tr>\n",
       "      <th>25%</th>\n",
       "      <td>1.000000</td>\n",
       "      <td>0.000000</td>\n",
       "      <td>0.000000</td>\n",
       "      <td>0.000000</td>\n",
       "      <td>0.000000</td>\n",
       "      <td>0.000000</td>\n",
       "      <td>0.000000</td>\n",
       "      <td>1.312733e+10</td>\n",
       "      <td>0.000000</td>\n",
       "      <td>334112.000000</td>\n",
       "      <td>1.313546e+10</td>\n",
       "      <td>0.000000</td>\n",
       "      <td>1.303639e+10</td>\n",
       "      <td>18.000000</td>\n",
       "      <td>1.000000</td>\n",
       "      <td>8.000000e+04</td>\n",
       "      <td>9.500000e+04</td>\n",
       "      <td>74006.00000</td>\n",
       "      <td>2020.000000</td>\n",
       "      <td>1.000000</td>\n",
       "    </tr>\n",
       "    <tr>\n",
       "      <th>50%</th>\n",
       "      <td>1.000000</td>\n",
       "      <td>0.000000</td>\n",
       "      <td>0.000000</td>\n",
       "      <td>0.000000</td>\n",
       "      <td>0.000000</td>\n",
       "      <td>0.000000</td>\n",
       "      <td>0.000000</td>\n",
       "      <td>1.517353e+10</td>\n",
       "      <td>0.000000</td>\n",
       "      <td>541511.000000</td>\n",
       "      <td>1.540283e+10</td>\n",
       "      <td>100.000000</td>\n",
       "      <td>1.469291e+10</td>\n",
       "      <td>110.000000</td>\n",
       "      <td>1.000000</td>\n",
       "      <td>1.010000e+05</td>\n",
       "      <td>1.215580e+05</td>\n",
       "      <td>93538.00000</td>\n",
       "      <td>2020.000000</td>\n",
       "      <td>1.000000</td>\n",
       "    </tr>\n",
       "    <tr>\n",
       "      <th>75%</th>\n",
       "      <td>1.000000</td>\n",
       "      <td>1.000000</td>\n",
       "      <td>1.000000</td>\n",
       "      <td>0.000000</td>\n",
       "      <td>0.000000</td>\n",
       "      <td>0.000000</td>\n",
       "      <td>0.000000</td>\n",
       "      <td>1.732638e+10</td>\n",
       "      <td>201.000000</td>\n",
       "      <td>541511.000000</td>\n",
       "      <td>1.732726e+10</td>\n",
       "      <td>501.000000</td>\n",
       "      <td>1.703519e+10</td>\n",
       "      <td>230.000000</td>\n",
       "      <td>1.000000</td>\n",
       "      <td>1.315000e+05</td>\n",
       "      <td>1.562500e+05</td>\n",
       "      <td>117125.00000</td>\n",
       "      <td>2020.000000</td>\n",
       "      <td>2.000000</td>\n",
       "    </tr>\n",
       "    <tr>\n",
       "      <th>max</th>\n",
       "      <td>300.000000</td>\n",
       "      <td>150.000000</td>\n",
       "      <td>200.000000</td>\n",
       "      <td>100.000000</td>\n",
       "      <td>15.000000</td>\n",
       "      <td>275.000000</td>\n",
       "      <td>300.000000</td>\n",
       "      <td>1.180012e+13</td>\n",
       "      <td>9639.000000</td>\n",
       "      <td>928120.000000</td>\n",
       "      <td>9.721631e+13</td>\n",
       "      <td>9484.000000</td>\n",
       "      <td>9.722022e+12</td>\n",
       "      <td>9866.000000</td>\n",
       "      <td>300.000000</td>\n",
       "      <td>1.938000e+07</td>\n",
       "      <td>3.152363e+08</td>\n",
       "      <td>431897.00000</td>\n",
       "      <td>2021.000000</td>\n",
       "      <td>10.000000</td>\n",
       "    </tr>\n",
       "  </tbody>\n",
       "</table>\n",
       "</div>"
      ],
      "text/plain": [
       "       TOTAL_WORKER_POSITIONS  NEW_EMPLOYMENT  CONTINUED_EMPLOYMENT  \\\n",
       "count           826305.000000   826305.000000         826305.000000   \n",
       "mean                 2.171127        0.783414              0.458559   \n",
       "std                  8.254991        5.033861              4.244532   \n",
       "min                  1.000000        0.000000              0.000000   \n",
       "25%                  1.000000        0.000000              0.000000   \n",
       "50%                  1.000000        0.000000              0.000000   \n",
       "75%                  1.000000        1.000000              1.000000   \n",
       "max                300.000000      150.000000            200.000000   \n",
       "\n",
       "       CHANGE_PREVIOUS_EMPLOYMENT  NEW_CONCURRENT_EMPLOYMENT  CHANGE_EMPLOYER  \\\n",
       "count               826305.000000              826305.000000    826305.000000   \n",
       "mean                     0.204738                   0.011018         0.367035   \n",
       "std                      1.858493                   0.164595         2.117312   \n",
       "min                      0.000000                   0.000000         0.000000   \n",
       "25%                      0.000000                   0.000000         0.000000   \n",
       "50%                      0.000000                   0.000000         0.000000   \n",
       "75%                      0.000000                   0.000000         0.000000   \n",
       "max                    100.000000                  15.000000       275.000000   \n",
       "\n",
       "       AMENDED_PETITION  EMPLOYER_PHONE  EMPLOYER_PHONE_EXT     NAICS_CODE  \\\n",
       "count     826305.000000    8.263050e+05        51237.000000  826305.000000   \n",
       "mean           0.350256    1.598002e+10          506.438765  419273.526665   \n",
       "std            1.830674    5.684077e+10         1341.534073  210929.074576   \n",
       "min            0.000000    1.042848e+09            0.000000    1113.000000   \n",
       "25%            0.000000    1.312733e+10            0.000000  334112.000000   \n",
       "50%            0.000000    1.517353e+10            0.000000  541511.000000   \n",
       "75%            0.000000    1.732638e+10          201.000000  541511.000000   \n",
       "max          300.000000    1.180012e+13         9639.000000  928120.000000   \n",
       "\n",
       "       EMPLOYER_POC_PHONE  EMPLOYER_POC_PHONE_EXT  AGENT_ATTORNEY_PHONE  \\\n",
       "count        8.263050e+05            52457.000000          5.977080e+05   \n",
       "mean         1.723350e+10              747.802600          1.509250e+10   \n",
       "std          2.331964e+11             1686.966146          2.794445e+10   \n",
       "min          1.047921e+09                0.000000          1.089191e+09   \n",
       "25%          1.313546e+10                0.000000          1.303639e+10   \n",
       "50%          1.540283e+10              100.000000          1.469291e+10   \n",
       "75%          1.732726e+10              501.000000          1.703519e+10   \n",
       "max          9.721631e+13             9484.000000          9.722022e+12   \n",
       "\n",
       "       AGENT_ATTORNEY_PHONE_EXT  WORKSITE_WORKERS  WAGE_RATE_OF_PAY_FROM  \\\n",
       "count              42862.000000     826304.000000           8.263040e+05   \n",
       "mean                 882.013042          2.170044           1.075382e+05   \n",
       "std                 2122.088346          8.252787           7.107891e+04   \n",
       "min                    0.000000          1.000000           1.000000e+01   \n",
       "25%                   18.000000          1.000000           8.000000e+04   \n",
       "50%                  110.000000          1.000000           1.010000e+05   \n",
       "75%                  230.000000          1.000000           1.315000e+05   \n",
       "max                 9866.000000        300.000000           1.938000e+07   \n",
       "\n",
       "       WAGE_RATE_OF_PAY_TO  PREVAILING_WAGE  PW_OTHER_YEAR  \\\n",
       "count         2.755810e+05     826304.00000   77980.000000   \n",
       "mean          1.302524e+05      94172.56927    2020.020159   \n",
       "std           6.129883e+05      40046.33134       0.699639   \n",
       "min           1.034000e+01          7.25000    1990.000000   \n",
       "25%           9.500000e+04      74006.00000    2020.000000   \n",
       "50%           1.215580e+05      93538.00000    2020.000000   \n",
       "75%           1.562500e+05     117125.00000    2020.000000   \n",
       "max           3.152363e+08     431897.00000    2021.000000   \n",
       "\n",
       "       TOTAL_WORKSITE_LOCATIONS  \n",
       "count             826305.000000  \n",
       "mean                   1.497902  \n",
       "std                    0.694445  \n",
       "min                    1.000000  \n",
       "25%                    1.000000  \n",
       "50%                    1.000000  \n",
       "75%                    2.000000  \n",
       "max                   10.000000  "
      ]
     },
     "execution_count": 15,
     "metadata": {},
     "output_type": "execute_result"
    }
   ],
   "source": [
    "# Statistical description\n",
    "\n",
    "h1b_visa_data_2021.describe()"
   ]
  },
  {
   "cell_type": "code",
   "execution_count": 16,
   "metadata": {},
   "outputs": [
    {
     "data": {
      "text/plain": [
       "CASE_NUMBER                     0\n",
       "CASE_STATUS                     0\n",
       "RECEIVED_DATE                   0\n",
       "DECISION_DATE                   0\n",
       "ORIGINAL_CERT_DATE         792684\n",
       "                            ...  \n",
       "PREPARER_LAST_NAME         428232\n",
       "PREPARER_FIRST_NAME        428242\n",
       "PREPARER_MIDDLE_INITIAL    665026\n",
       "PREPARER_BUSINESS_NAME     414577\n",
       "PREPARER_EMAIL             420238\n",
       "Length: 96, dtype: int64"
      ]
     },
     "execution_count": 16,
     "metadata": {},
     "output_type": "execute_result"
    }
   ],
   "source": [
    "# Data cleaning\n",
    "\n",
    "h1b_visa_data_2021.isnull().sum()"
   ]
  },
  {
   "cell_type": "code",
   "execution_count": 17,
   "metadata": {},
   "outputs": [],
   "source": [
    "# Handling missing values\n",
    "\n",
    "h1b_visa_data_2021.fillna(h1b_visa_data_2021.median(numeric_only=True),inplace=True)"
   ]
  },
  {
   "cell_type": "code",
   "execution_count": 18,
   "metadata": {},
   "outputs": [
    {
     "name": "stdout",
     "output_type": "stream",
     "text": [
      "CASE_NUMBER 0\n",
      "CASE_STATUS 0\n",
      "RECEIVED_DATE 0\n",
      "DECISION_DATE 0\n",
      "ORIGINAL_CERT_DATE 792684\n",
      "VISA_CLASS 0\n",
      "JOB_TITLE 0\n",
      "SOC_CODE 0\n",
      "SOC_TITLE 0\n",
      "FULL_TIME_POSITION 0\n",
      "BEGIN_DATE 0\n",
      "END_DATE 0\n",
      "TOTAL_WORKER_POSITIONS 0\n",
      "NEW_EMPLOYMENT 0\n",
      "CONTINUED_EMPLOYMENT 0\n",
      "CHANGE_PREVIOUS_EMPLOYMENT 0\n",
      "NEW_CONCURRENT_EMPLOYMENT 0\n",
      "CHANGE_EMPLOYER 0\n",
      "AMENDED_PETITION 0\n",
      "EMPLOYER_NAME 2\n",
      "TRADE_NAME_DBA 743526\n",
      "EMPLOYER_ADDRESS1 0\n",
      "EMPLOYER_ADDRESS2 438889\n",
      "EMPLOYER_CITY 0\n",
      "EMPLOYER_STATE 11\n",
      "EMPLOYER_POSTAL_CODE 0\n",
      "EMPLOYER_COUNTRY 0\n",
      "EMPLOYER_PROVINCE 767386\n",
      "EMPLOYER_PHONE 0\n",
      "EMPLOYER_PHONE_EXT 0\n",
      "NAICS_CODE 0\n",
      "EMPLOYER_POC_LAST_NAME 4\n",
      "EMPLOYER_POC_FIRST_NAME 10\n",
      "EMPLOYER_POC_MIDDLE_NAME 681260\n",
      "EMPLOYER_POC_JOB_TITLE 0\n",
      "EMPLOYER_POC_ADDRESS1 0\n",
      "EMPLOYER_POC_ADDRESS2 427675\n",
      "EMPLOYER_POC_CITY 0\n",
      "EMPLOYER_POC_STATE 667\n",
      "EMPLOYER_POC_POSTAL_CODE 0\n",
      "EMPLOYER_POC_COUNTRY 0\n",
      "EMPLOYER_POC_PROVINCE 824670\n",
      "EMPLOYER_POC_PHONE 0\n",
      "EMPLOYER_POC_PHONE_EXT 0\n",
      "EMPLOYER_POC_EMAIL 16573\n",
      "AGENT_REPRESENTING_EMPLOYER 0\n",
      "AGENT_ATTORNEY_LAST_NAME 228597\n",
      "AGENT_ATTORNEY_FIRST_NAME 228597\n",
      "AGENT_ATTORNEY_MIDDLE_NAME 499383\n",
      "AGENT_ATTORNEY_ADDRESS1 228597\n",
      "AGENT_ATTORNEY_ADDRESS2 359718\n",
      "AGENT_ATTORNEY_CITY 228597\n",
      "AGENT_ATTORNEY_STATE 228597\n",
      "AGENT_ATTORNEY_POSTAL_CODE 228597\n",
      "AGENT_ATTORNEY_COUNTRY 228597\n",
      "AGENT_ATTORNEY_PROVINCE 797961\n",
      "AGENT_ATTORNEY_PHONE 0\n",
      "AGENT_ATTORNEY_PHONE_EXT 0\n",
      "AGENT_ATTORNEY_EMAIL_ADDRESS 228779\n",
      "LAWFIRM_NAME_BUSINESS_NAME 228597\n",
      "STATE_OF_HIGHEST_COURT 229741\n",
      "NAME_OF_HIGHEST_STATE_COURT 229770\n",
      "WORKSITE_WORKERS 0\n",
      "SECONDARY_ENTITY 0\n",
      "SECONDARY_ENTITY_BUSINESS_NAME 615072\n",
      "WORKSITE_ADDRESS1 1\n",
      "WORKSITE_ADDRESS2 591000\n",
      "WORKSITE_CITY 13\n",
      "WORKSITE_COUNTY 14\n",
      "WORKSITE_STATE 1\n",
      "WORKSITE_POSTAL_CODE 1\n",
      "WAGE_RATE_OF_PAY_FROM 0\n",
      "WAGE_RATE_OF_PAY_TO 0\n",
      "WAGE_UNIT_OF_PAY 1\n",
      "PREVAILING_WAGE 0\n",
      "PW_UNIT_OF_PAY 1\n",
      "PW_TRACKING_NUMBER 824238\n",
      "PW_WAGE_LEVEL 86005\n",
      "PW_OES_YEAR 80048\n",
      "PW_OTHER_SOURCE 748325\n",
      "PW_OTHER_YEAR 0\n",
      "PW_SURVEY_PUBLISHER 755545\n",
      "PW_SURVEY_NAME 755567\n",
      "TOTAL_WORKSITE_LOCATIONS 0\n",
      "AGREE_TO_LC_STATEMENT 0\n",
      "H_1B_DEPENDENT 22063\n",
      "WILLFUL_VIOLATOR 22071\n",
      "SUPPORT_H1B 589243\n",
      "STATUTORY_BASIS 590938\n",
      "APPENDIX_A_ATTACHED 825442\n",
      "PUBLIC_DISCLOSURE 195\n",
      "PREPARER_LAST_NAME 428232\n",
      "PREPARER_FIRST_NAME 428242\n",
      "PREPARER_MIDDLE_INITIAL 665026\n",
      "PREPARER_BUSINESS_NAME 414577\n",
      "PREPARER_EMAIL 420238\n"
     ]
    }
   ],
   "source": [
    "column_list = h1b_visa_data_2021.columns.tolist()\n",
    "\n",
    "for column_list in column_list:\n",
    "    print(column_list,h1b_visa_data_2021[column_list].isnull().sum())\n",
    "   "
   ]
  },
  {
   "cell_type": "code",
   "execution_count": 19,
   "metadata": {},
   "outputs": [],
   "source": [
    "# Dropping null rows\n",
    "\n",
    "h1b_visa_data_2021 = h1b_visa_data_2021.dropna(subset=[\"EMPLOYER_NAME\", \"EMPLOYER_STATE\", \"WORKSITE_STATE\"])"
   ]
  },
  {
   "cell_type": "code",
   "execution_count": 21,
   "metadata": {},
   "outputs": [
    {
     "data": {
      "text/plain": [
       "np.int64(159266)"
      ]
     },
     "execution_count": 21,
     "metadata": {},
     "output_type": "execute_result"
    }
   ],
   "source": [
    "# Checking for duplicates \n",
    "\n",
    "h1b_visa_data_2021.duplicated().sum()"
   ]
  },
  {
   "cell_type": "code",
   "execution_count": 22,
   "metadata": {},
   "outputs": [],
   "source": [
    "# Removing duplicate entry \n",
    "\n",
    "h1b_visa_data_2021.drop_duplicates(inplace=True)"
   ]
  },
  {
   "cell_type": "code",
   "execution_count": 23,
   "metadata": {},
   "outputs": [
    {
     "data": {
      "text/plain": [
       "np.int64(0)"
      ]
     },
     "execution_count": 23,
     "metadata": {},
     "output_type": "execute_result"
    }
   ],
   "source": [
    "# Verifying the removal of duplicates\n",
    "\n",
    "h1b_visa_data_2021.duplicated().sum()"
   ]
  },
  {
   "cell_type": "code",
   "execution_count": 25,
   "metadata": {},
   "outputs": [
    {
     "data": {
      "text/plain": [
       "array(['Certified', 'Certified - Withdrawn', 'Denied', 'Withdrawn'],\n",
       "      dtype=object)"
      ]
     },
     "execution_count": 25,
     "metadata": {},
     "output_type": "execute_result"
    }
   ],
   "source": [
    "# Checking the unique values of case status\n",
    "\n",
    "h1b_visa_data_2021['CASE_STATUS'].unique()"
   ]
  },
  {
   "cell_type": "code",
   "execution_count": 26,
   "metadata": {},
   "outputs": [
    {
     "data": {
      "text/plain": [
       "CASE_STATUS\n",
       "Certified                623826\n",
       "Certified - Withdrawn     27115\n",
       "Withdrawn                 12650\n",
       "Denied                     3434\n",
       "Name: count, dtype: int64"
      ]
     },
     "execution_count": 26,
     "metadata": {},
     "output_type": "execute_result"
    }
   ],
   "source": [
    "# Counting the values of each case status\n",
    "\n",
    "h1b_visa_data_2021['CASE_STATUS'].value_counts()"
   ]
  },
  {
   "cell_type": "markdown",
   "metadata": {},
   "source": [
    "In 2021, there were 623826 certified applicant which means 93.5% of the total applicant were approved. Similarly, 27115 were approved initially, but the employer later decided to withdraw it. 12650 withdrawn their application whereas only 3434(0.51%) were denied. "
   ]
  },
  {
   "cell_type": "code",
   "execution_count": 27,
   "metadata": {},
   "outputs": [],
   "source": [
    "# Filtered dataset for certified case only \n",
    "\n",
    "h1b_visa_data_2021_certified = h1b_visa_data_2021[h1b_visa_data_2021['CASE_STATUS']=='Certified']"
   ]
  },
  {
   "cell_type": "code",
   "execution_count": 28,
   "metadata": {},
   "outputs": [
    {
     "data": {
      "text/plain": [
       "JOB_TITLE\n",
       "Software Engineer                   24181\n",
       "Software Developer                  18433\n",
       "Senior Software Engineer             7583\n",
       "SOFTWARE DEVELOPER                   7200\n",
       "SOFTWARE ENGINEER                    6508\n",
       "Senior Systems Analyst JC60          5700\n",
       "Manager JC50                         5455\n",
       "Assistant Professor                  4038\n",
       "Associate                            2767\n",
       "Analyst                              2660\n",
       "Architect                            2541\n",
       "SOFTWARE DEVELOPMENT ENGINEER II     2399\n",
       "Data Scientist                       2377\n",
       "Senior Software Developer            2236\n",
       "Data Engineer                        1937\n",
       "Java Developer                       1888\n",
       "Project Manager                      1837\n",
       "Business Analyst                     1718\n",
       "Consultant                           1694\n",
       "Software Developer                   1670\n",
       "Vice President                       1654\n",
       "Sr. SQL Database Administrator       1594\n",
       "Programmer Analyst                   1593\n",
       "Software Engineer                    1590\n",
       "Senior Consultant                    1575\n",
       "Application Developer                1533\n",
       "Software Developer, Applications     1510\n",
       "Research Associate                   1484\n",
       "SENIOR SOFTWARE ENGINEER             1476\n",
       "Software Engineer II                 1423\n",
       "Software Engineer III                1415\n",
       "Systems Analyst                      1363\n",
       "System Analyst JC65                  1327\n",
       "Technical Lead                       1319\n",
       "Physical Therapist                   1309\n",
       "Software Development Engineer        1305\n",
       "Manager                              1277\n",
       "Research Scientist                   1264\n",
       "Lead Engineer                        1219\n",
       "Technology Lead - US                 1182\n",
       "Sr. Software Engineer                1173\n",
       "Component Design Engineer            1145\n",
       "Product Manager                      1134\n",
       "Data Analyst                         1107\n",
       "DevOps Engineer                      1097\n",
       "Mechanical Engineer                  1097\n",
       "SOFTWARE DEVELOPMENT ENGINEER I      1096\n",
       "Staff Software Engineer              1053\n",
       "Computer Systems Analyst             1043\n",
       "Systems Engineer                     1004\n",
       "Senior Manager JC45                   968\n",
       "Project Engineer                      944\n",
       "Database Administrator                925\n",
       "JAVA DEVELOPER                        905\n",
       "Computer Programmer                   880\n",
       "ASSOCIATE                             873\n",
       "Senior Engineer                       870\n",
       "Postdoctoral Fellow                   866\n",
       "Developer                             863\n",
       "Research Fellow                       854\n",
       "Name: count, dtype: int64"
      ]
     },
     "execution_count": 28,
     "metadata": {},
     "output_type": "execute_result"
    }
   ],
   "source": [
    "# Distribution of job title on certified case \n",
    "\n",
    "h1b_visa_data_2021_certified['JOB_TITLE'].value_counts().head(60)"
   ]
  },
  {
   "cell_type": "code",
   "execution_count": 29,
   "metadata": {},
   "outputs": [
    {
     "data": {
      "text/plain": [
       "JOB_TITLE\n",
       "Digital Product Owner  - Marketplace                     1\n",
       " Information Systems Manager                             1\n",
       "Information system Director                              1\n",
       "HCM Integrations Specialist                              1\n",
       "Software Services Group Manager                          1\n",
       "Korean Teacher                                           1\n",
       "Director, Vehicle Controls                               1\n",
       "Manager, Service Engineering                             1\n",
       "Director of Shared Services - Capital                    1\n",
       "Vice President, Implementation                           1\n",
       "Senior Manager, Marketing Programs                       1\n",
       "Senior Manager, Science Ventures                         1\n",
       "Manager Global Integrated Supply Systems                 1\n",
       "Manager, Project Management- Distribution                1\n",
       "Vice President Oil & Gas International                   1\n",
       "National Manager, Scheduling and Supply Planning         1\n",
       "Director, Asset Liability Management & Treasury          1\n",
       "DIRECTOR, INSURANCE                                      1\n",
       "Director-Global Finance Business Planning Marketplace    1\n",
       "Group Controller & Chief Accounting Officer              1\n",
       "Sr. Lead Engineering                                     1\n",
       "Sr Director Engineering                                  1\n",
       "Director, Cloud Transformation                           1\n",
       "Business Administrator                                   1\n",
       "PR MANAGER                                               1\n",
       "Business Development Manager-Latin America               1\n",
       "Breast Imaging Radiologist                               1\n",
       "Intensivist-Critical Care Manager                        1\n",
       "HEMATOLOGIST                                             1\n",
       "Clinical Fellow - Neonatology                            1\n",
       "Obstetrician                                             1\n",
       "SYNCHRONIZATION COORDINATOR                              1\n",
       "Director of String Instruction                           1\n",
       "Video/Podcast Producer & Host                            1\n",
       "Director, Interior Designer                              1\n",
       "Design Assistant                                         1\n",
       "Newspaper Graphic Designer                               1\n",
       "Corporate Creative Design Services Specialist            1\n",
       "Interaction Designer 1615.37312                          1\n",
       "CX Designer                                              1\n",
       "Senior Artist: Interiors                                 1\n",
       "Clinical Exercise Specialist                             1\n",
       "Progressive Cardiac Care RN                              1\n",
       "Acupuncturist/ Sports Medicine & Pain Management         1\n",
       "Vice President of Merchandizing                          1\n",
       "SENIOR PRINCIPAL SALES OPERATIONS ANALYST                1\n",
       "Marketing Senior Manager 20516.276.4                     1\n",
       "Pricing and Packaging Strategy Director                  1\n",
       "Marketing Linguistics Director                           1\n",
       "VP Business and Product Strategy                         1\n",
       "General Manager of Orchestration Business Unit           1\n",
       "Business Operations Data Analyst                         1\n",
       "Embryology Specialist                                    1\n",
       "Principal Technical Business Developer                   1\n",
       "Product Manager - Clinical Workflow                      1\n",
       "Solution Architect, Business Development                 1\n",
       "Product Marketing Manager Senior Staff                   1\n",
       "Director, Sr, Trader TFI                                 1\n",
       "Head Cook                                                1\n",
       "Java/Web Developer                                       1\n",
       "Name: count, dtype: int64"
      ]
     },
     "execution_count": 29,
     "metadata": {},
     "output_type": "execute_result"
    }
   ],
   "source": [
    "h1b_visa_data_2021_certified['JOB_TITLE'].value_counts().tail(60)"
   ]
  },
  {
   "cell_type": "code",
   "execution_count": 30,
   "metadata": {},
   "outputs": [],
   "source": [
    "# Assuming `h1b_visa_data_2021_certified` is a DataFrame\n",
    "job_title_counts = h1b_visa_data_2021_certified['JOB_TITLE'].value_counts()\n",
    "\n",
    "\n",
    "# Save the output to a text file\n",
    "with open('job_title_counts_2021.txt', 'w') as f:\n",
    "    f.write(job_title_counts.to_string())"
   ]
  },
  {
   "cell_type": "code",
   "execution_count": 32,
   "metadata": {},
   "outputs": [],
   "source": [
    "# Distribution plot of top 10 Job Status\n",
    "top_jobs = h1b_visa_data_2021_certified[\"JOB_TITLE\"].value_counts().head(10)"
   ]
  },
  {
   "cell_type": "code",
   "execution_count": 33,
   "metadata": {},
   "outputs": [
    {
     "data": {
      "image/png": "[encoded data removed]",
      "text/plain": [
       "<Figure size 1000x600 with 1 Axes>"
      ]
     },
     "metadata": {},
     "output_type": "display_data"
    }
   ],
   "source": [
    "# plot bar graph\n",
    "top_jobs.plot(kind=\"bar\",title=\"Top 10 Jobs\",figsize=(10,6),colormap='PiYG')\n",
    "plt.show()"
   ]
  },
  {
   "cell_type": "markdown",
   "metadata": {},
   "source": [
    "From the above data, mostly the IT professionals are highly certified such as Software Engineer, Software Developer, and Senior Software Engineer.\n"
   ]
  },
  {
   "cell_type": "code",
   "execution_count": 34,
   "metadata": {},
   "outputs": [
    {
     "data": {
      "image/png": "[encoded data removed]",
      "text/plain": [
       "<Figure size 1000x600 with 1 Axes>"
      ]
     },
     "metadata": {},
     "output_type": "display_data"
    }
   ],
   "source": [
    "# Distribution of Prevailing wage with Histogram plot\n",
    "\n",
    "plt.figure(figsize=(10,6))\n",
    "sns.histplot(h1b_visa_data_2021_certified[\"PREVAILING_WAGE\"],bins=30,kde=True)\n",
    "plt.title(\"Distribution of wage rate among the certified candidate\")\n",
    "plt.show()\n",
    "\n"
   ]
  },
  {
   "cell_type": "markdown",
   "metadata": {},
   "source": [
    "The histogram displays the distribution of prevailing wages for H1B visa applications in 2021. The majority of certified candidates have prevailing wages between $50,000 and $150,000. The distribution is positively skewed, indicating that a smaller number of candidates have very high prevailing wages."
   ]
  },
  {
   "cell_type": "code",
   "execution_count": 35,
   "metadata": {},
   "outputs": [],
   "source": [
    "# Distribution of worksite states\n",
    "\n",
    "top_worksite_state = h1b_visa_data_2021_certified[\"WORKSITE_STATE\"].value_counts().head(10)\n"
   ]
  },
  {
   "cell_type": "code",
   "execution_count": 36,
   "metadata": {},
   "outputs": [
    {
     "data": {
      "image/png": "[encoded data removed]",
      "text/plain": [
       "<Figure size 1000x600 with 1 Axes>"
      ]
     },
     "metadata": {},
     "output_type": "display_data"
    }
   ],
   "source": [
    "# plot bar graph for worksite states\n",
    "\n",
    "top_worksite_state.plot(kind=\"bar\",title=\"Top 10 Worksite States\",figsize=(10,6),colormap='coolwarm')\n",
    "plt.show()"
   ]
  },
  {
   "cell_type": "markdown",
   "metadata": {},
   "source": [
    "The bar plot shows the top 10 states with the highest number of certified H-1B visa applications in 2021. California has the highest number of certified H-1B applications, followed by Texas and New York. The remaining states including, New Jersey, Washington, Massachusetts, Illinois, Georgia, North Carolina, and Pennsylvania, have a progressively decreasing number of applications."
   ]
  },
  {
   "cell_type": "code",
   "execution_count": 37,
   "metadata": {},
   "outputs": [
    {
     "name": "stdout",
     "output_type": "stream",
     "text": [
      "WORKSITE_STATE\n",
      "CA    131241.679117\n",
      "WA    130002.175301\n",
      "ME    123950.218115\n",
      "WV    123909.559343\n",
      "NY    116486.601174\n",
      "MA    104670.019250\n",
      "DE    103775.553509\n",
      "NJ    102751.853786\n",
      "DC    102477.922139\n",
      "MS    101517.175028\n",
      "CO    100472.461852\n",
      "CT    100169.243076\n",
      "AL     99797.053631\n",
      "OR     99477.394167\n",
      "TX     99217.826250\n",
      "VA     98519.743344\n",
      "MD     98231.621111\n",
      "NV     98174.110078\n",
      "SD     97033.965189\n",
      "NH     96854.831003\n",
      "NC     96709.082937\n",
      "IL     96580.506862\n",
      "PA     96546.580115\n",
      "GA     96497.810502\n",
      "LA     95934.312873\n",
      "AZ     94908.326246\n",
      "ID     94216.224017\n",
      "WI     93285.163595\n",
      "RI     93220.838899\n",
      "AR     92837.206742\n",
      "MT     92625.379608\n",
      "IA     92465.938191\n",
      "NE     92321.792111\n",
      "MN     91984.853223\n",
      "WY     91804.677048\n",
      "FL     91546.880508\n",
      "KS     90603.866780\n",
      "NM     90568.283824\n",
      "MO     90524.726820\n",
      "KY     90177.548361\n",
      "UT     89074.140008\n",
      "OH     88946.906322\n",
      "OK     88530.895372\n",
      "SC     87145.706136\n",
      "TN     86756.478003\n",
      "ND     85567.596333\n",
      "HI     85558.030912\n",
      "VT     85253.856579\n",
      "IN     84474.207173\n",
      "AK     82469.667244\n",
      "MI     81855.142617\n",
      "PR     68308.088485\n",
      "GU     59542.290723\n",
      "VI     54751.124400\n",
      "MP     23910.138194\n",
      "Name: WAGE_RATE_OF_PAY_FROM, dtype: float64\n"
     ]
    }
   ],
   "source": [
    "# Average wage by states\n",
    "\n",
    "average_wage_by_state = h1b_visa_data_2021_certified.groupby(\"WORKSITE_STATE\")[\"WAGE_RATE_OF_PAY_FROM\"].mean().sort_values(ascending=False)\n",
    "print(average_wage_by_state)"
   ]
  },
  {
   "cell_type": "code",
   "execution_count": 38,
   "metadata": {},
   "outputs": [
    {
     "data": {
      "image/png": "[encoded data removed]",
      "text/plain": [
       "<Figure size 1000x600 with 1 Axes>"
      ]
     },
     "metadata": {},
     "output_type": "display_data"
    }
   ],
   "source": [
    "# plot bar graph of top 10 average wage by state \n",
    "average_wage_by_state.head(10).plot(kind=\"bar\",title=\"Top 10 States by average wages\",figsize=(10,6),colormap='rainbow')\n",
    "plt.show()"
   ]
  },
  {
   "cell_type": "markdown",
   "metadata": {},
   "source": [
    "The bar chart presents the top 10 states with the highest average wages for H1B visa applications in 2021. California leads with the highest average wage, followed by Washington and Maine. The remaining states, including West Virginia, New York, Massachusetts, Delaware, New Jersey, District of Columbia, and Mississippi, show a gradual decrease in average wages."
   ]
  },
  {
   "cell_type": "code",
   "execution_count": 39,
   "metadata": {},
   "outputs": [
    {
     "data": {
      "image/png": "[encoded data removed]",
      "text/plain": [
       "<Figure size 1000x600 with 1 Axes>"
      ]
     },
     "metadata": {},
     "output_type": "display_data"
    }
   ],
   "source": [
    "# plot bar graph of low 10 average wage by state \n",
    "average_wage_by_state.tail(10).plot(kind=\"bar\",title=\"Low 10 States by average wages\",figsize=(10,6),colormap='rainbow')\n",
    "plt.show()"
   ]
  },
  {
   "cell_type": "markdown",
   "metadata": {},
   "source": [
    "The bar chart presents the bottom 10 states with the lowest average wages for H1B visa applications in 2021. North Dakota has the lowest average wage, followed by Hawaii and Vermont. The remaining states, including Indiana, Alaska, Michigan, Puerto Rico, Guam, Virgin Islands, and Northern Mariana Islands, show a gradual increase in average wages."
   ]
  },
  {
   "cell_type": "code",
   "execution_count": 40,
   "metadata": {},
   "outputs": [
    {
     "name": "stdout",
     "output_type": "stream",
     "text": [
      "SOC_TITLE\n",
      "Software Developers, Applications                   203529\n",
      "Computer Systems Analysts                            38785\n",
      "Software Developers, Systems Software                38132\n",
      "Computer Systems Engineers/Architects                20539\n",
      "Software Quality Assurance Engineers and Testers     16022\n",
      "Information Technology Project Managers              14084\n",
      "Computer and Information Systems Managers            13077\n",
      "Business Intelligence Analysts                       11648\n",
      "Mechanical Engineers                                 11033\n",
      "Computer Programmers                                 10700\n",
      "Name: count, dtype: int64\n"
     ]
    }
   ],
   "source": [
    "# Distribution plot of top 10 SOC_TITLE\n",
    "top_soc_title = h1b_visa_data_2021_certified[\"SOC_TITLE\"].value_counts().head(10)\n",
    "print(top_soc_title)"
   ]
  },
  {
   "cell_type": "code",
   "execution_count": 41,
   "metadata": {},
   "outputs": [
    {
     "data": {
      "image/png": "[encoded data removed]",
      "text/plain": [
       "<Figure size 1000x600 with 1 Axes>"
      ]
     },
     "metadata": {},
     "output_type": "display_data"
    }
   ],
   "source": [
    "# Bar plot of top 10 soc_title\n",
    "top_soc_title.plot(kind=\"bar\",title=\"Top 10 SOC Title\",figsize=(10,6),colormap=\"Set1\")\n",
    "plt.show()"
   ]
  },
  {
   "cell_type": "code",
   "execution_count": 42,
   "metadata": {},
   "outputs": [
    {
     "name": "stdout",
     "output_type": "stream",
     "text": [
      "SOC_TITLE\n",
      "Market Research Analyst and Marketing Specialists     1\n",
      "Mapping Technicians                                   1\n",
      "Architect, except Landscape and Naval                 1\n",
      "Payroll and Timekeeping Clerks                        1\n",
      "Software Developers. Applications                     1\n",
      "Pediatric Surgeons                                    1\n",
      "Secondary School Teachers, Except Special and Care    1\n",
      "Physician--Endocrinologist                            1\n",
      "STATISTICIANS                                         1\n",
      "Industrial Safety and Health Engineers.               1\n",
      "Name: count, dtype: int64\n"
     ]
    }
   ],
   "source": [
    "# Distribution plot of bottom 10 SOC_TITLE\n",
    "bottom_soc_title = h1b_visa_data_2021_certified[\"SOC_TITLE\"].value_counts().tail(10)\n",
    "print(bottom_soc_title)"
   ]
  },
  {
   "cell_type": "code",
   "execution_count": 43,
   "metadata": {},
   "outputs": [
    {
     "data": {
      "image/png": "[encoded data removed]",
      "text/plain": [
       "<Figure size 1600x600 with 1 Axes>"
      ]
     },
     "metadata": {},
     "output_type": "display_data"
    }
   ],
   "source": [
    "# Wages by Job title\n",
    "\n",
    "plt.figure(figsize=(16,6))\n",
    "sns.boxplot(data=h1b_visa_data_2021_certified[[\"SOC_TITLE\",\n",
    "                                               \"WAGE_RATE_OF_PAY_FROM\"]].sort_values(by=\"WAGE_RATE_OF_PAY_FROM\",\n",
    "                                                                                     ascending=False).head(10),x=\"SOC_TITLE\",\n",
    "                                                                                     y=\"WAGE_RATE_OF_PAY_FROM\",showmeans=True)\n",
    "plt.xticks(rotation=90)\n",
    "plt.show()\n"
   ]
  },
  {
   "cell_type": "code",
   "execution_count": 44,
   "metadata": {},
   "outputs": [
    {
     "name": "stdout",
     "output_type": "stream",
     "text": [
      "EMPLOYER_NAME\n",
      "COGNIZANT TECHNOLOGY SOLUTIONS US CORP    15571\n",
      "Ernst & Young U.S. LLP                    10267\n",
      "Google LLC                                 9862\n",
      "Microsoft Corporation                      8484\n",
      "AMAZON.COM SERVICES LLC                    7811\n",
      "TATA CONSULTANCY SERVICES LIMITED          7682\n",
      "INFOSYS LIMITED                            6198\n",
      "Amazon.com Services LLC                    5030\n",
      "Accenture LLP                              4825\n",
      "Apple Inc.                                 4571\n",
      "WIPRO LIMITED                              4137\n",
      "Intel Corporation                          3787\n",
      "Deloitte Consulting LLP                    3500\n",
      "COMPUNNEL SOFTWARE GROUP, INC              3480\n",
      "CAPGEMINI AMERICA INC                      3394\n",
      "WAL-MART ASSOCIATES, INC.                  3348\n",
      "TECH MAHINDRA (AMERICAS), INC              2930\n",
      "Tata Consultancy Services Limited          2789\n",
      "HCL AMERICA, INC.                          2552\n",
      "Qualcomm Technologies, Inc.                2492\n",
      "Name: count, dtype: int64\n"
     ]
    }
   ],
   "source": [
    "# Top employers getting H1B visa certified\n",
    "\n",
    "top_employers = h1b_visa_data_2021_certified[\"EMPLOYER_NAME\"].value_counts().head(20)\n",
    "print(top_employers)"
   ]
  },
  {
   "cell_type": "code",
   "execution_count": 45,
   "metadata": {},
   "outputs": [
    {
     "name": "stdout",
     "output_type": "stream",
     "text": [
      "EMPLOYER_NAME\n",
      "ParcelShield Holdings, LLC                     1\n",
      "BHG Holdings LLC                               1\n",
      "Supreme International USA Inc.                 1\n",
      "RAPP Worldwide Texas Inc.                      1\n",
      "AMAZON.COM.CA, INC.                            1\n",
      "Lilly USA, LLC                                 1\n",
      "Love's Travel Stops & Country Stores, Inc.     1\n",
      "iSmile Orthodontics PLLC                       1\n",
      "CAPSTONE REAL ESTATE GROUP, INC.               1\n",
      "JJF INTERNATIONAL MUSIC ACADEMY, LLC.          1\n",
      "Name: count, dtype: int64\n"
     ]
    }
   ],
   "source": [
    "# Bottom employers getting H1B visa certified\n",
    "\n",
    "bottom_employers = h1b_visa_data_2021_certified[\"EMPLOYER_NAME\"].value_counts().tail(10)\n",
    "print(bottom_employers)"
   ]
  },
  {
   "cell_type": "code",
   "execution_count": 46,
   "metadata": {},
   "outputs": [],
   "source": [
    "employer = h1b_visa_data_2021_certified[\"EMPLOYER_NAME\"].value_counts()\n",
    "\n",
    "# Save the output to a text file\n",
    "with open('employer-2021.txt', 'w') as f:\n",
    "    f.write(employer.to_string())"
   ]
  },
  {
   "cell_type": "code",
   "execution_count": 47,
   "metadata": {},
   "outputs": [
    {
     "name": "stdout",
     "output_type": "stream",
     "text": [
      "AGENT_REPRESENTING_EMPLOYER\n",
      "Yes    450388\n",
      "No     173438\n",
      "Name: count, dtype: int64\n"
     ]
    }
   ],
   "source": [
    "# Agents representing employers \n",
    "\n",
    "agents = h1b_visa_data_2021_certified[\"AGENT_REPRESENTING_EMPLOYER\"].value_counts().head(10)\n",
    "print(agents)"
   ]
  },
  {
   "cell_type": "code",
   "execution_count": 48,
   "metadata": {},
   "outputs": [
    {
     "name": "stdout",
     "output_type": "stream",
     "text": [
      "YEAR\n",
      "2020     93554\n",
      "2021    223103\n",
      "Name: CASE_NUMBER, dtype: int64\n"
     ]
    }
   ],
   "source": [
    "# Remote work trends\n",
    "\n",
    "h1b_visa_data_2021_certified[\"RECEIVED_DATE\"] = pd.to_datetime(h1b_visa_data_2021_certified[\"RECEIVED_DATE\"], errors='coerce')\n",
    "h1b_visa_data_2021_certified['YEAR'] = h1b_visa_data_2021_certified[\"RECEIVED_DATE\"].dt.year\n",
    "\n",
    "remote_trends = h1b_visa_data_2021_certified[h1b_visa_data_2021_certified[\"WORKSITE_STATE\"]!=h1b_visa_data_2021_certified[\"EMPLOYER_STATE\"]]\n",
    "remote_trends_by_year = remote_trends.groupby('YEAR')['CASE_NUMBER'].count()\n",
    "\n",
    "print(remote_trends_by_year)\n"
   ]
  },
  {
   "cell_type": "markdown",
   "metadata": {},
   "source": [
    "The data shows a significant increase in H1B visa applications from 2020 to 2021. The number of applications more than doubled, rising from 93,554 in 2020 to 223,103 in 2021. This suggests a potential increase in the demand for foreign workers in the United States during this period."
   ]
  }
 ],
 "metadata": {
  "kernelspec": {
   "display_name": "env",
   "language": "python",
   "name": "python3"
  },
  "language_info": {
   "codemirror_mode": {
    "name": "ipython",
    "version": 3
   },
   "file_extension": ".py",
   "mimetype": "text/x-python",
   "name": "python",
   "nbconvert_exporter": "python",
   "pygments_lexer": "ipython3",
   "version": "3.9.6"
  }
 },
 "nbformat": 4,
 "nbformat_minor": 2
}
