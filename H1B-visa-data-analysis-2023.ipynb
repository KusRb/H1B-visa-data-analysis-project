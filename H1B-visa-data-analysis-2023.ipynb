{
 "cells": [
  {
   "cell_type": "markdown",
   "metadata": {},
   "source": [
    "This is a notebook of Exploratory data analysis of H1B visa for the year 2023. \n",
    "\n",
    "About the Dataset\n",
    "This dataset provides a comprehensive record of Labor Condition Application (LCA) disclosures for H1B visa petitions filed with the U.S. Department of Labor (DOL) 2023. The H1B visa is a non-immigrant visa that allows U.S. companies to employ foreign workers in specialty occupations requiring theoretical or technical expertise. These roles typically include fields such as IT, engineering, finance, healthcare, and more. The H1B program is critical for addressing skill gaps in the U.S. workforce and supporting economic growth.\n",
    "\n",
    "Key features\n",
    "Years Covered: 2023.\n",
    "Number of Records: Includes all LCAs filed during this period.\n",
    "Attributes: Comprehensive fields such as case number, job title, employer name, wage data, work location, and visa classification.\n",
    "Source: Data is based on public disclosures from the U.S. Department of Labor.\n",
    "\n",
    "Source of Dataset \n",
    "https://www.kaggle.com/datasets/zongaobian/h1b-lca-disclosure-data-2020-2024/data?select=Combined_LCA_Disclosure_Data_FY2023.csv"
   ]
  },
  {
   "cell_type": "code",
   "execution_count": 1,
   "metadata": {},
   "outputs": [],
   "source": [
    "import warnings\n",
    "warnings.filterwarnings(\"ignore\")"
   ]
  },
  {
   "cell_type": "code",
   "execution_count": 2,
   "metadata": {},
   "outputs": [],
   "source": [
    "# Import necessary libraries\n",
    "\n",
    "import pandas as pd\n",
    "import numpy as np\n",
    "import seaborn as sns\n",
    "import matplotlib.pyplot as plt"
   ]
  },
  {
   "cell_type": "code",
   "execution_count": 3,
   "metadata": {},
   "outputs": [
    {
     "name": "stdout",
     "output_type": "stream",
     "text": [
      "2.2.3\n"
     ]
    }
   ],
   "source": [
    "print(pd.__version__)"
   ]
  },
  {
   "cell_type": "code",
   "execution_count": 4,
   "metadata": {},
   "outputs": [
    {
     "name": "stdout",
     "output_type": "stream",
     "text": [
      "2.0.2\n"
     ]
    }
   ],
   "source": [
    "print(np.__version__)"
   ]
  },
  {
   "cell_type": "code",
   "execution_count": 5,
   "metadata": {},
   "outputs": [
    {
     "name": "stdout",
     "output_type": "stream",
     "text": [
      "0.13.2\n"
     ]
    }
   ],
   "source": [
    "print(sns.__version__)"
   ]
  },
  {
   "cell_type": "code",
   "execution_count": 6,
   "metadata": {},
   "outputs": [
    {
     "name": "stdout",
     "output_type": "stream",
     "text": [
      "3.9.4\n"
     ]
    }
   ],
   "source": [
    "import matplotlib\n",
    "print(matplotlib.__version__)"
   ]
  },
  {
   "cell_type": "code",
   "execution_count": 7,
   "metadata": {},
   "outputs": [],
   "source": [
    "# Load Dataset\n",
    "\n",
    "h1b_visa_data_2023 = pd.read_csv(\"data/Combined_LCA_Disclosure_Data_FY2023.csv\")"
   ]
  },
  {
   "cell_type": "code",
   "execution_count": 8,
   "metadata": {},
   "outputs": [
    {
     "data": {
      "text/html": [
       "<div>\n",
       "<style scoped>\n",
       "    .dataframe tbody tr th:only-of-type {\n",
       "        vertical-align: middle;\n",
       "    }\n",
       "\n",
       "    .dataframe tbody tr th {\n",
       "        vertical-align: top;\n",
       "    }\n",
       "\n",
       "    .dataframe thead th {\n",
       "        text-align: right;\n",
       "    }\n",
       "</style>\n",
       "<table border=\"1\" class=\"dataframe\">\n",
       "  <thead>\n",
       "    <tr style=\"text-align: right;\">\n",
       "      <th></th>\n",
       "      <th>CASE_NUMBER</th>\n",
       "      <th>CASE_STATUS</th>\n",
       "      <th>RECEIVED_DATE</th>\n",
       "      <th>DECISION_DATE</th>\n",
       "      <th>ORIGINAL_CERT_DATE</th>\n",
       "      <th>VISA_CLASS</th>\n",
       "      <th>JOB_TITLE</th>\n",
       "      <th>SOC_CODE</th>\n",
       "      <th>SOC_TITLE</th>\n",
       "      <th>FULL_TIME_POSITION</th>\n",
       "      <th>...</th>\n",
       "      <th>WILLFUL_VIOLATOR</th>\n",
       "      <th>SUPPORT_H1B</th>\n",
       "      <th>STATUTORY_BASIS</th>\n",
       "      <th>APPENDIX_A_ATTACHED</th>\n",
       "      <th>PUBLIC_DISCLOSURE</th>\n",
       "      <th>PREPARER_LAST_NAME</th>\n",
       "      <th>PREPARER_FIRST_NAME</th>\n",
       "      <th>PREPARER_MIDDLE_INITIAL</th>\n",
       "      <th>PREPARER_BUSINESS_NAME</th>\n",
       "      <th>PREPARER_EMAIL</th>\n",
       "    </tr>\n",
       "  </thead>\n",
       "  <tbody>\n",
       "    <tr>\n",
       "      <th>0</th>\n",
       "      <td>I-200-22356-657078</td>\n",
       "      <td>Certified</td>\n",
       "      <td>2022-12-22</td>\n",
       "      <td>2022-12-30</td>\n",
       "      <td>NaN</td>\n",
       "      <td>H-1B</td>\n",
       "      <td>DevOps Engineer II</td>\n",
       "      <td>15-1252.00</td>\n",
       "      <td>Software Developers</td>\n",
       "      <td>Y</td>\n",
       "      <td>...</td>\n",
       "      <td>No</td>\n",
       "      <td>NaN</td>\n",
       "      <td>NaN</td>\n",
       "      <td>NaN</td>\n",
       "      <td>Disclose Business</td>\n",
       "      <td>NaN</td>\n",
       "      <td>NaN</td>\n",
       "      <td>NaN</td>\n",
       "      <td>NaN</td>\n",
       "      <td>NaN</td>\n",
       "    </tr>\n",
       "    <tr>\n",
       "      <th>1</th>\n",
       "      <td>I-200-22356-657600</td>\n",
       "      <td>Certified</td>\n",
       "      <td>2022-12-22</td>\n",
       "      <td>2022-12-30</td>\n",
       "      <td>NaN</td>\n",
       "      <td>H-1B</td>\n",
       "      <td>FE Engineer</td>\n",
       "      <td>17-2072.00</td>\n",
       "      <td>Electronics Engineers, Except Computer</td>\n",
       "      <td>Y</td>\n",
       "      <td>...</td>\n",
       "      <td>No</td>\n",
       "      <td>NaN</td>\n",
       "      <td>NaN</td>\n",
       "      <td>NaN</td>\n",
       "      <td>Disclose Business</td>\n",
       "      <td>NAKAMURA</td>\n",
       "      <td>ANNE</td>\n",
       "      <td>M</td>\n",
       "      <td>FRAGOMEN, DEL REY, BERNSEN &amp; LOEWY, LLP.</td>\n",
       "      <td>hbal@fragomen.com</td>\n",
       "    </tr>\n",
       "    <tr>\n",
       "      <th>2</th>\n",
       "      <td>I-200-22356-657298</td>\n",
       "      <td>Certified</td>\n",
       "      <td>2022-12-22</td>\n",
       "      <td>2022-12-30</td>\n",
       "      <td>NaN</td>\n",
       "      <td>H-1B</td>\n",
       "      <td>Control Sys Engineer</td>\n",
       "      <td>17-2141.00</td>\n",
       "      <td>Mechanical Engineers</td>\n",
       "      <td>Y</td>\n",
       "      <td>...</td>\n",
       "      <td>No</td>\n",
       "      <td>NaN</td>\n",
       "      <td>NaN</td>\n",
       "      <td>NaN</td>\n",
       "      <td>Disclose Business</td>\n",
       "      <td>NaN</td>\n",
       "      <td>NaN</td>\n",
       "      <td>NaN</td>\n",
       "      <td>NaN</td>\n",
       "      <td>NaN</td>\n",
       "    </tr>\n",
       "    <tr>\n",
       "      <th>3</th>\n",
       "      <td>I-200-22356-657871</td>\n",
       "      <td>Certified</td>\n",
       "      <td>2022-12-22</td>\n",
       "      <td>2022-12-30</td>\n",
       "      <td>NaN</td>\n",
       "      <td>H-1B</td>\n",
       "      <td>Senior Lecturer</td>\n",
       "      <td>25-1021.00</td>\n",
       "      <td>Computer Science Teachers, Postsecondary</td>\n",
       "      <td>Y</td>\n",
       "      <td>...</td>\n",
       "      <td>No</td>\n",
       "      <td>NaN</td>\n",
       "      <td>NaN</td>\n",
       "      <td>NaN</td>\n",
       "      <td>Disclose Business</td>\n",
       "      <td>NaN</td>\n",
       "      <td>NaN</td>\n",
       "      <td>NaN</td>\n",
       "      <td>NaN</td>\n",
       "      <td>NaN</td>\n",
       "    </tr>\n",
       "    <tr>\n",
       "      <th>4</th>\n",
       "      <td>I-200-22356-657847</td>\n",
       "      <td>Certified</td>\n",
       "      <td>2022-12-22</td>\n",
       "      <td>2022-12-30</td>\n",
       "      <td>NaN</td>\n",
       "      <td>H-1B</td>\n",
       "      <td>Principal Payment Tech Development</td>\n",
       "      <td>15-1252.00</td>\n",
       "      <td>Software Developers</td>\n",
       "      <td>Y</td>\n",
       "      <td>...</td>\n",
       "      <td>No</td>\n",
       "      <td>NaN</td>\n",
       "      <td>NaN</td>\n",
       "      <td>NaN</td>\n",
       "      <td>Disclose Business</td>\n",
       "      <td>Chegu</td>\n",
       "      <td>Reshma</td>\n",
       "      <td>NaN</td>\n",
       "      <td>Fragomen, Del Rey, Bernsen &amp; Loewy, LLP</td>\n",
       "      <td>rchegu@fragomen.com</td>\n",
       "    </tr>\n",
       "  </tbody>\n",
       "</table>\n",
       "<p>5 rows × 96 columns</p>\n",
       "</div>"
      ],
      "text/plain": [
       "          CASE_NUMBER CASE_STATUS RECEIVED_DATE DECISION_DATE  \\\n",
       "0  I-200-22356-657078   Certified    2022-12-22    2022-12-30   \n",
       "1  I-200-22356-657600   Certified    2022-12-22    2022-12-30   \n",
       "2  I-200-22356-657298   Certified    2022-12-22    2022-12-30   \n",
       "3  I-200-22356-657871   Certified    2022-12-22    2022-12-30   \n",
       "4  I-200-22356-657847   Certified    2022-12-22    2022-12-30   \n",
       "\n",
       "  ORIGINAL_CERT_DATE VISA_CLASS                           JOB_TITLE  \\\n",
       "0                NaN       H-1B                  DevOps Engineer II   \n",
       "1                NaN       H-1B                         FE Engineer   \n",
       "2                NaN       H-1B                Control Sys Engineer   \n",
       "3                NaN       H-1B                     Senior Lecturer   \n",
       "4                NaN       H-1B  Principal Payment Tech Development   \n",
       "\n",
       "     SOC_CODE                                 SOC_TITLE FULL_TIME_POSITION  \\\n",
       "0  15-1252.00                       Software Developers                  Y   \n",
       "1  17-2072.00    Electronics Engineers, Except Computer                  Y   \n",
       "2  17-2141.00                      Mechanical Engineers                  Y   \n",
       "3  25-1021.00  Computer Science Teachers, Postsecondary                  Y   \n",
       "4  15-1252.00                       Software Developers                  Y   \n",
       "\n",
       "   ... WILLFUL_VIOLATOR SUPPORT_H1B  STATUTORY_BASIS  APPENDIX_A_ATTACHED  \\\n",
       "0  ...               No         NaN              NaN                  NaN   \n",
       "1  ...               No         NaN              NaN                  NaN   \n",
       "2  ...               No         NaN              NaN                  NaN   \n",
       "3  ...               No         NaN              NaN                  NaN   \n",
       "4  ...               No         NaN              NaN                  NaN   \n",
       "\n",
       "   PUBLIC_DISCLOSURE  PREPARER_LAST_NAME  PREPARER_FIRST_NAME  \\\n",
       "0  Disclose Business                 NaN                  NaN   \n",
       "1  Disclose Business            NAKAMURA                 ANNE   \n",
       "2  Disclose Business                 NaN                  NaN   \n",
       "3  Disclose Business                 NaN                  NaN   \n",
       "4  Disclose Business               Chegu               Reshma   \n",
       "\n",
       "   PREPARER_MIDDLE_INITIAL                    PREPARER_BUSINESS_NAME  \\\n",
       "0                      NaN                                       NaN   \n",
       "1                        M  FRAGOMEN, DEL REY, BERNSEN & LOEWY, LLP.   \n",
       "2                      NaN                                       NaN   \n",
       "3                      NaN                                       NaN   \n",
       "4                      NaN   Fragomen, Del Rey, Bernsen & Loewy, LLP   \n",
       "\n",
       "        PREPARER_EMAIL  \n",
       "0                  NaN  \n",
       "1    hbal@fragomen.com  \n",
       "2                  NaN  \n",
       "3                  NaN  \n",
       "4  rchegu@fragomen.com  \n",
       "\n",
       "[5 rows x 96 columns]"
      ]
     },
     "execution_count": 8,
     "metadata": {},
     "output_type": "execute_result"
    }
   ],
   "source": [
    "# Data Analysis \n",
    "\n",
    "h1b_visa_data_2023.head()"
   ]
  },
  {
   "cell_type": "code",
   "execution_count": 9,
   "metadata": {},
   "outputs": [
    {
     "data": {
      "text/plain": [
       "Index(['CASE_NUMBER', 'CASE_STATUS', 'RECEIVED_DATE', 'DECISION_DATE',\n",
       "       'ORIGINAL_CERT_DATE', 'VISA_CLASS', 'JOB_TITLE', 'SOC_CODE',\n",
       "       'SOC_TITLE', 'FULL_TIME_POSITION', 'BEGIN_DATE', 'END_DATE',\n",
       "       'TOTAL_WORKER_POSITIONS', 'NEW_EMPLOYMENT', 'CONTINUED_EMPLOYMENT',\n",
       "       'CHANGE_PREVIOUS_EMPLOYMENT', 'NEW_CONCURRENT_EMPLOYMENT',\n",
       "       'CHANGE_EMPLOYER', 'AMENDED_PETITION', 'EMPLOYER_NAME',\n",
       "       'TRADE_NAME_DBA', 'EMPLOYER_ADDRESS1', 'EMPLOYER_ADDRESS2',\n",
       "       'EMPLOYER_CITY', 'EMPLOYER_STATE', 'EMPLOYER_POSTAL_CODE',\n",
       "       'EMPLOYER_COUNTRY', 'EMPLOYER_PROVINCE', 'EMPLOYER_PHONE',\n",
       "       'EMPLOYER_PHONE_EXT', 'NAICS_CODE', 'EMPLOYER_POC_LAST_NAME',\n",
       "       'EMPLOYER_POC_FIRST_NAME', 'EMPLOYER_POC_MIDDLE_NAME',\n",
       "       'EMPLOYER_POC_JOB_TITLE', 'EMPLOYER_POC_ADDRESS1',\n",
       "       'EMPLOYER_POC_ADDRESS2', 'EMPLOYER_POC_CITY', 'EMPLOYER_POC_STATE',\n",
       "       'EMPLOYER_POC_POSTAL_CODE', 'EMPLOYER_POC_COUNTRY',\n",
       "       'EMPLOYER_POC_PROVINCE', 'EMPLOYER_POC_PHONE', 'EMPLOYER_POC_PHONE_EXT',\n",
       "       'EMPLOYER_POC_EMAIL', 'AGENT_REPRESENTING_EMPLOYER',\n",
       "       'AGENT_ATTORNEY_LAST_NAME', 'AGENT_ATTORNEY_FIRST_NAME',\n",
       "       'AGENT_ATTORNEY_MIDDLE_NAME', 'AGENT_ATTORNEY_ADDRESS1',\n",
       "       'AGENT_ATTORNEY_ADDRESS2', 'AGENT_ATTORNEY_CITY',\n",
       "       'AGENT_ATTORNEY_STATE', 'AGENT_ATTORNEY_POSTAL_CODE',\n",
       "       'AGENT_ATTORNEY_COUNTRY', 'AGENT_ATTORNEY_PROVINCE',\n",
       "       'AGENT_ATTORNEY_PHONE', 'AGENT_ATTORNEY_PHONE_EXT',\n",
       "       'AGENT_ATTORNEY_EMAIL_ADDRESS', 'LAWFIRM_NAME_BUSINESS_NAME',\n",
       "       'STATE_OF_HIGHEST_COURT', 'NAME_OF_HIGHEST_STATE_COURT',\n",
       "       'WORKSITE_WORKERS', 'SECONDARY_ENTITY',\n",
       "       'SECONDARY_ENTITY_BUSINESS_NAME', 'WORKSITE_ADDRESS1',\n",
       "       'WORKSITE_ADDRESS2', 'WORKSITE_CITY', 'WORKSITE_COUNTY',\n",
       "       'WORKSITE_STATE', 'WORKSITE_POSTAL_CODE', 'WAGE_RATE_OF_PAY_FROM',\n",
       "       'WAGE_RATE_OF_PAY_TO', 'WAGE_UNIT_OF_PAY', 'PREVAILING_WAGE',\n",
       "       'PW_UNIT_OF_PAY', 'PW_TRACKING_NUMBER', 'PW_WAGE_LEVEL', 'PW_OES_YEAR',\n",
       "       'PW_OTHER_SOURCE', 'PW_OTHER_YEAR', 'PW_SURVEY_PUBLISHER',\n",
       "       'PW_SURVEY_NAME', 'TOTAL_WORKSITE_LOCATIONS', 'AGREE_TO_LC_STATEMENT',\n",
       "       'H_1B_DEPENDENT', 'WILLFUL_VIOLATOR', 'SUPPORT_H1B', 'STATUTORY_BASIS',\n",
       "       'APPENDIX_A_ATTACHED', 'PUBLIC_DISCLOSURE', 'PREPARER_LAST_NAME',\n",
       "       'PREPARER_FIRST_NAME', 'PREPARER_MIDDLE_INITIAL',\n",
       "       'PREPARER_BUSINESS_NAME', 'PREPARER_EMAIL'],\n",
       "      dtype='object')"
      ]
     },
     "execution_count": 9,
     "metadata": {},
     "output_type": "execute_result"
    }
   ],
   "source": [
    "# Features of the data\n",
    "h1b_visa_data_2023.columns"
   ]
  },
  {
   "cell_type": "code",
   "execution_count": 10,
   "metadata": {},
   "outputs": [
    {
     "data": {
      "text/plain": [
       "(644607, 96)"
      ]
     },
     "execution_count": 10,
     "metadata": {},
     "output_type": "execute_result"
    }
   ],
   "source": [
    "# Shape of the data \n",
    "\n",
    "h1b_visa_data_2023.shape"
   ]
  },
  {
   "cell_type": "code",
   "execution_count": 11,
   "metadata": {},
   "outputs": [
    {
     "name": "stdout",
     "output_type": "stream",
     "text": [
      "<class 'pandas.core.frame.DataFrame'>\n",
      "RangeIndex: 644607 entries, 0 to 644606\n",
      "Data columns (total 96 columns):\n",
      " #   Column                          Non-Null Count   Dtype  \n",
      "---  ------                          --------------   -----  \n",
      " 0   CASE_NUMBER                     644607 non-null  object \n",
      " 1   CASE_STATUS                     644607 non-null  object \n",
      " 2   RECEIVED_DATE                   644607 non-null  object \n",
      " 3   DECISION_DATE                   644607 non-null  object \n",
      " 4   ORIGINAL_CERT_DATE              41957 non-null   object \n",
      " 5   VISA_CLASS                      644607 non-null  object \n",
      " 6   JOB_TITLE                       644607 non-null  object \n",
      " 7   SOC_CODE                        644607 non-null  object \n",
      " 8   SOC_TITLE                       644607 non-null  object \n",
      " 9   FULL_TIME_POSITION              644607 non-null  object \n",
      " 10  BEGIN_DATE                      644607 non-null  object \n",
      " 11  END_DATE                        644607 non-null  object \n",
      " 12  TOTAL_WORKER_POSITIONS          644607 non-null  int64  \n",
      " 13  NEW_EMPLOYMENT                  644607 non-null  int64  \n",
      " 14  CONTINUED_EMPLOYMENT            644607 non-null  int64  \n",
      " 15  CHANGE_PREVIOUS_EMPLOYMENT      644607 non-null  int64  \n",
      " 16  NEW_CONCURRENT_EMPLOYMENT       644607 non-null  int64  \n",
      " 17  CHANGE_EMPLOYER                 644607 non-null  int64  \n",
      " 18  AMENDED_PETITION                644607 non-null  int64  \n",
      " 19  EMPLOYER_NAME                   644607 non-null  object \n",
      " 20  TRADE_NAME_DBA                  58914 non-null   object \n",
      " 21  EMPLOYER_ADDRESS1               644607 non-null  object \n",
      " 22  EMPLOYER_ADDRESS2               293634 non-null  object \n",
      " 23  EMPLOYER_CITY                   644607 non-null  object \n",
      " 24  EMPLOYER_STATE                  644409 non-null  object \n",
      " 25  EMPLOYER_POSTAL_CODE            644607 non-null  object \n",
      " 26  EMPLOYER_COUNTRY                644607 non-null  object \n",
      " 27  EMPLOYER_PROVINCE               39074 non-null   object \n",
      " 28  EMPLOYER_PHONE                  644607 non-null  int64  \n",
      " 29  EMPLOYER_PHONE_EXT              38837 non-null   float64\n",
      " 30  NAICS_CODE                      644607 non-null  int64  \n",
      " 31  EMPLOYER_POC_LAST_NAME          644603 non-null  object \n",
      " 32  EMPLOYER_POC_FIRST_NAME         644607 non-null  object \n",
      " 33  EMPLOYER_POC_MIDDLE_NAME        120827 non-null  object \n",
      " 34  EMPLOYER_POC_JOB_TITLE          644607 non-null  object \n",
      " 35  EMPLOYER_POC_ADDRESS1           644607 non-null  object \n",
      " 36  EMPLOYER_POC_ADDRESS2           300841 non-null  object \n",
      " 37  EMPLOYER_POC_CITY               644607 non-null  object \n",
      " 38  EMPLOYER_POC_STATE              643870 non-null  object \n",
      " 39  EMPLOYER_POC_POSTAL_CODE        644604 non-null  object \n",
      " 40  EMPLOYER_POC_COUNTRY            644604 non-null  object \n",
      " 41  EMPLOYER_POC_PROVINCE           1374 non-null    object \n",
      " 42  EMPLOYER_POC_PHONE              644607 non-null  int64  \n",
      " 43  EMPLOYER_POC_PHONE_EXT          37527 non-null   float64\n",
      " 44  EMPLOYER_POC_EMAIL              630689 non-null  object \n",
      " 45  AGENT_REPRESENTING_EMPLOYER     644607 non-null  object \n",
      " 46  AGENT_ATTORNEY_LAST_NAME        470434 non-null  object \n",
      " 47  AGENT_ATTORNEY_FIRST_NAME       470434 non-null  object \n",
      " 48  AGENT_ATTORNEY_MIDDLE_NAME      241300 non-null  object \n",
      " 49  AGENT_ATTORNEY_ADDRESS1         470434 non-null  object \n",
      " 50  AGENT_ATTORNEY_ADDRESS2         370955 non-null  object \n",
      " 51  AGENT_ATTORNEY_CITY             470434 non-null  object \n",
      " 52  AGENT_ATTORNEY_STATE            448685 non-null  object \n",
      " 53  AGENT_ATTORNEY_POSTAL_CODE      470434 non-null  object \n",
      " 54  AGENT_ATTORNEY_COUNTRY          470434 non-null  object \n",
      " 55  AGENT_ATTORNEY_PROVINCE         51568 non-null   object \n",
      " 56  AGENT_ATTORNEY_PHONE            470434 non-null  float64\n",
      " 57  AGENT_ATTORNEY_PHONE_EXT        28450 non-null   float64\n",
      " 58  AGENT_ATTORNEY_EMAIL_ADDRESS    470430 non-null  object \n",
      " 59  LAWFIRM_NAME_BUSINESS_NAME      470434 non-null  object \n",
      " 60  STATE_OF_HIGHEST_COURT          469374 non-null  object \n",
      " 61  NAME_OF_HIGHEST_STATE_COURT     469164 non-null  object \n",
      " 62  WORKSITE_WORKERS                644606 non-null  float64\n",
      " 63  SECONDARY_ENTITY                644607 non-null  object \n",
      " 64  SECONDARY_ENTITY_BUSINESS_NAME  138692 non-null  object \n",
      " 65  WORKSITE_ADDRESS1               644606 non-null  object \n",
      " 66  WORKSITE_ADDRESS2               193929 non-null  object \n",
      " 67  WORKSITE_CITY                   644592 non-null  object \n",
      " 68  WORKSITE_COUNTY                 644605 non-null  object \n",
      " 69  WORKSITE_STATE                  644606 non-null  object \n",
      " 70  WORKSITE_POSTAL_CODE            644606 non-null  object \n",
      " 71  WAGE_RATE_OF_PAY_FROM           644606 non-null  float64\n",
      " 72  WAGE_RATE_OF_PAY_TO             209332 non-null  float64\n",
      " 73  WAGE_UNIT_OF_PAY                644606 non-null  object \n",
      " 74  PREVAILING_WAGE                 644606 non-null  float64\n",
      " 75  PW_UNIT_OF_PAY                  644606 non-null  object \n",
      " 76  PW_TRACKING_NUMBER              1069 non-null    object \n",
      " 77  PW_WAGE_LEVEL                   611304 non-null  object \n",
      " 78  PW_OES_YEAR                     614323 non-null  object \n",
      " 79  PW_OTHER_SOURCE                 29214 non-null   object \n",
      " 80  PW_OTHER_YEAR                   29214 non-null   float64\n",
      " 81  PW_SURVEY_PUBLISHER             22146 non-null   object \n",
      " 82  PW_SURVEY_NAME                  22141 non-null   object \n",
      " 83  TOTAL_WORKSITE_LOCATIONS        644607 non-null  int64  \n",
      " 84  AGREE_TO_LC_STATEMENT           644607 non-null  object \n",
      " 85  H_1B_DEPENDENT                  627298 non-null  object \n",
      " 86  WILLFUL_VIOLATOR                627296 non-null  object \n",
      " 87  SUPPORT_H1B                     173138 non-null  object \n",
      " 88  STATUTORY_BASIS                 172179 non-null  object \n",
      " 89  APPENDIX_A_ATTACHED             435 non-null     object \n",
      " 90  PUBLIC_DISCLOSURE               644488 non-null  object \n",
      " 91  PREPARER_LAST_NAME              324926 non-null  object \n",
      " 92  PREPARER_FIRST_NAME             324931 non-null  object \n",
      " 93  PREPARER_MIDDLE_INITIAL         99164 non-null   object \n",
      " 94  PREPARER_BUSINESS_NAME          331497 non-null  object \n",
      " 95  PREPARER_EMAIL                  329179 non-null  object \n",
      "dtypes: float64(9), int64(11), object(76)\n",
      "memory usage: 472.1+ MB\n"
     ]
    }
   ],
   "source": [
    "# Info of the data\n",
    "\n",
    "h1b_visa_data_2023.info()"
   ]
  },
  {
   "cell_type": "code",
   "execution_count": 12,
   "metadata": {},
   "outputs": [
    {
     "data": {
      "text/html": [
       "<div>\n",
       "<style scoped>\n",
       "    .dataframe tbody tr th:only-of-type {\n",
       "        vertical-align: middle;\n",
       "    }\n",
       "\n",
       "    .dataframe tbody tr th {\n",
       "        vertical-align: top;\n",
       "    }\n",
       "\n",
       "    .dataframe thead th {\n",
       "        text-align: right;\n",
       "    }\n",
       "</style>\n",
       "<table border=\"1\" class=\"dataframe\">\n",
       "  <thead>\n",
       "    <tr style=\"text-align: right;\">\n",
       "      <th></th>\n",
       "      <th>TOTAL_WORKER_POSITIONS</th>\n",
       "      <th>NEW_EMPLOYMENT</th>\n",
       "      <th>CONTINUED_EMPLOYMENT</th>\n",
       "      <th>CHANGE_PREVIOUS_EMPLOYMENT</th>\n",
       "      <th>NEW_CONCURRENT_EMPLOYMENT</th>\n",
       "      <th>CHANGE_EMPLOYER</th>\n",
       "      <th>AMENDED_PETITION</th>\n",
       "      <th>EMPLOYER_PHONE</th>\n",
       "      <th>EMPLOYER_PHONE_EXT</th>\n",
       "      <th>NAICS_CODE</th>\n",
       "      <th>EMPLOYER_POC_PHONE</th>\n",
       "      <th>EMPLOYER_POC_PHONE_EXT</th>\n",
       "      <th>AGENT_ATTORNEY_PHONE</th>\n",
       "      <th>AGENT_ATTORNEY_PHONE_EXT</th>\n",
       "      <th>WORKSITE_WORKERS</th>\n",
       "      <th>WAGE_RATE_OF_PAY_FROM</th>\n",
       "      <th>WAGE_RATE_OF_PAY_TO</th>\n",
       "      <th>PREVAILING_WAGE</th>\n",
       "      <th>PW_OTHER_YEAR</th>\n",
       "      <th>TOTAL_WORKSITE_LOCATIONS</th>\n",
       "    </tr>\n",
       "  </thead>\n",
       "  <tbody>\n",
       "    <tr>\n",
       "      <th>count</th>\n",
       "      <td>644607.000000</td>\n",
       "      <td>644607.000000</td>\n",
       "      <td>644607.000000</td>\n",
       "      <td>644607.000000</td>\n",
       "      <td>644607.000000</td>\n",
       "      <td>644607.000000</td>\n",
       "      <td>644607.000000</td>\n",
       "      <td>6.446070e+05</td>\n",
       "      <td>38837.000000</td>\n",
       "      <td>644607.000000</td>\n",
       "      <td>6.446070e+05</td>\n",
       "      <td>37527.000000</td>\n",
       "      <td>4.704340e+05</td>\n",
       "      <td>28450.000000</td>\n",
       "      <td>644606.000000</td>\n",
       "      <td>6.446060e+05</td>\n",
       "      <td>2.093320e+05</td>\n",
       "      <td>644606.000000</td>\n",
       "      <td>29214.000000</td>\n",
       "      <td>644607.000000</td>\n",
       "    </tr>\n",
       "    <tr>\n",
       "      <th>mean</th>\n",
       "      <td>1.786774</td>\n",
       "      <td>0.707501</td>\n",
       "      <td>0.326310</td>\n",
       "      <td>0.148270</td>\n",
       "      <td>0.012682</td>\n",
       "      <td>0.290946</td>\n",
       "      <td>0.321568</td>\n",
       "      <td>1.583330e+10</td>\n",
       "      <td>458.055900</td>\n",
       "      <td>425370.382745</td>\n",
       "      <td>1.638068e+10</td>\n",
       "      <td>635.787193</td>\n",
       "      <td>1.512327e+10</td>\n",
       "      <td>953.940949</td>\n",
       "      <td>1.782545</td>\n",
       "      <td>1.158147e+05</td>\n",
       "      <td>1.414622e+05</td>\n",
       "      <td>98648.625744</td>\n",
       "      <td>2021.963579</td>\n",
       "      <td>1.485657</td>\n",
       "    </tr>\n",
       "    <tr>\n",
       "      <th>std</th>\n",
       "      <td>5.982872</td>\n",
       "      <td>4.709057</td>\n",
       "      <td>2.103792</td>\n",
       "      <td>1.723084</td>\n",
       "      <td>1.638036</td>\n",
       "      <td>1.768087</td>\n",
       "      <td>1.956156</td>\n",
       "      <td>4.980897e+10</td>\n",
       "      <td>1270.982256</td>\n",
       "      <td>208843.999615</td>\n",
       "      <td>7.747959e+10</td>\n",
       "      <td>1537.165210</td>\n",
       "      <td>1.365235e+10</td>\n",
       "      <td>2293.689845</td>\n",
       "      <td>5.930644</td>\n",
       "      <td>7.138029e+04</td>\n",
       "      <td>9.762760e+04</td>\n",
       "      <td>42924.522182</td>\n",
       "      <td>1.229957</td>\n",
       "      <td>0.740470</td>\n",
       "    </tr>\n",
       "    <tr>\n",
       "      <th>min</th>\n",
       "      <td>1.000000</td>\n",
       "      <td>0.000000</td>\n",
       "      <td>0.000000</td>\n",
       "      <td>0.000000</td>\n",
       "      <td>0.000000</td>\n",
       "      <td>0.000000</td>\n",
       "      <td>0.000000</td>\n",
       "      <td>1.074728e+09</td>\n",
       "      <td>0.000000</td>\n",
       "      <td>-4445.000000</td>\n",
       "      <td>1.000000e+09</td>\n",
       "      <td>0.000000</td>\n",
       "      <td>1.212279e+09</td>\n",
       "      <td>0.000000</td>\n",
       "      <td>1.000000</td>\n",
       "      <td>7.250000e+00</td>\n",
       "      <td>1.000000e+01</td>\n",
       "      <td>7.250000</td>\n",
       "      <td>1990.000000</td>\n",
       "      <td>1.000000</td>\n",
       "    </tr>\n",
       "    <tr>\n",
       "      <th>25%</th>\n",
       "      <td>1.000000</td>\n",
       "      <td>0.000000</td>\n",
       "      <td>0.000000</td>\n",
       "      <td>0.000000</td>\n",
       "      <td>0.000000</td>\n",
       "      <td>0.000000</td>\n",
       "      <td>0.000000</td>\n",
       "      <td>1.312396e+10</td>\n",
       "      <td>0.000000</td>\n",
       "      <td>334220.000000</td>\n",
       "      <td>1.312232e+10</td>\n",
       "      <td>0.000000</td>\n",
       "      <td>1.310479e+10</td>\n",
       "      <td>93.000000</td>\n",
       "      <td>1.000000</td>\n",
       "      <td>8.436500e+04</td>\n",
       "      <td>1.000010e+05</td>\n",
       "      <td>75213.000000</td>\n",
       "      <td>2022.000000</td>\n",
       "      <td>1.000000</td>\n",
       "    </tr>\n",
       "    <tr>\n",
       "      <th>50%</th>\n",
       "      <td>1.000000</td>\n",
       "      <td>0.000000</td>\n",
       "      <td>0.000000</td>\n",
       "      <td>0.000000</td>\n",
       "      <td>0.000000</td>\n",
       "      <td>0.000000</td>\n",
       "      <td>0.000000</td>\n",
       "      <td>1.512648e+10</td>\n",
       "      <td>0.000000</td>\n",
       "      <td>541511.000000</td>\n",
       "      <td>1.516405e+10</td>\n",
       "      <td>0.000000</td>\n",
       "      <td>1.416944e+10</td>\n",
       "      <td>125.000000</td>\n",
       "      <td>1.000000</td>\n",
       "      <td>1.095000e+05</td>\n",
       "      <td>1.323735e+05</td>\n",
       "      <td>98842.000000</td>\n",
       "      <td>2022.000000</td>\n",
       "      <td>1.000000</td>\n",
       "    </tr>\n",
       "    <tr>\n",
       "      <th>75%</th>\n",
       "      <td>1.000000</td>\n",
       "      <td>1.000000</td>\n",
       "      <td>0.000000</td>\n",
       "      <td>0.000000</td>\n",
       "      <td>0.000000</td>\n",
       "      <td>0.000000</td>\n",
       "      <td>0.000000</td>\n",
       "      <td>1.732509e+10</td>\n",
       "      <td>123.000000</td>\n",
       "      <td>541512.000000</td>\n",
       "      <td>1.720379e+10</td>\n",
       "      <td>305.000000</td>\n",
       "      <td>1.703544e+10</td>\n",
       "      <td>230.000000</td>\n",
       "      <td>1.000000</td>\n",
       "      <td>1.431870e+05</td>\n",
       "      <td>1.733199e+05</td>\n",
       "      <td>122699.000000</td>\n",
       "      <td>2023.000000</td>\n",
       "      <td>2.000000</td>\n",
       "    </tr>\n",
       "    <tr>\n",
       "      <th>max</th>\n",
       "      <td>1098.000000</td>\n",
       "      <td>1098.000000</td>\n",
       "      <td>1098.000000</td>\n",
       "      <td>1098.000000</td>\n",
       "      <td>1098.000000</td>\n",
       "      <td>1098.000000</td>\n",
       "      <td>1098.000000</td>\n",
       "      <td>9.769530e+12</td>\n",
       "      <td>9844.000000</td>\n",
       "      <td>928120.000000</td>\n",
       "      <td>9.767632e+12</td>\n",
       "      <td>9844.000000</td>\n",
       "      <td>5.986516e+12</td>\n",
       "      <td>9866.000000</td>\n",
       "      <td>1098.000000</td>\n",
       "      <td>1.756867e+07</td>\n",
       "      <td>2.113647e+07</td>\n",
       "      <td>489250.000000</td>\n",
       "      <td>2023.000000</td>\n",
       "      <td>10.000000</td>\n",
       "    </tr>\n",
       "  </tbody>\n",
       "</table>\n",
       "</div>"
      ],
      "text/plain": [
       "       TOTAL_WORKER_POSITIONS  NEW_EMPLOYMENT  CONTINUED_EMPLOYMENT  \\\n",
       "count           644607.000000   644607.000000         644607.000000   \n",
       "mean                 1.786774        0.707501              0.326310   \n",
       "std                  5.982872        4.709057              2.103792   \n",
       "min                  1.000000        0.000000              0.000000   \n",
       "25%                  1.000000        0.000000              0.000000   \n",
       "50%                  1.000000        0.000000              0.000000   \n",
       "75%                  1.000000        1.000000              0.000000   \n",
       "max               1098.000000     1098.000000           1098.000000   \n",
       "\n",
       "       CHANGE_PREVIOUS_EMPLOYMENT  NEW_CONCURRENT_EMPLOYMENT  CHANGE_EMPLOYER  \\\n",
       "count               644607.000000              644607.000000    644607.000000   \n",
       "mean                     0.148270                   0.012682         0.290946   \n",
       "std                      1.723084                   1.638036         1.768087   \n",
       "min                      0.000000                   0.000000         0.000000   \n",
       "25%                      0.000000                   0.000000         0.000000   \n",
       "50%                      0.000000                   0.000000         0.000000   \n",
       "75%                      0.000000                   0.000000         0.000000   \n",
       "max                   1098.000000                1098.000000      1098.000000   \n",
       "\n",
       "       AMENDED_PETITION  EMPLOYER_PHONE  EMPLOYER_PHONE_EXT     NAICS_CODE  \\\n",
       "count     644607.000000    6.446070e+05        38837.000000  644607.000000   \n",
       "mean           0.321568    1.583330e+10          458.055900  425370.382745   \n",
       "std            1.956156    4.980897e+10         1270.982256  208843.999615   \n",
       "min            0.000000    1.074728e+09            0.000000   -4445.000000   \n",
       "25%            0.000000    1.312396e+10            0.000000  334220.000000   \n",
       "50%            0.000000    1.512648e+10            0.000000  541511.000000   \n",
       "75%            0.000000    1.732509e+10          123.000000  541512.000000   \n",
       "max         1098.000000    9.769530e+12         9844.000000  928120.000000   \n",
       "\n",
       "       EMPLOYER_POC_PHONE  EMPLOYER_POC_PHONE_EXT  AGENT_ATTORNEY_PHONE  \\\n",
       "count        6.446070e+05            37527.000000          4.704340e+05   \n",
       "mean         1.638068e+10              635.787193          1.512327e+10   \n",
       "std          7.747959e+10             1537.165210          1.365235e+10   \n",
       "min          1.000000e+09                0.000000          1.212279e+09   \n",
       "25%          1.312232e+10                0.000000          1.310479e+10   \n",
       "50%          1.516405e+10                0.000000          1.416944e+10   \n",
       "75%          1.720379e+10              305.000000          1.703544e+10   \n",
       "max          9.767632e+12             9844.000000          5.986516e+12   \n",
       "\n",
       "       AGENT_ATTORNEY_PHONE_EXT  WORKSITE_WORKERS  WAGE_RATE_OF_PAY_FROM  \\\n",
       "count              28450.000000     644606.000000           6.446060e+05   \n",
       "mean                 953.940949          1.782545           1.158147e+05   \n",
       "std                 2293.689845          5.930644           7.138029e+04   \n",
       "min                    0.000000          1.000000           7.250000e+00   \n",
       "25%                   93.000000          1.000000           8.436500e+04   \n",
       "50%                  125.000000          1.000000           1.095000e+05   \n",
       "75%                  230.000000          1.000000           1.431870e+05   \n",
       "max                 9866.000000       1098.000000           1.756867e+07   \n",
       "\n",
       "       WAGE_RATE_OF_PAY_TO  PREVAILING_WAGE  PW_OTHER_YEAR  \\\n",
       "count         2.093320e+05    644606.000000   29214.000000   \n",
       "mean          1.414622e+05     98648.625744    2021.963579   \n",
       "std           9.762760e+04     42924.522182       1.229957   \n",
       "min           1.000000e+01         7.250000    1990.000000   \n",
       "25%           1.000010e+05     75213.000000    2022.000000   \n",
       "50%           1.323735e+05     98842.000000    2022.000000   \n",
       "75%           1.733199e+05    122699.000000    2023.000000   \n",
       "max           2.113647e+07    489250.000000    2023.000000   \n",
       "\n",
       "       TOTAL_WORKSITE_LOCATIONS  \n",
       "count             644607.000000  \n",
       "mean                   1.485657  \n",
       "std                    0.740470  \n",
       "min                    1.000000  \n",
       "25%                    1.000000  \n",
       "50%                    1.000000  \n",
       "75%                    2.000000  \n",
       "max                   10.000000  "
      ]
     },
     "execution_count": 12,
     "metadata": {},
     "output_type": "execute_result"
    }
   ],
   "source": [
    "# Statistical description\n",
    "\n",
    "h1b_visa_data_2023.describe()"
   ]
  },
  {
   "cell_type": "code",
   "execution_count": 13,
   "metadata": {},
   "outputs": [
    {
     "data": {
      "text/plain": [
       "CASE_NUMBER                     0\n",
       "CASE_STATUS                     0\n",
       "RECEIVED_DATE                   0\n",
       "DECISION_DATE                   0\n",
       "ORIGINAL_CERT_DATE         602650\n",
       "                            ...  \n",
       "PREPARER_LAST_NAME         319681\n",
       "PREPARER_FIRST_NAME        319676\n",
       "PREPARER_MIDDLE_INITIAL    545443\n",
       "PREPARER_BUSINESS_NAME     313110\n",
       "PREPARER_EMAIL             315428\n",
       "Length: 96, dtype: int64"
      ]
     },
     "execution_count": 13,
     "metadata": {},
     "output_type": "execute_result"
    }
   ],
   "source": [
    "# Data cleaning\n",
    "\n",
    "h1b_visa_data_2023.isnull().sum()"
   ]
  },
  {
   "cell_type": "code",
   "execution_count": 14,
   "metadata": {},
   "outputs": [],
   "source": [
    "# Handling missing values\n",
    "\n",
    "h1b_visa_data_2023.fillna(h1b_visa_data_2023.median(numeric_only=True),inplace=True)"
   ]
  },
  {
   "cell_type": "code",
   "execution_count": 15,
   "metadata": {},
   "outputs": [
    {
     "name": "stdout",
     "output_type": "stream",
     "text": [
      "CASE_NUMBER 0\n",
      "CASE_STATUS 0\n",
      "RECEIVED_DATE 0\n",
      "DECISION_DATE 0\n",
      "ORIGINAL_CERT_DATE 602650\n",
      "VISA_CLASS 0\n",
      "JOB_TITLE 0\n",
      "SOC_CODE 0\n",
      "SOC_TITLE 0\n",
      "FULL_TIME_POSITION 0\n",
      "BEGIN_DATE 0\n",
      "END_DATE 0\n",
      "TOTAL_WORKER_POSITIONS 0\n",
      "NEW_EMPLOYMENT 0\n",
      "CONTINUED_EMPLOYMENT 0\n",
      "CHANGE_PREVIOUS_EMPLOYMENT 0\n",
      "NEW_CONCURRENT_EMPLOYMENT 0\n",
      "CHANGE_EMPLOYER 0\n",
      "AMENDED_PETITION 0\n",
      "EMPLOYER_NAME 0\n",
      "TRADE_NAME_DBA 585693\n",
      "EMPLOYER_ADDRESS1 0\n",
      "EMPLOYER_ADDRESS2 350973\n",
      "EMPLOYER_CITY 0\n",
      "EMPLOYER_STATE 198\n",
      "EMPLOYER_POSTAL_CODE 0\n",
      "EMPLOYER_COUNTRY 0\n",
      "EMPLOYER_PROVINCE 605533\n",
      "EMPLOYER_PHONE 0\n",
      "EMPLOYER_PHONE_EXT 0\n",
      "NAICS_CODE 0\n",
      "EMPLOYER_POC_LAST_NAME 4\n",
      "EMPLOYER_POC_FIRST_NAME 0\n",
      "EMPLOYER_POC_MIDDLE_NAME 523780\n",
      "EMPLOYER_POC_JOB_TITLE 0\n",
      "EMPLOYER_POC_ADDRESS1 0\n",
      "EMPLOYER_POC_ADDRESS2 343766\n",
      "EMPLOYER_POC_CITY 0\n",
      "EMPLOYER_POC_STATE 737\n",
      "EMPLOYER_POC_POSTAL_CODE 3\n",
      "EMPLOYER_POC_COUNTRY 3\n",
      "EMPLOYER_POC_PROVINCE 643233\n",
      "EMPLOYER_POC_PHONE 0\n",
      "EMPLOYER_POC_PHONE_EXT 0\n",
      "EMPLOYER_POC_EMAIL 13918\n",
      "AGENT_REPRESENTING_EMPLOYER 0\n",
      "AGENT_ATTORNEY_LAST_NAME 174173\n",
      "AGENT_ATTORNEY_FIRST_NAME 174173\n",
      "AGENT_ATTORNEY_MIDDLE_NAME 403307\n",
      "AGENT_ATTORNEY_ADDRESS1 174173\n",
      "AGENT_ATTORNEY_ADDRESS2 273652\n",
      "AGENT_ATTORNEY_CITY 174173\n",
      "AGENT_ATTORNEY_STATE 195922\n",
      "AGENT_ATTORNEY_POSTAL_CODE 174173\n",
      "AGENT_ATTORNEY_COUNTRY 174173\n",
      "AGENT_ATTORNEY_PROVINCE 593039\n",
      "AGENT_ATTORNEY_PHONE 0\n",
      "AGENT_ATTORNEY_PHONE_EXT 0\n",
      "AGENT_ATTORNEY_EMAIL_ADDRESS 174177\n",
      "LAWFIRM_NAME_BUSINESS_NAME 174173\n",
      "STATE_OF_HIGHEST_COURT 175233\n",
      "NAME_OF_HIGHEST_STATE_COURT 175443\n",
      "WORKSITE_WORKERS 0\n",
      "SECONDARY_ENTITY 0\n",
      "SECONDARY_ENTITY_BUSINESS_NAME 505915\n",
      "WORKSITE_ADDRESS1 1\n",
      "WORKSITE_ADDRESS2 450678\n",
      "WORKSITE_CITY 15\n",
      "WORKSITE_COUNTY 2\n",
      "WORKSITE_STATE 1\n",
      "WORKSITE_POSTAL_CODE 1\n",
      "WAGE_RATE_OF_PAY_FROM 0\n",
      "WAGE_RATE_OF_PAY_TO 0\n",
      "WAGE_UNIT_OF_PAY 1\n",
      "PREVAILING_WAGE 0\n",
      "PW_UNIT_OF_PAY 1\n",
      "PW_TRACKING_NUMBER 643538\n",
      "PW_WAGE_LEVEL 33303\n",
      "PW_OES_YEAR 30284\n",
      "PW_OTHER_SOURCE 615393\n",
      "PW_OTHER_YEAR 0\n",
      "PW_SURVEY_PUBLISHER 622461\n",
      "PW_SURVEY_NAME 622466\n",
      "TOTAL_WORKSITE_LOCATIONS 0\n",
      "AGREE_TO_LC_STATEMENT 0\n",
      "H_1B_DEPENDENT 17309\n",
      "WILLFUL_VIOLATOR 17311\n",
      "SUPPORT_H1B 471469\n",
      "STATUTORY_BASIS 472428\n",
      "APPENDIX_A_ATTACHED 644172\n",
      "PUBLIC_DISCLOSURE 119\n",
      "PREPARER_LAST_NAME 319681\n",
      "PREPARER_FIRST_NAME 319676\n",
      "PREPARER_MIDDLE_INITIAL 545443\n",
      "PREPARER_BUSINESS_NAME 313110\n",
      "PREPARER_EMAIL 315428\n"
     ]
    }
   ],
   "source": [
    "column_list = h1b_visa_data_2023.columns.tolist()\n",
    "\n",
    "for column_list in column_list:\n",
    "    print(column_list,h1b_visa_data_2023[column_list].isnull().sum())\n",
    "   "
   ]
  },
  {
   "cell_type": "code",
   "execution_count": 16,
   "metadata": {},
   "outputs": [],
   "source": [
    "# Dropping null rows\n",
    "\n",
    "h1b_visa_data_2023 = h1b_visa_data_2023.dropna(subset=[\"EMPLOYER_STATE\", \"WORKSITE_STATE\"])"
   ]
  },
  {
   "cell_type": "code",
   "execution_count": 17,
   "metadata": {},
   "outputs": [
    {
     "data": {
      "text/plain": [
       "np.int64(97933)"
      ]
     },
     "execution_count": 17,
     "metadata": {},
     "output_type": "execute_result"
    }
   ],
   "source": [
    "# Checking for duplicates \n",
    "\n",
    "h1b_visa_data_2023.duplicated().sum()"
   ]
  },
  {
   "cell_type": "code",
   "execution_count": 18,
   "metadata": {},
   "outputs": [],
   "source": [
    "# Removing duplicate entry \n",
    "\n",
    "h1b_visa_data_2023.drop_duplicates(inplace=True)"
   ]
  },
  {
   "cell_type": "code",
   "execution_count": 19,
   "metadata": {},
   "outputs": [
    {
     "data": {
      "text/plain": [
       "np.int64(0)"
      ]
     },
     "execution_count": 19,
     "metadata": {},
     "output_type": "execute_result"
    }
   ],
   "source": [
    "# Verifying the removal of duplicates\n",
    "\n",
    "h1b_visa_data_2023.duplicated().sum()"
   ]
  },
  {
   "cell_type": "code",
   "execution_count": 21,
   "metadata": {},
   "outputs": [
    {
     "data": {
      "text/plain": [
       "array(['Certified', 'Certified - Withdrawn', 'Denied', 'Withdrawn'],\n",
       "      dtype=object)"
      ]
     },
     "execution_count": 21,
     "metadata": {},
     "output_type": "execute_result"
    }
   ],
   "source": [
    "# Checking the unique values of case status\n",
    "\n",
    "h1b_visa_data_2023['CASE_STATUS'].unique()"
   ]
  },
  {
   "cell_type": "code",
   "execution_count": 22,
   "metadata": {},
   "outputs": [
    {
     "data": {
      "text/plain": [
       "CASE_STATUS\n",
       "Certified                500839\n",
       "Certified - Withdrawn     33461\n",
       "Withdrawn                  9553\n",
       "Denied                     2622\n",
       "Name: count, dtype: int64"
      ]
     },
     "execution_count": 22,
     "metadata": {},
     "output_type": "execute_result"
    }
   ],
   "source": [
    "# Counting the values of each case status\n",
    "\n",
    "h1b_visa_data_2023['CASE_STATUS'].value_counts()"
   ]
  },
  {
   "cell_type": "markdown",
   "metadata": {},
   "source": [
    "In 2023, there were 500839 certified applicant which means 91.64% of the total applicant were approved. Similarly, 33,461 were approved initially, but the employer later decided to withdraw it. 9553 withdrawn their application whereas only 2622(0.48%) were denied. "
   ]
  },
  {
   "cell_type": "code",
   "execution_count": 23,
   "metadata": {},
   "outputs": [],
   "source": [
    "# Filtered dataset for certified case only \n",
    "\n",
    "h1b_visa_data_2023_certified = h1b_visa_data_2023[h1b_visa_data_2023['CASE_STATUS']=='Certified']"
   ]
  },
  {
   "cell_type": "code",
   "execution_count": 24,
   "metadata": {},
   "outputs": [
    {
     "data": {
      "text/plain": [
       "JOB_TITLE\n",
       "Software Engineer                                               27024\n",
       "Software Developer                                              16962\n",
       "Senior Software Engineer                                         6206\n",
       "SOFTWARE DEVELOPER                                               5414\n",
       "Manager JC50                                                     4284\n",
       "Assistant Professor                                              4117\n",
       "SOFTWARE ENGINEER                                                3981\n",
       "Software Development Engineer I                                  2607\n",
       "Analyst                                                          2407\n",
       "Data Engineer                                                    2405\n",
       "Associate                                                        2396\n",
       "Architect                                                        2395\n",
       "Software Development Engineer II                                 2327\n",
       "Data Scientist                                                   2059\n",
       "Senior Systems Analyst JC60                                      1837\n",
       "Technology Lead - US                                             1837\n",
       "Manager JC50 - Computer Systems Engineers/Architects             1836\n",
       "Software Engineer                                                1628\n",
       "Manager                                                          1565\n",
       "Senior Associate JC60 -Computer Systems Engineers/Architects     1539\n",
       "Product Manager                                                  1414\n",
       "Project Manager                                                  1413\n",
       "Business Analyst                                                 1370\n",
       "Vice President                                                   1318\n",
       "Research Scientist                                               1280\n",
       "Staff Software Engineer                                          1269\n",
       "Java Developer                                                   1267\n",
       "Software Development Engineer                                    1201\n",
       "Software Engineer III                                            1178\n",
       "Software Engineer II                                             1146\n",
       "Senior Software Developer                                        1137\n",
       "Application Developer                                            1134\n",
       "Senior Manager JC45                                              1119\n",
       "Developer                                                        1075\n",
       "Software Developer                                               1074\n",
       "Data Analyst                                                     1072\n",
       "Lead Software Engineer                                           1022\n",
       "Sr. Software Engineer                                             996\n",
       "Research Associate                                                995\n",
       "ARCHITECT                                                         948\n",
       "Senior Consultant                                                 916\n",
       "DevOps Engineer                                                   905\n",
       "Computer Systems Analyst                                          890\n",
       "Process Engineer                                                  884\n",
       "Component Design Engineer                                         853\n",
       "Physical Therapist                                                845\n",
       "Applications Consultant 3                                         839\n",
       "Medical Technologist                                              835\n",
       "Senior Data Engineer                                              818\n",
       "Technical Lead                                                    816\n",
       "Project Manager - US                                              806\n",
       "Mechanical Engineer                                               798\n",
       "Consultant - US                                                   781\n",
       "Consultant                                                        771\n",
       "Systems Engineer                                                  767\n",
       "Programmer Analyst                                                758\n",
       "Systems Analyst                                                   754\n",
       "Postdoctoral Fellow                                               735\n",
       "Project Engineer                                                  722\n",
       "DEVELOPER                                                         722\n",
       "Name: count, dtype: int64"
      ]
     },
     "execution_count": 24,
     "metadata": {},
     "output_type": "execute_result"
    }
   ],
   "source": [
    "# Distribution of job title on certified case \n",
    "\n",
    "h1b_visa_data_2023_certified['JOB_TITLE'].value_counts().head(60)"
   ]
  },
  {
   "cell_type": "code",
   "execution_count": 25,
   "metadata": {},
   "outputs": [
    {
     "data": {
      "text/plain": [
       "JOB_TITLE\n",
       "Vice President, BXTI Credit                                     1\n",
       "Business Account Manager                                        1\n",
       "MS Sr Systems Analyst                                           1\n",
       "Senior Technical Support Engineer, Premier Support              1\n",
       "Senior Data Engineer (017040.001021)                            1\n",
       "Accountants and Auditors - KBGFJG218465-1                       1\n",
       "Product Support and Test Engineer                               1\n",
       "Senior Engagement Manager (Management Analyst)                  1\n",
       "Manufacturing Launch Engineer                                   1\n",
       "Lead MDM Developer                                              1\n",
       "Financial Analysist  III- MBA                                   1\n",
       "Global Director of Analytics Services                           1\n",
       "Marketing Data Science Manager                                  1\n",
       "Senior Manager, IT Risk & Controls                              1\n",
       "Director of Rooms Operations                                    1\n",
       "NAND Marketing Operations Manager                               1\n",
       "IT Project Senior Analyst                                       1\n",
       "FULL STACK / DEVOPS ENGINEER                                    1\n",
       "Senior Manager- Technical Accounting Policy                     1\n",
       "Assistant Men’s and Women’s Soccer Coach                        1\n",
       "Economics & Planning Manager, Fuels - KBGFJG187319-3            1\n",
       "Unix system administrator L2                                    1\n",
       "Financial and Investment Analysts - KBGFJG220165-1              1\n",
       "IT Enterprise Architecture-Finance                              1\n",
       "Director of ASIC Engineering                                    1\n",
       "Director Trader                                                 1\n",
       "Platform Infrastructure Engineer                                1\n",
       "Digital Product Experience Designer                             1\n",
       "Assistant Professor of Financial Economics                      1\n",
       "Talent Manager                                                  1\n",
       "Sr. Specialist- Technology                                      1\n",
       "Industrial Engineer (Business Excellence Black Belt)            1\n",
       "Sales Director - KBGFJG80852-4                                  1\n",
       "Supply Chain Solutions Associate Manager, Business Intellige    1\n",
       "Princ Engr Systems Engrg  (Member Technical Staff)              1\n",
       "Staff Software Development Engineer In Test                     1\n",
       "HR IT Servicenow                                                1\n",
       "System / Network Administrator                                  1\n",
       "Staff SAP OTC Business Systems Analyst                          1\n",
       "Associate Principal, Risk Model Engineering                     1\n",
       "Operations Research Analysts - KBGFJG219142-1                   1\n",
       "Reserach Assistant Professor                                    1\n",
       "Asst Prof of Economics                                          1\n",
       "Scheduling Software Developer                                   1\n",
       "ACCOUNTANT / HEAD OF BUSINESS AFFAIRS                           1\n",
       "Sr. Mgr, RCO - Vendor Operations & Engagement                   1\n",
       "IT Strategy and Transformation Function Manager                 1\n",
       "Director and Treasurer                                          1\n",
       "Principal Engineer, Application Engineering                     1\n",
       "Software Developers - KBGFJG178626-2\\t                          1\n",
       "Senior Designer/Project Manager                                 1\n",
       "FPGA Verification Engineer                                      1\n",
       "PULMONARY / CRITICAL CARE PHYSICIAN                             1\n",
       "Vice President of Fundraising                                   1\n",
       "Senior Specialty Software Engineer (017040.000704)              1\n",
       "DataStage Developer, Software Engineering II                    1\n",
       "Software Developers - Kbgfjg184830-3                            1\n",
       "Lead Software Engineer (017040.000363)                          1\n",
       "Technology Data Management Associate Manager                    1\n",
       "ERP Analyst IV                                                  1\n",
       "Name: count, dtype: int64"
      ]
     },
     "execution_count": 25,
     "metadata": {},
     "output_type": "execute_result"
    }
   ],
   "source": [
    "h1b_visa_data_2023_certified['JOB_TITLE'].value_counts().tail(60)"
   ]
  },
  {
   "cell_type": "code",
   "execution_count": 26,
   "metadata": {},
   "outputs": [],
   "source": [
    "# Assuming `h1b_visa_data_2023_certified` is a DataFrame\n",
    "job_title_counts = h1b_visa_data_2023_certified['JOB_TITLE'].value_counts()\n",
    "\n",
    "\n",
    "# Save the output to a text file\n",
    "with open('job_title_counts_2023.txt', 'w') as f:\n",
    "    f.write(job_title_counts.to_string())"
   ]
  },
  {
   "cell_type": "code",
   "execution_count": 27,
   "metadata": {},
   "outputs": [],
   "source": [
    "# Distribution plot of top 10 Job Status\n",
    "top_jobs = h1b_visa_data_2023_certified[\"JOB_TITLE\"].value_counts().head(10)"
   ]
  },
  {
   "cell_type": "code",
   "execution_count": 28,
   "metadata": {},
   "outputs": [
    {
     "data": {
      "image/png": "[encoded data removed]",
      "text/plain": [
       "<Figure size 1000x600 with 1 Axes>"
      ]
     },
     "metadata": {},
     "output_type": "display_data"
    }
   ],
   "source": [
    "# plot bar graph\n",
    "top_jobs.plot(kind=\"bar\",title=\"Top 10 Jobs\",figsize=(10,6),colormap='PiYG')\n",
    "plt.show()"
   ]
  },
  {
   "cell_type": "markdown",
   "metadata": {},
   "source": [
    "From the above data, mostly the IT professionals are highly certified such as Software Engineer, Software Developer, and Senior Software Engineer.\n"
   ]
  },
  {
   "cell_type": "code",
   "execution_count": 29,
   "metadata": {},
   "outputs": [
    {
     "data": {
      "image/png": "[encoded data removed]",
      "text/plain": [
       "<Figure size 1000x600 with 1 Axes>"
      ]
     },
     "metadata": {},
     "output_type": "display_data"
    }
   ],
   "source": [
    "# Distribution of Prevailing wage with Histogram plot\n",
    "\n",
    "plt.figure(figsize=(10,6))\n",
    "sns.histplot(h1b_visa_data_2023_certified[\"PREVAILING_WAGE\"],bins=30,kde=True)\n",
    "plt.title(\"Distribution of wage rate among the certified candidate\")\n",
    "plt.show()\n",
    "\n"
   ]
  },
  {
   "cell_type": "markdown",
   "metadata": {},
   "source": [
    "The graph shows that most H1B-certified candidates earn wages clustered in the lower to mid-range, with a significant concentration around $100,000 or below, as indicated by the tallest bars. The frequency of certified applicants sharply declines as wages exceed this range, reflecting compliance with prevailing wage standards and typical salary structures in industries like tech and engineering."
   ]
  },
  {
   "cell_type": "code",
   "execution_count": 30,
   "metadata": {},
   "outputs": [],
   "source": [
    "# Distribution of worksite states\n",
    "\n",
    "top_worksite_state = h1b_visa_data_2023_certified[\"WORKSITE_STATE\"].value_counts().head(10)\n"
   ]
  },
  {
   "cell_type": "code",
   "execution_count": 31,
   "metadata": {},
   "outputs": [
    {
     "data": {
      "image/png": "[encoded data removed]",
      "text/plain": [
       "<Figure size 1000x600 with 1 Axes>"
      ]
     },
     "metadata": {},
     "output_type": "display_data"
    }
   ],
   "source": [
    "# plot bar graph for worksite states\n",
    "\n",
    "top_worksite_state.plot(kind=\"bar\",title=\"Top 10 Worksite States\",figsize=(10,6),colormap='coolwarm')\n",
    "plt.show()"
   ]
  },
  {
   "cell_type": "markdown",
   "metadata": {},
   "source": [
    "The bar plot shows the top 10 states with the highest number of certified H-1B visa applications in 2023. California has the highest number of certified H-1B applications, followed by Texas and New York. The remaining states including, Washington, New Jersey, Illinois, Georgia, North Carolina, Massachusetts, and Florida have a progressively decreasing number of applications."
   ]
  },
  {
   "cell_type": "code",
   "execution_count": 33,
   "metadata": {},
   "outputs": [
    {
     "name": "stdout",
     "output_type": "stream",
     "text": [
      "WORKSITE_STATE\n",
      "WV    169943.593452\n",
      "WA    143772.954806\n",
      "CA    142622.665116\n",
      "ME    131254.613458\n",
      "NY    128594.828167\n",
      "DE    113585.696208\n",
      "DC    113106.224284\n",
      "MA    111854.256896\n",
      "MS    111568.956937\n",
      "NJ    110880.102526\n",
      "NV    109326.541994\n",
      "RI    108652.660282\n",
      "CO    108546.031674\n",
      "OR    108542.011634\n",
      "CT    106286.293462\n",
      "VA    106214.511813\n",
      "NH    105663.784394\n",
      "IL    105497.172739\n",
      "TX    105095.924630\n",
      "GA    104636.489540\n",
      "MD    104319.532418\n",
      "AZ    104263.762055\n",
      "NC    104251.924062\n",
      "AL    104089.851210\n",
      "AR    104002.469591\n",
      "PA    103014.992258\n",
      "SD    101699.132245\n",
      "FL    100878.251116\n",
      "IA    100056.188894\n",
      "LA     99585.223718\n",
      "ID     99153.797469\n",
      "KY     98928.751927\n",
      "MN     98340.620029\n",
      "OH     98048.045655\n",
      "WI     97814.808558\n",
      "MO     97030.145116\n",
      "HI     96612.939338\n",
      "KS     96560.549268\n",
      "TN     96360.847500\n",
      "UT     95857.662527\n",
      "SC     93440.014295\n",
      "MI     92387.740549\n",
      "IN     92308.100683\n",
      "NE     92115.958607\n",
      "VT     91913.464412\n",
      "OK     90096.976432\n",
      "AK     89533.543429\n",
      "MT     89379.575867\n",
      "NM     89200.897396\n",
      "WY     84910.895282\n",
      "PR     80454.205641\n",
      "ND     74085.832092\n",
      "GU     60440.936556\n",
      "VI     45508.046111\n",
      "MP     19243.602727\n",
      "Name: WAGE_RATE_OF_PAY_FROM, dtype: float64\n"
     ]
    }
   ],
   "source": [
    "# Average wage by states\n",
    "\n",
    "average_wage_by_state = h1b_visa_data_2023_certified.groupby(\"WORKSITE_STATE\")[\"WAGE_RATE_OF_PAY_FROM\"].mean().sort_values(ascending=False)\n",
    "print(average_wage_by_state)"
   ]
  },
  {
   "cell_type": "code",
   "execution_count": 34,
   "metadata": {},
   "outputs": [
    {
     "data": {
      "image/png": "[encoded data removed]",
      "text/plain": [
       "<Figure size 1000x600 with 1 Axes>"
      ]
     },
     "metadata": {},
     "output_type": "display_data"
    }
   ],
   "source": [
    "# plot bar graph of top 10 average wage by state \n",
    "average_wage_by_state.head(10).plot(kind=\"bar\",title=\"Top 10 States by average wages\",figsize=(10,6),colormap='rainbow')\n",
    "plt.show()"
   ]
  },
  {
   "cell_type": "markdown",
   "metadata": {},
   "source": [
    "The bar chart presents the top 10 states with the highest average wages for H1B visa applications in 2023. West Virginia leads with the highest average wage, followed by Washington and California. The remaining states, including Maine, New York, Delaware, District of Columbia, Massachusetts, Mississippi, and New Jersey show a gradual decrease in average wages."
   ]
  },
  {
   "cell_type": "code",
   "execution_count": 35,
   "metadata": {},
   "outputs": [
    {
     "data": {
      "image/png": "[encoded data removed]",
      "text/plain": [
       "<Figure size 1000x600 with 1 Axes>"
      ]
     },
     "metadata": {},
     "output_type": "display_data"
    }
   ],
   "source": [
    "# plot bar graph of low 10 average wage by state \n",
    "average_wage_by_state.tail(10).plot(kind=\"bar\",title=\"Low 10 States by average wages\",figsize=(10,6),colormap='rainbow')\n",
    "plt.show()"
   ]
  },
  {
   "cell_type": "markdown",
   "metadata": {},
   "source": [
    "The bar chart presents the bottom 10 states with the lowest average wages for H1B visa applications in 2023. Oklahoma has the lowest average wage, followed by Alaska and Montana. The remaining states, including New Mexico, Wyoming, Puerto Rico, North Dakota, Guam, Virgin Islands, and Northern Mariana Islands, show a gradual increase in average wages."
   ]
  },
  {
   "cell_type": "code",
   "execution_count": 36,
   "metadata": {},
   "outputs": [
    {
     "name": "stdout",
     "output_type": "stream",
     "text": [
      "SOC_TITLE\n",
      "Software Developers                                171785\n",
      "Computer Systems Analysts                           28356\n",
      "Computer Systems Engineers/Architects               23507\n",
      "Information Technology Project Managers             17277\n",
      "Software Quality Assurance Analysts and Testers     15071\n",
      "Computer and Information Systems Managers           11535\n",
      "Data Scientists                                     10557\n",
      "Computer Programmers                                10023\n",
      "Accountants and Auditors                             9187\n",
      "Business Intelligence Analysts                       8801\n",
      "Name: count, dtype: int64\n"
     ]
    }
   ],
   "source": [
    "# Distribution plot of top 10 SOC_TITLE\n",
    "top_soc_title = h1b_visa_data_2023_certified[\"SOC_TITLE\"].value_counts().head(10)\n",
    "print(top_soc_title)"
   ]
  },
  {
   "cell_type": "code",
   "execution_count": 38,
   "metadata": {},
   "outputs": [
    {
     "data": {
      "image/png": "[encoded data removed]",
      "text/plain": [
       "<Figure size 1000x600 with 1 Axes>"
      ]
     },
     "metadata": {},
     "output_type": "display_data"
    }
   ],
   "source": [
    "# Bar plot of top 10 soc_title\n",
    "top_soc_title.plot(kind=\"bar\",title=\"Top 10 SOC Title\",figsize=(10,6),colormap=\"Set1\")\n",
    "plt.show()"
   ]
  },
  {
   "cell_type": "code",
   "execution_count": 39,
   "metadata": {},
   "outputs": [
    {
     "name": "stdout",
     "output_type": "stream",
     "text": [
      "SOC_TITLE\n",
      "Diagnostic Medical Sonographers                                  1\n",
      "FOOD SCIENTIST AND TECHNOLOGIST                                  1\n",
      "Medical Transcriptionists                                        1\n",
      "Radio, Cellular, and Tower Equipment Installers and Repairers    1\n",
      "Property, Real Estate, and Community Association M               1\n",
      "BUSINESS TEACHERS, POSTSECONDARY                                 1\n",
      "ENGINEERING TEACHERS, POST SECONDARY                             1\n",
      "ELECTRONICS ENGINEERS, EXCEPT COMPUTERS                          1\n",
      "Architects                                                       1\n",
      "Tool and Die Makers                                              1\n",
      "Name: count, dtype: int64\n"
     ]
    }
   ],
   "source": [
    "# Distribution plot of bottom 10 SOC_TITLE\n",
    "bottom_soc_title = h1b_visa_data_2023_certified[\"SOC_TITLE\"].value_counts().tail(10)\n",
    "print(bottom_soc_title)"
   ]
  },
  {
   "cell_type": "code",
   "execution_count": 40,
   "metadata": {},
   "outputs": [
    {
     "data": {
      "image/png": "[encoded data removed]",
      "text/plain": [
       "<Figure size 1600x600 with 1 Axes>"
      ]
     },
     "metadata": {},
     "output_type": "display_data"
    }
   ],
   "source": [
    "# Wages by Job title\n",
    "\n",
    "plt.figure(figsize=(16,6))\n",
    "sns.boxplot(data=h1b_visa_data_2023_certified[[\"SOC_TITLE\",\n",
    "                                               \"WAGE_RATE_OF_PAY_FROM\"]].sort_values(by=\"WAGE_RATE_OF_PAY_FROM\",\n",
    "                                                                                     ascending=False).head(10),x=\"SOC_TITLE\",\n",
    "                                                                                     y=\"WAGE_RATE_OF_PAY_FROM\",showmeans=True)\n",
    "plt.xticks(rotation=90)\n",
    "plt.show()\n"
   ]
  },
  {
   "cell_type": "code",
   "execution_count": 41,
   "metadata": {},
   "outputs": [
    {
     "name": "stdout",
     "output_type": "stream",
     "text": [
      "EMPLOYER_NAME\n",
      "COGNIZANT TECHNOLOGY SOLUTIONS US CORP    12963\n",
      "Amazon.com Services LLC                   11644\n",
      "Ernst & Young U.S. LLP                    10828\n",
      "Google LLC                                 9669\n",
      "Microsoft Corporation                      7819\n",
      "INFOSYS LIMITED                            7779\n",
      "TATA CONSULTANCY SERVICES LIMITED          5704\n",
      "Apple Inc.                                 3951\n",
      "HCL AMERICA INC                            3621\n",
      "Intel Corporation                          3550\n",
      "Accenture LLP                              3458\n",
      "Amazon Web Services, Inc.                  3202\n",
      "CAPGEMINI AMERICA INC                      3191\n",
      "Qualcomm Technologies, Inc.                3032\n",
      "WIPRO LIMITED                              2857\n",
      "Meta Platforms, Inc.                       2852\n",
      "Tata Consultancy Services Limited          2791\n",
      "WAL-MART ASSOCIATES, INC.                  2772\n",
      "IBM Corporation                            2211\n",
      "Deloitte Consulting LLP                    2187\n",
      "Name: count, dtype: int64\n"
     ]
    }
   ],
   "source": [
    "# Top employers getting H1B visa certified\n",
    "\n",
    "top_employers = h1b_visa_data_2023_certified[\"EMPLOYER_NAME\"].value_counts().head(20)\n",
    "print(top_employers)"
   ]
  },
  {
   "cell_type": "code",
   "execution_count": 42,
   "metadata": {},
   "outputs": [
    {
     "name": "stdout",
     "output_type": "stream",
     "text": [
      "EMPLOYER_NAME\n",
      "Vigorito, Barker, Patterson, Nichols & Porter, LLP    1\n",
      "TSQ Systems Inc.                                      1\n",
      "Opportune LLP                                         1\n",
      "Satelytics, Inc.                                      1\n",
      "DHARMACON INC.                                        1\n",
      "PECOS INN, LLC                                        1\n",
      "Pacific Sports, Inc.                                  1\n",
      "AKI TECHNOLOGIES, INC.                                1\n",
      "THAKKAR                                               1\n",
      "Just Imagine, Inc.                                    1\n",
      "Name: count, dtype: int64\n"
     ]
    }
   ],
   "source": [
    "# Bottom employers getting H1B visa certified\n",
    "\n",
    "bottom_employers = h1b_visa_data_2023_certified[\"EMPLOYER_NAME\"].value_counts().tail(10)\n",
    "print(bottom_employers)"
   ]
  },
  {
   "cell_type": "code",
   "execution_count": 43,
   "metadata": {},
   "outputs": [],
   "source": [
    "employer = h1b_visa_data_2023_certified[\"EMPLOYER_NAME\"].value_counts()\n",
    "\n",
    "# Save the output to a text file\n",
    "with open('employer-2023.txt', 'w') as f:\n",
    "    f.write(employer.to_string())"
   ]
  },
  {
   "cell_type": "code",
   "execution_count": 45,
   "metadata": {},
   "outputs": [
    {
     "name": "stdout",
     "output_type": "stream",
     "text": [
      "AGENT_REPRESENTING_EMPLOYER\n",
      "Yes    367612\n",
      "No     133227\n",
      "Name: count, dtype: int64\n"
     ]
    }
   ],
   "source": [
    "# Agents representing employers \n",
    "\n",
    "agents = h1b_visa_data_2023_certified[\"AGENT_REPRESENTING_EMPLOYER\"].value_counts().head(10)\n",
    "print(agents)"
   ]
  },
  {
   "cell_type": "code",
   "execution_count": 46,
   "metadata": {},
   "outputs": [
    {
     "name": "stdout",
     "output_type": "stream",
     "text": [
      "YEAR\n",
      "2022     48208\n",
      "2023    196028\n",
      "Name: CASE_NUMBER, dtype: int64\n"
     ]
    }
   ],
   "source": [
    "# Remote work trends\n",
    "\n",
    "h1b_visa_data_2023_certified[\"RECEIVED_DATE\"] = pd.to_datetime(h1b_visa_data_2023_certified[\"RECEIVED_DATE\"], errors='coerce')\n",
    "h1b_visa_data_2023_certified['YEAR'] = h1b_visa_data_2023_certified[\"RECEIVED_DATE\"].dt.year\n",
    "\n",
    "remote_trends = h1b_visa_data_2023_certified[h1b_visa_data_2023_certified[\"WORKSITE_STATE\"]!=h1b_visa_data_2023_certified[\"EMPLOYER_STATE\"]]\n",
    "remote_trends_by_year = remote_trends.groupby('YEAR')['CASE_NUMBER'].count()\n",
    "\n",
    "print(remote_trends_by_year)\n"
   ]
  },
  {
   "cell_type": "markdown",
   "metadata": {},
   "source": [
    "The data indicates a dramatic rise in H1B-certified remote work positions, surging from 48,208 in 2022 to 196,028 in 2023—a fourfold increase. This reflects accelerating adoption of remote work policies post-pandemic, expanded employer acceptance of distributed teams, and potential USCIS adjustments to accommodate hybrid/remote roles in specialty occupations like tech and engineering."
   ]
  }
 ],
 "metadata": {
  "kernelspec": {
   "display_name": "env",
   "language": "python",
   "name": "python3"
  },
  "language_info": {
   "codemirror_mode": {
    "name": "ipython",
    "version": 3
   },
   "file_extension": ".py",
   "mimetype": "text/x-python",
   "name": "python",
   "nbconvert_exporter": "python",
   "pygments_lexer": "ipython3",
   "version": "3.9.6"
  }
 },
 "nbformat": 4,
 "nbformat_minor": 2
}
