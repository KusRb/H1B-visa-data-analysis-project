{
 "cells": [
  {
   "cell_type": "markdown",
   "metadata": {},
   "source": [
    "This is a notebook of Exploratory data analysis of H1B visa for the year 2024. \n",
    "\n",
    "About the Dataset\n",
    "This dataset provides a comprehensive record of Labor Condition Application (LCA) disclosures for H1B visa petitions filed with the U.S. Department of Labor (DOL) 2024. The H1B visa is a non-immigrant visa that allows U.S. companies to employ foreign workers in specialty occupations requiring theoretical or technical expertise. These roles typically include fields such as IT, engineering, finance, healthcare, and more. The H1B program is critical for addressing skill gaps in the U.S. workforce and supporting economic growth.\n",
    "\n",
    "Key features\n",
    "Years Covered: 2024.\n",
    "Number of Records: Includes all LCAs filed during this period.\n",
    "Attributes: Comprehensive fields such as case number, job title, employer name, wage data, work location, and visa classification.\n",
    "Source: Data is based on public disclosures from the U.S. Department of Labor.\n",
    "\n",
    "Source of Dataset \n",
    "https://www.kaggle.com/datasets/zongaobian/h1b-lca-disclosure-data-2020-2024/data?select=Combined_LCA_Disclosure_Data_FY2024.csv"
   ]
  },
  {
   "cell_type": "code",
   "execution_count": 1,
   "metadata": {},
   "outputs": [],
   "source": [
    "import warnings\n",
    "warnings.filterwarnings(\"ignore\")"
   ]
  },
  {
   "cell_type": "code",
   "execution_count": 2,
   "metadata": {},
   "outputs": [],
   "source": [
    "# Import necessary libraries\n",
    "\n",
    "import pandas as pd\n",
    "import numpy as np\n",
    "import seaborn as sns\n",
    "import matplotlib.pyplot as plt"
   ]
  },
  {
   "cell_type": "code",
   "execution_count": 3,
   "metadata": {},
   "outputs": [
    {
     "name": "stdout",
     "output_type": "stream",
     "text": [
      "2.2.3\n"
     ]
    }
   ],
   "source": [
    "print(pd.__version__)"
   ]
  },
  {
   "cell_type": "code",
   "execution_count": 4,
   "metadata": {},
   "outputs": [
    {
     "name": "stdout",
     "output_type": "stream",
     "text": [
      "2.0.2\n"
     ]
    }
   ],
   "source": [
    "print(np.__version__)"
   ]
  },
  {
   "cell_type": "code",
   "execution_count": 5,
   "metadata": {},
   "outputs": [
    {
     "name": "stdout",
     "output_type": "stream",
     "text": [
      "0.13.2\n"
     ]
    }
   ],
   "source": [
    "print(sns.__version__)"
   ]
  },
  {
   "cell_type": "code",
   "execution_count": 6,
   "metadata": {},
   "outputs": [
    {
     "name": "stdout",
     "output_type": "stream",
     "text": [
      "3.9.4\n"
     ]
    }
   ],
   "source": [
    "import matplotlib\n",
    "print(matplotlib.__version__)"
   ]
  },
  {
   "cell_type": "code",
   "execution_count": 7,
   "metadata": {},
   "outputs": [],
   "source": [
    "# Load Dataset\n",
    "\n",
    "h1b_visa_data_2024 = pd.read_csv(\"data/Combined_LCA_Disclosure_Data_FY2024.csv\")"
   ]
  },
  {
   "cell_type": "code",
   "execution_count": 9,
   "metadata": {},
   "outputs": [
    {
     "data": {
      "text/html": [
       "<div>\n",
       "<style scoped>\n",
       "    .dataframe tbody tr th:only-of-type {\n",
       "        vertical-align: middle;\n",
       "    }\n",
       "\n",
       "    .dataframe tbody tr th {\n",
       "        vertical-align: top;\n",
       "    }\n",
       "\n",
       "    .dataframe thead th {\n",
       "        text-align: right;\n",
       "    }\n",
       "</style>\n",
       "<table border=\"1\" class=\"dataframe\">\n",
       "  <thead>\n",
       "    <tr style=\"text-align: right;\">\n",
       "      <th></th>\n",
       "      <th>CASE_NUMBER</th>\n",
       "      <th>CASE_STATUS</th>\n",
       "      <th>RECEIVED_DATE</th>\n",
       "      <th>DECISION_DATE</th>\n",
       "      <th>ORIGINAL_CERT_DATE</th>\n",
       "      <th>VISA_CLASS</th>\n",
       "      <th>JOB_TITLE</th>\n",
       "      <th>SOC_CODE</th>\n",
       "      <th>SOC_TITLE</th>\n",
       "      <th>FULL_TIME_POSITION</th>\n",
       "      <th>...</th>\n",
       "      <th>WILLFUL_VIOLATOR</th>\n",
       "      <th>SUPPORT_H1B</th>\n",
       "      <th>STATUTORY_BASIS</th>\n",
       "      <th>APPENDIX_A_ATTACHED</th>\n",
       "      <th>PUBLIC_DISCLOSURE</th>\n",
       "      <th>PREPARER_LAST_NAME</th>\n",
       "      <th>PREPARER_FIRST_NAME</th>\n",
       "      <th>PREPARER_MIDDLE_INITIAL</th>\n",
       "      <th>PREPARER_BUSINESS_NAME</th>\n",
       "      <th>PREPARER_EMAIL</th>\n",
       "    </tr>\n",
       "  </thead>\n",
       "  <tbody>\n",
       "    <tr>\n",
       "      <th>0</th>\n",
       "      <td>I-200-23355-584296</td>\n",
       "      <td>Certified</td>\n",
       "      <td>2023-12-21</td>\n",
       "      <td>2023-12-29</td>\n",
       "      <td>NaN</td>\n",
       "      <td>H-1B</td>\n",
       "      <td>Registered Nurse</td>\n",
       "      <td>29-1141.00</td>\n",
       "      <td>Registered Nurses</td>\n",
       "      <td>Y</td>\n",
       "      <td>...</td>\n",
       "      <td>No</td>\n",
       "      <td>NaN</td>\n",
       "      <td>NaN</td>\n",
       "      <td>NaN</td>\n",
       "      <td>Disclose Business</td>\n",
       "      <td>Peace</td>\n",
       "      <td>Tyler</td>\n",
       "      <td>J</td>\n",
       "      <td>Musillo Unkenholt, LLC.</td>\n",
       "      <td>tyler.peace@muimmigration.com</td>\n",
       "    </tr>\n",
       "    <tr>\n",
       "      <th>1</th>\n",
       "      <td>I-203-23355-583713</td>\n",
       "      <td>Certified</td>\n",
       "      <td>2023-12-21</td>\n",
       "      <td>2023-12-29</td>\n",
       "      <td>NaN</td>\n",
       "      <td>E-3 Australian</td>\n",
       "      <td>Infrastructure  Engineer</td>\n",
       "      <td>15-1244.00</td>\n",
       "      <td>Network and Computer Systems Administrators</td>\n",
       "      <td>Y</td>\n",
       "      <td>...</td>\n",
       "      <td>NaN</td>\n",
       "      <td>NaN</td>\n",
       "      <td>NaN</td>\n",
       "      <td>NaN</td>\n",
       "      <td>Disclose Business</td>\n",
       "      <td>NaN</td>\n",
       "      <td>NaN</td>\n",
       "      <td>NaN</td>\n",
       "      <td>NaN</td>\n",
       "      <td>NaN</td>\n",
       "    </tr>\n",
       "    <tr>\n",
       "      <th>2</th>\n",
       "      <td>I-200-23355-584402</td>\n",
       "      <td>Certified</td>\n",
       "      <td>2023-12-21</td>\n",
       "      <td>2023-12-29</td>\n",
       "      <td>NaN</td>\n",
       "      <td>H-1B</td>\n",
       "      <td>Sr. Lead - Quality Assurance</td>\n",
       "      <td>15-1253.00</td>\n",
       "      <td>Software Quality Assurance Analysts and Testers</td>\n",
       "      <td>Y</td>\n",
       "      <td>...</td>\n",
       "      <td>No</td>\n",
       "      <td>Yes</td>\n",
       "      <td>$60,000 or higher annual wage</td>\n",
       "      <td>NaN</td>\n",
       "      <td>Disclose Business</td>\n",
       "      <td>Son</td>\n",
       "      <td>Subin</td>\n",
       "      <td>NaN</td>\n",
       "      <td>Cyrus D. Mehta &amp; Partners PLLC</td>\n",
       "      <td>subin@cyrusmehta.com</td>\n",
       "    </tr>\n",
       "    <tr>\n",
       "      <th>3</th>\n",
       "      <td>I-200-23355-585360</td>\n",
       "      <td>Certified</td>\n",
       "      <td>2023-12-21</td>\n",
       "      <td>2023-12-29</td>\n",
       "      <td>NaN</td>\n",
       "      <td>H-1B</td>\n",
       "      <td>AVP, Oracle ERP Planning</td>\n",
       "      <td>15-1252.00</td>\n",
       "      <td>Software Developers</td>\n",
       "      <td>Y</td>\n",
       "      <td>...</td>\n",
       "      <td>No</td>\n",
       "      <td>NaN</td>\n",
       "      <td>NaN</td>\n",
       "      <td>NaN</td>\n",
       "      <td>Disclose Business</td>\n",
       "      <td>Han</td>\n",
       "      <td>Kristy</td>\n",
       "      <td>NaN</td>\n",
       "      <td>Kramer Levin Naftalis and Frankel LLP</td>\n",
       "      <td>khan@kramerlevin.com</td>\n",
       "    </tr>\n",
       "    <tr>\n",
       "      <th>4</th>\n",
       "      <td>I-200-23355-584372</td>\n",
       "      <td>Certified</td>\n",
       "      <td>2023-12-21</td>\n",
       "      <td>2023-12-29</td>\n",
       "      <td>NaN</td>\n",
       "      <td>H-1B</td>\n",
       "      <td>Database Administrators - Kbgfjg204319-5</td>\n",
       "      <td>15-1242.00</td>\n",
       "      <td>Database Administrators</td>\n",
       "      <td>Y</td>\n",
       "      <td>...</td>\n",
       "      <td>No</td>\n",
       "      <td>NaN</td>\n",
       "      <td>NaN</td>\n",
       "      <td>NaN</td>\n",
       "      <td>Disclose Business</td>\n",
       "      <td>Jesudasan</td>\n",
       "      <td>Phylicia</td>\n",
       "      <td>NaN</td>\n",
       "      <td>EY Law LLP</td>\n",
       "      <td>niveyus@ca.ey.com</td>\n",
       "    </tr>\n",
       "  </tbody>\n",
       "</table>\n",
       "<p>5 rows × 96 columns</p>\n",
       "</div>"
      ],
      "text/plain": [
       "          CASE_NUMBER CASE_STATUS RECEIVED_DATE DECISION_DATE  \\\n",
       "0  I-200-23355-584296   Certified    2023-12-21    2023-12-29   \n",
       "1  I-203-23355-583713   Certified    2023-12-21    2023-12-29   \n",
       "2  I-200-23355-584402   Certified    2023-12-21    2023-12-29   \n",
       "3  I-200-23355-585360   Certified    2023-12-21    2023-12-29   \n",
       "4  I-200-23355-584372   Certified    2023-12-21    2023-12-29   \n",
       "\n",
       "  ORIGINAL_CERT_DATE      VISA_CLASS  \\\n",
       "0                NaN            H-1B   \n",
       "1                NaN  E-3 Australian   \n",
       "2                NaN            H-1B   \n",
       "3                NaN            H-1B   \n",
       "4                NaN            H-1B   \n",
       "\n",
       "                                  JOB_TITLE    SOC_CODE  \\\n",
       "0                          Registered Nurse  29-1141.00   \n",
       "1                  Infrastructure  Engineer  15-1244.00   \n",
       "2              Sr. Lead - Quality Assurance  15-1253.00   \n",
       "3                  AVP, Oracle ERP Planning  15-1252.00   \n",
       "4  Database Administrators - Kbgfjg204319-5  15-1242.00   \n",
       "\n",
       "                                         SOC_TITLE FULL_TIME_POSITION  ...  \\\n",
       "0                                Registered Nurses                  Y  ...   \n",
       "1      Network and Computer Systems Administrators                  Y  ...   \n",
       "2  Software Quality Assurance Analysts and Testers                  Y  ...   \n",
       "3                              Software Developers                  Y  ...   \n",
       "4                          Database Administrators                  Y  ...   \n",
       "\n",
       "  WILLFUL_VIOLATOR SUPPORT_H1B                STATUTORY_BASIS  \\\n",
       "0               No         NaN                            NaN   \n",
       "1              NaN         NaN                            NaN   \n",
       "2               No         Yes  $60,000 or higher annual wage   \n",
       "3               No         NaN                            NaN   \n",
       "4               No         NaN                            NaN   \n",
       "\n",
       "   APPENDIX_A_ATTACHED  PUBLIC_DISCLOSURE  PREPARER_LAST_NAME  \\\n",
       "0                  NaN  Disclose Business               Peace   \n",
       "1                  NaN  Disclose Business                 NaN   \n",
       "2                  NaN  Disclose Business                 Son   \n",
       "3                  NaN  Disclose Business                 Han   \n",
       "4                  NaN  Disclose Business           Jesudasan   \n",
       "\n",
       "   PREPARER_FIRST_NAME  PREPARER_MIDDLE_INITIAL  \\\n",
       "0                Tyler                        J   \n",
       "1                  NaN                      NaN   \n",
       "2                Subin                      NaN   \n",
       "3               Kristy                      NaN   \n",
       "4             Phylicia                      NaN   \n",
       "\n",
       "                  PREPARER_BUSINESS_NAME                 PREPARER_EMAIL  \n",
       "0                Musillo Unkenholt, LLC.  tyler.peace@muimmigration.com  \n",
       "1                                    NaN                            NaN  \n",
       "2         Cyrus D. Mehta & Partners PLLC           subin@cyrusmehta.com  \n",
       "3  Kramer Levin Naftalis and Frankel LLP           khan@kramerlevin.com  \n",
       "4                             EY Law LLP              niveyus@ca.ey.com  \n",
       "\n",
       "[5 rows x 96 columns]"
      ]
     },
     "execution_count": 9,
     "metadata": {},
     "output_type": "execute_result"
    }
   ],
   "source": [
    "# Data Analysis \n",
    "\n",
    "h1b_visa_data_2024.head()"
   ]
  },
  {
   "cell_type": "code",
   "execution_count": 10,
   "metadata": {},
   "outputs": [
    {
     "data": {
      "text/plain": [
       "Index(['CASE_NUMBER', 'CASE_STATUS', 'RECEIVED_DATE', 'DECISION_DATE',\n",
       "       'ORIGINAL_CERT_DATE', 'VISA_CLASS', 'JOB_TITLE', 'SOC_CODE',\n",
       "       'SOC_TITLE', 'FULL_TIME_POSITION', 'BEGIN_DATE', 'END_DATE',\n",
       "       'TOTAL_WORKER_POSITIONS', 'NEW_EMPLOYMENT', 'CONTINUED_EMPLOYMENT',\n",
       "       'CHANGE_PREVIOUS_EMPLOYMENT', 'NEW_CONCURRENT_EMPLOYMENT',\n",
       "       'CHANGE_EMPLOYER', 'AMENDED_PETITION', 'EMPLOYER_NAME',\n",
       "       'TRADE_NAME_DBA', 'EMPLOYER_ADDRESS1', 'EMPLOYER_ADDRESS2',\n",
       "       'EMPLOYER_CITY', 'EMPLOYER_STATE', 'EMPLOYER_POSTAL_CODE',\n",
       "       'EMPLOYER_COUNTRY', 'EMPLOYER_PROVINCE', 'EMPLOYER_PHONE',\n",
       "       'EMPLOYER_PHONE_EXT', 'NAICS_CODE', 'EMPLOYER_POC_LAST_NAME',\n",
       "       'EMPLOYER_POC_FIRST_NAME', 'EMPLOYER_POC_MIDDLE_NAME',\n",
       "       'EMPLOYER_POC_JOB_TITLE', 'EMPLOYER_POC_ADDRESS1',\n",
       "       'EMPLOYER_POC_ADDRESS2', 'EMPLOYER_POC_CITY', 'EMPLOYER_POC_STATE',\n",
       "       'EMPLOYER_POC_POSTAL_CODE', 'EMPLOYER_POC_COUNTRY',\n",
       "       'EMPLOYER_POC_PROVINCE', 'EMPLOYER_POC_PHONE', 'EMPLOYER_POC_PHONE_EXT',\n",
       "       'EMPLOYER_POC_EMAIL', 'AGENT_REPRESENTING_EMPLOYER',\n",
       "       'AGENT_ATTORNEY_LAST_NAME', 'AGENT_ATTORNEY_FIRST_NAME',\n",
       "       'AGENT_ATTORNEY_MIDDLE_NAME', 'AGENT_ATTORNEY_ADDRESS1',\n",
       "       'AGENT_ATTORNEY_ADDRESS2', 'AGENT_ATTORNEY_CITY',\n",
       "       'AGENT_ATTORNEY_STATE', 'AGENT_ATTORNEY_POSTAL_CODE',\n",
       "       'AGENT_ATTORNEY_COUNTRY', 'AGENT_ATTORNEY_PROVINCE',\n",
       "       'AGENT_ATTORNEY_PHONE', 'AGENT_ATTORNEY_PHONE_EXT',\n",
       "       'AGENT_ATTORNEY_EMAIL_ADDRESS', 'LAWFIRM_NAME_BUSINESS_NAME',\n",
       "       'STATE_OF_HIGHEST_COURT', 'NAME_OF_HIGHEST_STATE_COURT',\n",
       "       'WORKSITE_WORKERS', 'SECONDARY_ENTITY',\n",
       "       'SECONDARY_ENTITY_BUSINESS_NAME', 'WORKSITE_ADDRESS1',\n",
       "       'WORKSITE_ADDRESS2', 'WORKSITE_CITY', 'WORKSITE_COUNTY',\n",
       "       'WORKSITE_STATE', 'WORKSITE_POSTAL_CODE', 'WAGE_RATE_OF_PAY_FROM',\n",
       "       'WAGE_RATE_OF_PAY_TO', 'WAGE_UNIT_OF_PAY', 'PREVAILING_WAGE',\n",
       "       'PW_UNIT_OF_PAY', 'PW_TRACKING_NUMBER', 'PW_WAGE_LEVEL', 'PW_OES_YEAR',\n",
       "       'PW_OTHER_SOURCE', 'PW_OTHER_YEAR', 'PW_SURVEY_PUBLISHER',\n",
       "       'PW_SURVEY_NAME', 'TOTAL_WORKSITE_LOCATIONS', 'AGREE_TO_LC_STATEMENT',\n",
       "       'H_1B_DEPENDENT', 'WILLFUL_VIOLATOR', 'SUPPORT_H1B', 'STATUTORY_BASIS',\n",
       "       'APPENDIX_A_ATTACHED', 'PUBLIC_DISCLOSURE', 'PREPARER_LAST_NAME',\n",
       "       'PREPARER_FIRST_NAME', 'PREPARER_MIDDLE_INITIAL',\n",
       "       'PREPARER_BUSINESS_NAME', 'PREPARER_EMAIL'],\n",
       "      dtype='object')"
      ]
     },
     "execution_count": 10,
     "metadata": {},
     "output_type": "execute_result"
    }
   ],
   "source": [
    "# Features of the data\n",
    "h1b_visa_data_2024.columns"
   ]
  },
  {
   "cell_type": "code",
   "execution_count": 11,
   "metadata": {},
   "outputs": [
    {
     "data": {
      "text/plain": [
       "(890368, 96)"
      ]
     },
     "execution_count": 11,
     "metadata": {},
     "output_type": "execute_result"
    }
   ],
   "source": [
    "# Shape of the data \n",
    "\n",
    "h1b_visa_data_2024.shape"
   ]
  },
  {
   "cell_type": "code",
   "execution_count": 12,
   "metadata": {},
   "outputs": [
    {
     "name": "stdout",
     "output_type": "stream",
     "text": [
      "<class 'pandas.core.frame.DataFrame'>\n",
      "RangeIndex: 890368 entries, 0 to 890367\n",
      "Data columns (total 96 columns):\n",
      " #   Column                          Non-Null Count   Dtype  \n",
      "---  ------                          --------------   -----  \n",
      " 0   CASE_NUMBER                     890368 non-null  object \n",
      " 1   CASE_STATUS                     890368 non-null  object \n",
      " 2   RECEIVED_DATE                   890368 non-null  object \n",
      " 3   DECISION_DATE                   890368 non-null  object \n",
      " 4   ORIGINAL_CERT_DATE              58618 non-null   object \n",
      " 5   VISA_CLASS                      890368 non-null  object \n",
      " 6   JOB_TITLE                       890368 non-null  object \n",
      " 7   SOC_CODE                        890368 non-null  object \n",
      " 8   SOC_TITLE                       890368 non-null  object \n",
      " 9   FULL_TIME_POSITION              890368 non-null  object \n",
      " 10  BEGIN_DATE                      890368 non-null  object \n",
      " 11  END_DATE                        890368 non-null  object \n",
      " 12  TOTAL_WORKER_POSITIONS          890368 non-null  int64  \n",
      " 13  NEW_EMPLOYMENT                  890368 non-null  int64  \n",
      " 14  CONTINUED_EMPLOYMENT            890368 non-null  int64  \n",
      " 15  CHANGE_PREVIOUS_EMPLOYMENT      890368 non-null  int64  \n",
      " 16  NEW_CONCURRENT_EMPLOYMENT       890368 non-null  int64  \n",
      " 17  CHANGE_EMPLOYER                 890368 non-null  int64  \n",
      " 18  AMENDED_PETITION                890368 non-null  int64  \n",
      " 19  EMPLOYER_NAME                   890368 non-null  object \n",
      " 20  TRADE_NAME_DBA                  81363 non-null   object \n",
      " 21  EMPLOYER_ADDRESS1               890368 non-null  object \n",
      " 22  EMPLOYER_ADDRESS2               397714 non-null  object \n",
      " 23  EMPLOYER_CITY                   890368 non-null  object \n",
      " 24  EMPLOYER_STATE                  890173 non-null  object \n",
      " 25  EMPLOYER_POSTAL_CODE            890368 non-null  object \n",
      " 26  EMPLOYER_COUNTRY                890368 non-null  object \n",
      " 27  EMPLOYER_PROVINCE               48133 non-null   object \n",
      " 28  EMPLOYER_PHONE                  890368 non-null  int64  \n",
      " 29  EMPLOYER_PHONE_EXT              54079 non-null   float64\n",
      " 30  NAICS_CODE                      890368 non-null  int64  \n",
      " 31  EMPLOYER_POC_LAST_NAME          890368 non-null  object \n",
      " 32  EMPLOYER_POC_FIRST_NAME         890361 non-null  object \n",
      " 33  EMPLOYER_POC_MIDDLE_NAME        156106 non-null  object \n",
      " 34  EMPLOYER_POC_JOB_TITLE          890368 non-null  object \n",
      " 35  EMPLOYER_POC_ADDRESS1           890368 non-null  object \n",
      " 36  EMPLOYER_POC_ADDRESS2           411424 non-null  object \n",
      " 37  EMPLOYER_POC_CITY               890368 non-null  object \n",
      " 38  EMPLOYER_POC_STATE              889301 non-null  object \n",
      " 39  EMPLOYER_POC_POSTAL_CODE        890366 non-null  object \n",
      " 40  EMPLOYER_POC_COUNTRY            890368 non-null  object \n",
      " 41  EMPLOYER_POC_PROVINCE           7975 non-null    object \n",
      " 42  EMPLOYER_POC_PHONE              890368 non-null  int64  \n",
      " 43  EMPLOYER_POC_PHONE_EXT          48080 non-null   float64\n",
      " 44  EMPLOYER_POC_EMAIL              866752 non-null  object \n",
      " 45  AGENT_REPRESENTING_EMPLOYER     890368 non-null  object \n",
      " 46  AGENT_ATTORNEY_LAST_NAME        648548 non-null  object \n",
      " 47  AGENT_ATTORNEY_FIRST_NAME       648545 non-null  object \n",
      " 48  AGENT_ATTORNEY_MIDDLE_NAME      325395 non-null  object \n",
      " 49  AGENT_ATTORNEY_ADDRESS1         648548 non-null  object \n",
      " 50  AGENT_ATTORNEY_ADDRESS2         518428 non-null  object \n",
      " 51  AGENT_ATTORNEY_CITY             648548 non-null  object \n",
      " 52  AGENT_ATTORNEY_STATE            614364 non-null  object \n",
      " 53  AGENT_ATTORNEY_POSTAL_CODE      648548 non-null  object \n",
      " 54  AGENT_ATTORNEY_COUNTRY          648548 non-null  object \n",
      " 55  AGENT_ATTORNEY_PROVINCE         77559 non-null   object \n",
      " 56  AGENT_ATTORNEY_PHONE            648548 non-null  float64\n",
      " 57  AGENT_ATTORNEY_PHONE_EXT        36419 non-null   float64\n",
      " 58  AGENT_ATTORNEY_EMAIL_ADDRESS    648538 non-null  object \n",
      " 59  LAWFIRM_NAME_BUSINESS_NAME      648548 non-null  object \n",
      " 60  STATE_OF_HIGHEST_COURT          646577 non-null  object \n",
      " 61  NAME_OF_HIGHEST_STATE_COURT     646031 non-null  object \n",
      " 62  WORKSITE_WORKERS                890368 non-null  int64  \n",
      " 63  SECONDARY_ENTITY                890368 non-null  object \n",
      " 64  SECONDARY_ENTITY_BUSINESS_NAME  186621 non-null  object \n",
      " 65  WORKSITE_ADDRESS1               890368 non-null  object \n",
      " 66  WORKSITE_ADDRESS2               263530 non-null  object \n",
      " 67  WORKSITE_CITY                   890363 non-null  object \n",
      " 68  WORKSITE_COUNTY                 890362 non-null  object \n",
      " 69  WORKSITE_STATE                  890368 non-null  object \n",
      " 70  WORKSITE_POSTAL_CODE            890368 non-null  object \n",
      " 71  WAGE_RATE_OF_PAY_FROM           890368 non-null  float64\n",
      " 72  WAGE_RATE_OF_PAY_TO             287503 non-null  float64\n",
      " 73  WAGE_UNIT_OF_PAY                890368 non-null  object \n",
      " 74  PREVAILING_WAGE                 890368 non-null  float64\n",
      " 75  PW_UNIT_OF_PAY                  890368 non-null  object \n",
      " 76  PW_TRACKING_NUMBER              1487 non-null    object \n",
      " 77  PW_WAGE_LEVEL                   819361 non-null  object \n",
      " 78  PW_OES_YEAR                     823978 non-null  object \n",
      " 79  PW_OTHER_SOURCE                 64903 non-null   object \n",
      " 80  PW_OTHER_YEAR                   64903 non-null   float64\n",
      " 81  PW_SURVEY_PUBLISHER             53894 non-null   object \n",
      " 82  PW_SURVEY_NAME                  53892 non-null   object \n",
      " 83  TOTAL_WORKSITE_LOCATIONS        890368 non-null  int64  \n",
      " 84  AGREE_TO_LC_STATEMENT           890368 non-null  object \n",
      " 85  H_1B_DEPENDENT                  866070 non-null  object \n",
      " 86  WILLFUL_VIOLATOR                866069 non-null  object \n",
      " 87  SUPPORT_H1B                     223971 non-null  object \n",
      " 88  STATUTORY_BASIS                 222529 non-null  object \n",
      " 89  APPENDIX_A_ATTACHED             757 non-null     object \n",
      " 90  PUBLIC_DISCLOSURE               890241 non-null  object \n",
      " 91  PREPARER_LAST_NAME              454824 non-null  object \n",
      " 92  PREPARER_FIRST_NAME             454828 non-null  object \n",
      " 93  PREPARER_MIDDLE_INITIAL         127096 non-null  object \n",
      " 94  PREPARER_BUSINESS_NAME          463718 non-null  object \n",
      " 95  PREPARER_EMAIL                  460903 non-null  object \n",
      "dtypes: float64(8), int64(12), object(76)\n",
      "memory usage: 652.1+ MB\n"
     ]
    }
   ],
   "source": [
    "# Info of the data\n",
    "\n",
    "h1b_visa_data_2024.info()"
   ]
  },
  {
   "cell_type": "code",
   "execution_count": 13,
   "metadata": {},
   "outputs": [
    {
     "data": {
      "text/html": [
       "<div>\n",
       "<style scoped>\n",
       "    .dataframe tbody tr th:only-of-type {\n",
       "        vertical-align: middle;\n",
       "    }\n",
       "\n",
       "    .dataframe tbody tr th {\n",
       "        vertical-align: top;\n",
       "    }\n",
       "\n",
       "    .dataframe thead th {\n",
       "        text-align: right;\n",
       "    }\n",
       "</style>\n",
       "<table border=\"1\" class=\"dataframe\">\n",
       "  <thead>\n",
       "    <tr style=\"text-align: right;\">\n",
       "      <th></th>\n",
       "      <th>TOTAL_WORKER_POSITIONS</th>\n",
       "      <th>NEW_EMPLOYMENT</th>\n",
       "      <th>CONTINUED_EMPLOYMENT</th>\n",
       "      <th>CHANGE_PREVIOUS_EMPLOYMENT</th>\n",
       "      <th>NEW_CONCURRENT_EMPLOYMENT</th>\n",
       "      <th>CHANGE_EMPLOYER</th>\n",
       "      <th>AMENDED_PETITION</th>\n",
       "      <th>EMPLOYER_PHONE</th>\n",
       "      <th>EMPLOYER_PHONE_EXT</th>\n",
       "      <th>NAICS_CODE</th>\n",
       "      <th>EMPLOYER_POC_PHONE</th>\n",
       "      <th>EMPLOYER_POC_PHONE_EXT</th>\n",
       "      <th>AGENT_ATTORNEY_PHONE</th>\n",
       "      <th>AGENT_ATTORNEY_PHONE_EXT</th>\n",
       "      <th>WORKSITE_WORKERS</th>\n",
       "      <th>WAGE_RATE_OF_PAY_FROM</th>\n",
       "      <th>WAGE_RATE_OF_PAY_TO</th>\n",
       "      <th>PREVAILING_WAGE</th>\n",
       "      <th>PW_OTHER_YEAR</th>\n",
       "      <th>TOTAL_WORKSITE_LOCATIONS</th>\n",
       "    </tr>\n",
       "  </thead>\n",
       "  <tbody>\n",
       "    <tr>\n",
       "      <th>count</th>\n",
       "      <td>890368.000000</td>\n",
       "      <td>890368.000000</td>\n",
       "      <td>890368.000000</td>\n",
       "      <td>890368.000000</td>\n",
       "      <td>890368.000000</td>\n",
       "      <td>890368.000000</td>\n",
       "      <td>890368.000000</td>\n",
       "      <td>8.903680e+05</td>\n",
       "      <td>54079.000000</td>\n",
       "      <td>890368.000000</td>\n",
       "      <td>8.903680e+05</td>\n",
       "      <td>48080.000000</td>\n",
       "      <td>6.485480e+05</td>\n",
       "      <td>36419.000000</td>\n",
       "      <td>890368.000000</td>\n",
       "      <td>8.903680e+05</td>\n",
       "      <td>2.875030e+05</td>\n",
       "      <td>890368.000000</td>\n",
       "      <td>64903.000000</td>\n",
       "      <td>890368.000000</td>\n",
       "    </tr>\n",
       "    <tr>\n",
       "      <th>mean</th>\n",
       "      <td>1.539958</td>\n",
       "      <td>0.494782</td>\n",
       "      <td>0.412589</td>\n",
       "      <td>0.115729</td>\n",
       "      <td>0.008850</td>\n",
       "      <td>0.248202</td>\n",
       "      <td>0.264766</td>\n",
       "      <td>1.614819e+10</td>\n",
       "      <td>466.065922</td>\n",
       "      <td>434117.093111</td>\n",
       "      <td>1.662151e+10</td>\n",
       "      <td>631.912562</td>\n",
       "      <td>1.531303e+10</td>\n",
       "      <td>940.207694</td>\n",
       "      <td>1.537196</td>\n",
       "      <td>1.195443e+05</td>\n",
       "      <td>1.477643e+05</td>\n",
       "      <td>101706.516948</td>\n",
       "      <td>2023.119332</td>\n",
       "      <td>1.480378</td>\n",
       "    </tr>\n",
       "    <tr>\n",
       "      <th>std</th>\n",
       "      <td>4.166439</td>\n",
       "      <td>2.595953</td>\n",
       "      <td>1.624309</td>\n",
       "      <td>0.665893</td>\n",
       "      <td>0.316773</td>\n",
       "      <td>0.996585</td>\n",
       "      <td>0.943188</td>\n",
       "      <td>7.124807e+10</td>\n",
       "      <td>1368.369307</td>\n",
       "      <td>204229.859922</td>\n",
       "      <td>1.586769e+11</td>\n",
       "      <td>1564.301300</td>\n",
       "      <td>3.099610e+10</td>\n",
       "      <td>2306.821609</td>\n",
       "      <td>4.148982</td>\n",
       "      <td>2.272359e+05</td>\n",
       "      <td>8.190080e+04</td>\n",
       "      <td>46316.425884</td>\n",
       "      <td>0.979362</td>\n",
       "      <td>0.770703</td>\n",
       "    </tr>\n",
       "    <tr>\n",
       "      <th>min</th>\n",
       "      <td>1.000000</td>\n",
       "      <td>0.000000</td>\n",
       "      <td>0.000000</td>\n",
       "      <td>0.000000</td>\n",
       "      <td>0.000000</td>\n",
       "      <td>0.000000</td>\n",
       "      <td>0.000000</td>\n",
       "      <td>3.345345e+08</td>\n",
       "      <td>0.000000</td>\n",
       "      <td>-4849.000000</td>\n",
       "      <td>3.345345e+08</td>\n",
       "      <td>0.000000</td>\n",
       "      <td>1.201670e+09</td>\n",
       "      <td>0.000000</td>\n",
       "      <td>1.000000</td>\n",
       "      <td>7.250000e+00</td>\n",
       "      <td>7.500000e+00</td>\n",
       "      <td>7.250000</td>\n",
       "      <td>1992.000000</td>\n",
       "      <td>1.000000</td>\n",
       "    </tr>\n",
       "    <tr>\n",
       "      <th>25%</th>\n",
       "      <td>1.000000</td>\n",
       "      <td>0.000000</td>\n",
       "      <td>0.000000</td>\n",
       "      <td>0.000000</td>\n",
       "      <td>0.000000</td>\n",
       "      <td>0.000000</td>\n",
       "      <td>0.000000</td>\n",
       "      <td>1.312381e+10</td>\n",
       "      <td>0.000000</td>\n",
       "      <td>336111.000000</td>\n",
       "      <td>1.310427e+10</td>\n",
       "      <td>0.000000</td>\n",
       "      <td>1.310820e+10</td>\n",
       "      <td>13.000000</td>\n",
       "      <td>1.000000</td>\n",
       "      <td>8.421900e+04</td>\n",
       "      <td>1.028800e+05</td>\n",
       "      <td>76731.000000</td>\n",
       "      <td>2023.000000</td>\n",
       "      <td>1.000000</td>\n",
       "    </tr>\n",
       "    <tr>\n",
       "      <th>50%</th>\n",
       "      <td>1.000000</td>\n",
       "      <td>0.000000</td>\n",
       "      <td>0.000000</td>\n",
       "      <td>0.000000</td>\n",
       "      <td>0.000000</td>\n",
       "      <td>0.000000</td>\n",
       "      <td>0.000000</td>\n",
       "      <td>1.510367e+10</td>\n",
       "      <td>0.000000</td>\n",
       "      <td>541511.000000</td>\n",
       "      <td>1.512532e+10</td>\n",
       "      <td>0.000000</td>\n",
       "      <td>1.469291e+10</td>\n",
       "      <td>111.000000</td>\n",
       "      <td>1.000000</td>\n",
       "      <td>1.122580e+05</td>\n",
       "      <td>1.371400e+05</td>\n",
       "      <td>100547.000000</td>\n",
       "      <td>2023.000000</td>\n",
       "      <td>1.000000</td>\n",
       "    </tr>\n",
       "    <tr>\n",
       "      <th>75%</th>\n",
       "      <td>1.000000</td>\n",
       "      <td>1.000000</td>\n",
       "      <td>1.000000</td>\n",
       "      <td>0.000000</td>\n",
       "      <td>0.000000</td>\n",
       "      <td>0.000000</td>\n",
       "      <td>0.000000</td>\n",
       "      <td>1.732347e+10</td>\n",
       "      <td>106.000000</td>\n",
       "      <td>541512.000000</td>\n",
       "      <td>1.718337e+10</td>\n",
       "      <td>301.000000</td>\n",
       "      <td>1.703544e+10</td>\n",
       "      <td>230.000000</td>\n",
       "      <td>1.000000</td>\n",
       "      <td>1.500000e+05</td>\n",
       "      <td>1.850000e+05</td>\n",
       "      <td>127401.750000</td>\n",
       "      <td>2024.000000</td>\n",
       "      <td>2.000000</td>\n",
       "    </tr>\n",
       "    <tr>\n",
       "      <th>max</th>\n",
       "      <td>450.000000</td>\n",
       "      <td>450.000000</td>\n",
       "      <td>125.000000</td>\n",
       "      <td>100.000000</td>\n",
       "      <td>170.000000</td>\n",
       "      <td>50.000000</td>\n",
       "      <td>100.000000</td>\n",
       "      <td>9.769530e+12</td>\n",
       "      <td>9639.000000</td>\n",
       "      <td>928120.000000</td>\n",
       "      <td>8.686156e+13</td>\n",
       "      <td>9770.000000</td>\n",
       "      <td>9.723129e+12</td>\n",
       "      <td>9828.000000</td>\n",
       "      <td>450.000000</td>\n",
       "      <td>1.402130e+08</td>\n",
       "      <td>6.000000e+06</td>\n",
       "      <td>625000.000000</td>\n",
       "      <td>2024.000000</td>\n",
       "      <td>10.000000</td>\n",
       "    </tr>\n",
       "  </tbody>\n",
       "</table>\n",
       "</div>"
      ],
      "text/plain": [
       "       TOTAL_WORKER_POSITIONS  NEW_EMPLOYMENT  CONTINUED_EMPLOYMENT  \\\n",
       "count           890368.000000   890368.000000         890368.000000   \n",
       "mean                 1.539958        0.494782              0.412589   \n",
       "std                  4.166439        2.595953              1.624309   \n",
       "min                  1.000000        0.000000              0.000000   \n",
       "25%                  1.000000        0.000000              0.000000   \n",
       "50%                  1.000000        0.000000              0.000000   \n",
       "75%                  1.000000        1.000000              1.000000   \n",
       "max                450.000000      450.000000            125.000000   \n",
       "\n",
       "       CHANGE_PREVIOUS_EMPLOYMENT  NEW_CONCURRENT_EMPLOYMENT  CHANGE_EMPLOYER  \\\n",
       "count               890368.000000              890368.000000    890368.000000   \n",
       "mean                     0.115729                   0.008850         0.248202   \n",
       "std                      0.665893                   0.316773         0.996585   \n",
       "min                      0.000000                   0.000000         0.000000   \n",
       "25%                      0.000000                   0.000000         0.000000   \n",
       "50%                      0.000000                   0.000000         0.000000   \n",
       "75%                      0.000000                   0.000000         0.000000   \n",
       "max                    100.000000                 170.000000        50.000000   \n",
       "\n",
       "       AMENDED_PETITION  EMPLOYER_PHONE  EMPLOYER_PHONE_EXT     NAICS_CODE  \\\n",
       "count     890368.000000    8.903680e+05        54079.000000  890368.000000   \n",
       "mean           0.264766    1.614819e+10          466.065922  434117.093111   \n",
       "std            0.943188    7.124807e+10         1368.369307  204229.859922   \n",
       "min            0.000000    3.345345e+08            0.000000   -4849.000000   \n",
       "25%            0.000000    1.312381e+10            0.000000  336111.000000   \n",
       "50%            0.000000    1.510367e+10            0.000000  541511.000000   \n",
       "75%            0.000000    1.732347e+10          106.000000  541512.000000   \n",
       "max          100.000000    9.769530e+12         9639.000000  928120.000000   \n",
       "\n",
       "       EMPLOYER_POC_PHONE  EMPLOYER_POC_PHONE_EXT  AGENT_ATTORNEY_PHONE  \\\n",
       "count        8.903680e+05            48080.000000          6.485480e+05   \n",
       "mean         1.662151e+10              631.912562          1.531303e+10   \n",
       "std          1.586769e+11             1564.301300          3.099610e+10   \n",
       "min          3.345345e+08                0.000000          1.201670e+09   \n",
       "25%          1.310427e+10                0.000000          1.310820e+10   \n",
       "50%          1.512532e+10                0.000000          1.469291e+10   \n",
       "75%          1.718337e+10              301.000000          1.703544e+10   \n",
       "max          8.686156e+13             9770.000000          9.723129e+12   \n",
       "\n",
       "       AGENT_ATTORNEY_PHONE_EXT  WORKSITE_WORKERS  WAGE_RATE_OF_PAY_FROM  \\\n",
       "count              36419.000000     890368.000000           8.903680e+05   \n",
       "mean                 940.207694          1.537196           1.195443e+05   \n",
       "std                 2306.821609          4.148982           2.272359e+05   \n",
       "min                    0.000000          1.000000           7.250000e+00   \n",
       "25%                   13.000000          1.000000           8.421900e+04   \n",
       "50%                  111.000000          1.000000           1.122580e+05   \n",
       "75%                  230.000000          1.000000           1.500000e+05   \n",
       "max                 9828.000000        450.000000           1.402130e+08   \n",
       "\n",
       "       WAGE_RATE_OF_PAY_TO  PREVAILING_WAGE  PW_OTHER_YEAR  \\\n",
       "count         2.875030e+05    890368.000000   64903.000000   \n",
       "mean          1.477643e+05    101706.516948    2023.119332   \n",
       "std           8.190080e+04     46316.425884       0.979362   \n",
       "min           7.500000e+00         7.250000    1992.000000   \n",
       "25%           1.028800e+05     76731.000000    2023.000000   \n",
       "50%           1.371400e+05    100547.000000    2023.000000   \n",
       "75%           1.850000e+05    127401.750000    2024.000000   \n",
       "max           6.000000e+06    625000.000000    2024.000000   \n",
       "\n",
       "       TOTAL_WORKSITE_LOCATIONS  \n",
       "count             890368.000000  \n",
       "mean                   1.480378  \n",
       "std                    0.770703  \n",
       "min                    1.000000  \n",
       "25%                    1.000000  \n",
       "50%                    1.000000  \n",
       "75%                    2.000000  \n",
       "max                   10.000000  "
      ]
     },
     "execution_count": 13,
     "metadata": {},
     "output_type": "execute_result"
    }
   ],
   "source": [
    "# Statistical description\n",
    "\n",
    "h1b_visa_data_2024.describe()"
   ]
  },
  {
   "cell_type": "code",
   "execution_count": 14,
   "metadata": {},
   "outputs": [
    {
     "data": {
      "text/plain": [
       "CASE_NUMBER                     0\n",
       "CASE_STATUS                     0\n",
       "RECEIVED_DATE                   0\n",
       "DECISION_DATE                   0\n",
       "ORIGINAL_CERT_DATE         831750\n",
       "                            ...  \n",
       "PREPARER_LAST_NAME         435544\n",
       "PREPARER_FIRST_NAME        435540\n",
       "PREPARER_MIDDLE_INITIAL    763272\n",
       "PREPARER_BUSINESS_NAME     426650\n",
       "PREPARER_EMAIL             429465\n",
       "Length: 96, dtype: int64"
      ]
     },
     "execution_count": 14,
     "metadata": {},
     "output_type": "execute_result"
    }
   ],
   "source": [
    "# Data cleaning\n",
    "\n",
    "h1b_visa_data_2024.isnull().sum()"
   ]
  },
  {
   "cell_type": "code",
   "execution_count": 15,
   "metadata": {},
   "outputs": [],
   "source": [
    "# Handling missing values\n",
    "\n",
    "h1b_visa_data_2024.fillna(h1b_visa_data_2024.median(numeric_only=True),inplace=True)"
   ]
  },
  {
   "cell_type": "code",
   "execution_count": 16,
   "metadata": {},
   "outputs": [
    {
     "name": "stdout",
     "output_type": "stream",
     "text": [
      "CASE_NUMBER 0\n",
      "CASE_STATUS 0\n",
      "RECEIVED_DATE 0\n",
      "DECISION_DATE 0\n",
      "ORIGINAL_CERT_DATE 831750\n",
      "VISA_CLASS 0\n",
      "JOB_TITLE 0\n",
      "SOC_CODE 0\n",
      "SOC_TITLE 0\n",
      "FULL_TIME_POSITION 0\n",
      "BEGIN_DATE 0\n",
      "END_DATE 0\n",
      "TOTAL_WORKER_POSITIONS 0\n",
      "NEW_EMPLOYMENT 0\n",
      "CONTINUED_EMPLOYMENT 0\n",
      "CHANGE_PREVIOUS_EMPLOYMENT 0\n",
      "NEW_CONCURRENT_EMPLOYMENT 0\n",
      "CHANGE_EMPLOYER 0\n",
      "AMENDED_PETITION 0\n",
      "EMPLOYER_NAME 0\n",
      "TRADE_NAME_DBA 809005\n",
      "EMPLOYER_ADDRESS1 0\n",
      "EMPLOYER_ADDRESS2 492654\n",
      "EMPLOYER_CITY 0\n",
      "EMPLOYER_STATE 195\n",
      "EMPLOYER_POSTAL_CODE 0\n",
      "EMPLOYER_COUNTRY 0\n",
      "EMPLOYER_PROVINCE 842235\n",
      "EMPLOYER_PHONE 0\n",
      "EMPLOYER_PHONE_EXT 0\n",
      "NAICS_CODE 0\n",
      "EMPLOYER_POC_LAST_NAME 0\n",
      "EMPLOYER_POC_FIRST_NAME 7\n",
      "EMPLOYER_POC_MIDDLE_NAME 734262\n",
      "EMPLOYER_POC_JOB_TITLE 0\n",
      "EMPLOYER_POC_ADDRESS1 0\n",
      "EMPLOYER_POC_ADDRESS2 478944\n",
      "EMPLOYER_POC_CITY 0\n",
      "EMPLOYER_POC_STATE 1067\n",
      "EMPLOYER_POC_POSTAL_CODE 2\n",
      "EMPLOYER_POC_COUNTRY 0\n",
      "EMPLOYER_POC_PROVINCE 882393\n",
      "EMPLOYER_POC_PHONE 0\n",
      "EMPLOYER_POC_PHONE_EXT 0\n",
      "EMPLOYER_POC_EMAIL 23616\n",
      "AGENT_REPRESENTING_EMPLOYER 0\n",
      "AGENT_ATTORNEY_LAST_NAME 241820\n",
      "AGENT_ATTORNEY_FIRST_NAME 241823\n",
      "AGENT_ATTORNEY_MIDDLE_NAME 564973\n",
      "AGENT_ATTORNEY_ADDRESS1 241820\n",
      "AGENT_ATTORNEY_ADDRESS2 371940\n",
      "AGENT_ATTORNEY_CITY 241820\n",
      "AGENT_ATTORNEY_STATE 276004\n",
      "AGENT_ATTORNEY_POSTAL_CODE 241820\n",
      "AGENT_ATTORNEY_COUNTRY 241820\n",
      "AGENT_ATTORNEY_PROVINCE 812809\n",
      "AGENT_ATTORNEY_PHONE 0\n",
      "AGENT_ATTORNEY_PHONE_EXT 0\n",
      "AGENT_ATTORNEY_EMAIL_ADDRESS 241830\n",
      "LAWFIRM_NAME_BUSINESS_NAME 241820\n",
      "STATE_OF_HIGHEST_COURT 243791\n",
      "NAME_OF_HIGHEST_STATE_COURT 244337\n",
      "WORKSITE_WORKERS 0\n",
      "SECONDARY_ENTITY 0\n",
      "SECONDARY_ENTITY_BUSINESS_NAME 703747\n",
      "WORKSITE_ADDRESS1 0\n",
      "WORKSITE_ADDRESS2 626838\n",
      "WORKSITE_CITY 5\n",
      "WORKSITE_COUNTY 6\n",
      "WORKSITE_STATE 0\n",
      "WORKSITE_POSTAL_CODE 0\n",
      "WAGE_RATE_OF_PAY_FROM 0\n",
      "WAGE_RATE_OF_PAY_TO 0\n",
      "WAGE_UNIT_OF_PAY 0\n",
      "PREVAILING_WAGE 0\n",
      "PW_UNIT_OF_PAY 0\n",
      "PW_TRACKING_NUMBER 888881\n",
      "PW_WAGE_LEVEL 71007\n",
      "PW_OES_YEAR 66390\n",
      "PW_OTHER_SOURCE 825465\n",
      "PW_OTHER_YEAR 0\n",
      "PW_SURVEY_PUBLISHER 836474\n",
      "PW_SURVEY_NAME 836476\n",
      "TOTAL_WORKSITE_LOCATIONS 0\n",
      "AGREE_TO_LC_STATEMENT 0\n",
      "H_1B_DEPENDENT 24298\n",
      "WILLFUL_VIOLATOR 24299\n",
      "SUPPORT_H1B 666397\n",
      "STATUTORY_BASIS 667839\n",
      "APPENDIX_A_ATTACHED 889611\n",
      "PUBLIC_DISCLOSURE 127\n",
      "PREPARER_LAST_NAME 435544\n",
      "PREPARER_FIRST_NAME 435540\n",
      "PREPARER_MIDDLE_INITIAL 763272\n",
      "PREPARER_BUSINESS_NAME 426650\n",
      "PREPARER_EMAIL 429465\n"
     ]
    }
   ],
   "source": [
    "column_list = h1b_visa_data_2024.columns.tolist()\n",
    "\n",
    "for column_list in column_list:\n",
    "    print(column_list,h1b_visa_data_2024[column_list].isnull().sum())\n",
    "   "
   ]
  },
  {
   "cell_type": "code",
   "execution_count": 17,
   "metadata": {},
   "outputs": [],
   "source": [
    "# Dropping null rows\n",
    "\n",
    "h1b_visa_data_2024 = h1b_visa_data_2024.dropna(subset=[\"EMPLOYER_STATE\"])"
   ]
  },
  {
   "cell_type": "code",
   "execution_count": 18,
   "metadata": {},
   "outputs": [
    {
     "data": {
      "text/plain": [
       "np.int64(325263)"
      ]
     },
     "execution_count": 18,
     "metadata": {},
     "output_type": "execute_result"
    }
   ],
   "source": [
    "# Checking for duplicates \n",
    "\n",
    "h1b_visa_data_2024.duplicated().sum()"
   ]
  },
  {
   "cell_type": "code",
   "execution_count": 19,
   "metadata": {},
   "outputs": [],
   "source": [
    "# Removing duplicate entry \n",
    "\n",
    "h1b_visa_data_2024.drop_duplicates(inplace=True)"
   ]
  },
  {
   "cell_type": "code",
   "execution_count": 20,
   "metadata": {},
   "outputs": [
    {
     "data": {
      "text/plain": [
       "np.int64(0)"
      ]
     },
     "execution_count": 20,
     "metadata": {},
     "output_type": "execute_result"
    }
   ],
   "source": [
    "# Verifying the removal of duplicates\n",
    "\n",
    "h1b_visa_data_2024.duplicated().sum()"
   ]
  },
  {
   "cell_type": "code",
   "execution_count": 21,
   "metadata": {},
   "outputs": [
    {
     "data": {
      "text/plain": [
       "array(['Certified', 'Certified - Withdrawn', 'Denied', 'Withdrawn'],\n",
       "      dtype=object)"
      ]
     },
     "execution_count": 21,
     "metadata": {},
     "output_type": "execute_result"
    }
   ],
   "source": [
    "# Checking the unique values of case status\n",
    "\n",
    "h1b_visa_data_2024['CASE_STATUS'].unique()"
   ]
  },
  {
   "cell_type": "code",
   "execution_count": 22,
   "metadata": {},
   "outputs": [
    {
     "data": {
      "text/plain": [
       "CASE_STATUS\n",
       "Certified                518790\n",
       "Certified - Withdrawn     32543\n",
       "Withdrawn                  9127\n",
       "Denied                     4450\n",
       "Name: count, dtype: int64"
      ]
     },
     "execution_count": 22,
     "metadata": {},
     "output_type": "execute_result"
    }
   ],
   "source": [
    "# Counting the values of each case status\n",
    "\n",
    "h1b_visa_data_2024['CASE_STATUS'].value_counts()"
   ]
  },
  {
   "cell_type": "markdown",
   "metadata": {},
   "source": [
    "In 2024, there were 518790 certified applicant which means 91.84% of the total applicant were approved. Similarly, 32,543 were approved initially, but the employer later decided to withdraw it. 9127 withdrawn their application whereas only 4450(0.86%) were denied. "
   ]
  },
  {
   "cell_type": "code",
   "execution_count": 23,
   "metadata": {},
   "outputs": [],
   "source": [
    "# Filtered dataset for certified case only \n",
    "\n",
    "h1b_visa_data_2024_certified = h1b_visa_data_2024[h1b_visa_data_2024['CASE_STATUS']=='Certified']"
   ]
  },
  {
   "cell_type": "code",
   "execution_count": 24,
   "metadata": {},
   "outputs": [
    {
     "data": {
      "text/plain": [
       "JOB_TITLE\n",
       "Software Engineer                                               27330\n",
       "Software Developer                                              17906\n",
       "Senior Software Engineer                                         6358\n",
       "SOFTWARE DEVELOPER                                               4707\n",
       "Assistant Professor                                              4423\n",
       "Manager JC50 - Computer Systems Engineers/Architects             4238\n",
       "Software Engineering                                             3820\n",
       "SOFTWARE ENGINEER                                                3588\n",
       "Software Development Engineer II                                 3370\n",
       "Architect                                                        3186\n",
       "Data Engineer                                                    3076\n",
       "Senior Associate JC60 -Computer Systems Engineers/Architects     2551\n",
       "Data Scientist                                                   2422\n",
       "Associate                                                        2262\n",
       "Business Analyst                                                 1721\n",
       "Project Manager                                                  1698\n",
       "Research Scientist                                               1572\n",
       "Analyst                                                          1558\n",
       "Data Analyst                                                     1544\n",
       "Software Development Engineer I                                  1534\n",
       "Staff Software Engineer                                          1454\n",
       "Software Development Engineer                                    1417\n",
       "Manager                                                          1401\n",
       "Product Manager                                                  1368\n",
       "Java Developer                                                   1341\n",
       "Developer                                                        1337\n",
       "Software Engineer III                                            1239\n",
       "Senior Manager JC45 - Computer Systems Engineers/Architects      1208\n",
       "Computer Systems Analyst                                         1199\n",
       "Application Developer                                            1120\n",
       "Process Engineer                                                 1100\n",
       "Technology Lead - US                                             1099\n",
       "Software Engineer II                                             1098\n",
       "Research Associate                                               1072\n",
       "Programmer Analyst                                               1037\n",
       "Systems Engineer                                                 1019\n",
       "Lead Software Engineer                                           1012\n",
       "Vice President                                                   1012\n",
       "Sr. Software Engineer                                            1005\n",
       "DevOps Engineer                                                   997\n",
       "Technical Lead                                                    986\n",
       "Software Development Engineer III                                 983\n",
       "ARCHITECT                                                         983\n",
       "Senior Software Developer                                         981\n",
       "Mechanical Engineer                                               972\n",
       "Computer Programmer                                               970\n",
       "Senior Associate                                                  947\n",
       "Senior Consultant                                                 924\n",
       "Senior Data Engineer                                              918\n",
       "Medical Technologist                                              917\n",
       "Component Design Engineer                                         851\n",
       "SA JC60 - Software Quality Assurance Analysts and Testers         834\n",
       "Postdoctoral Fellow                                               817\n",
       "Database Administrator                                            814\n",
       "Project Engineer                                                  805\n",
       "Systems Analyst                                                   727\n",
       "Principal Software Engineer                                       716\n",
       "Postdoctoral Research Associate                                   714\n",
       "Consultant                                                        713\n",
       "Senior Engineer                                                   711\n",
       "Name: count, dtype: int64"
      ]
     },
     "execution_count": 24,
     "metadata": {},
     "output_type": "execute_result"
    }
   ],
   "source": [
    "# Distribution of job title on certified case \n",
    "\n",
    "h1b_visa_data_2024_certified['JOB_TITLE'].value_counts().head(60)"
   ]
  },
  {
   "cell_type": "code",
   "execution_count": 25,
   "metadata": {},
   "outputs": [
    {
     "data": {
      "text/plain": [
       "JOB_TITLE\n",
       "Assistant Professor, Finance Dept.                              1\n",
       "Oracle PL/SQL Developer/Data Warehouse Analyst                  1\n",
       "User Experience Developer                                       1\n",
       "Instructor (Physician)                                          1\n",
       "Staff Product Design Lead                                       1\n",
       "PT Homecare Clinician                                           1\n",
       "Senior Manager, Business Development Analytics                  1\n",
       "Assitant Professor of Dermatology                               1\n",
       "SPLUNK DEVELOPER                                                1\n",
       "Logistics Experience Manager                                    1\n",
       "Customer Support Engineer II                                    1\n",
       "Tech Lead- Software Engineer                                    1\n",
       "Product Manager- Last Mile Delivery                             1\n",
       "Technical Consulting Engineer                                   1\n",
       "VP CLIENT SERVICES                                              1\n",
       "Associate Director, Global Patient Safety Clinical Operation    1\n",
       "Assistant Professor of Exercise & Sport Studies                 1\n",
       "Chief Executive Officer and Head of Aviation Investments        1\n",
       "Senior Information Security Engineer (017040.000361)            1\n",
       "Oracle Engineer II                                              1\n",
       "President - Global Specialty Coffee                             1\n",
       "Statisticians - KBGFJG266198-1                                  1\n",
       "ACTUARY PLATFORM DEVELOPER ASSOCIATE                            1\n",
       "Resident Physician - Podiatry                                   1\n",
       "Senior Engineering Business Analyst                             1\n",
       "Sr. .Net Software Developer                                     1\n",
       "Principal Scientist Bioinformatics II                           1\n",
       "Senior Director of Data, Technology and eCommerce               1\n",
       "Systems Engineer (Splunk Engineer)                              1\n",
       "Software Developer Specialist (QA)                              1\n",
       "Data Driven Investment Specialist                               1\n",
       "Enclosures DRE                                                  1\n",
       "Montessori Elementary Education Teacher                         1\n",
       "Group Marketing Manager                                         1\n",
       "NPI Operations Project Lead                                     1\n",
       "Principal Scientist, Data Platform Optimization                 1\n",
       "Manager, Compliance - Regulatory Affairs                        1\n",
       "Enterprise Architect, Principal                                 1\n",
       "Staff PLM Technical Analyst                                     1\n",
       "FSCM Business Process Manager                                   1\n",
       "Senior New Product MFG Engineer II                              1\n",
       "Catering Sales Associate                                        1\n",
       "Senior Engineer, Cyber Security                                 1\n",
       "Design Release Engineer - HV Cables (Powertrain)                1\n",
       "Sr Experience Designer                                          1\n",
       "Software Engineer - Platform                                    1\n",
       "Product Requirement Analyst                                     1\n",
       "Lead Java Engineer                                              1\n",
       "SENIOR PROGRAM ENGINEER                                         1\n",
       "Senior ETL Developer                                            1\n",
       "Automation Engineer – Specialist                                1\n",
       "Management Business Analyst                                     1\n",
       "Technical Product Lead                                          1\n",
       "SAP ISU DM EAM Consultant                                       1\n",
       "Director, Production                                            1\n",
       "Accountants and Auditors - KBGFJG270788-1                       1\n",
       "Engineer II - ST - KBGFJG135101-4                               1\n",
       "Sr. Staff, ERP Finance                                          1\n",
       "ETL DEVELOPER\\t                                                 1\n",
       "Automotive Embedded Linux Field Application Engineer            1\n",
       "Name: count, dtype: int64"
      ]
     },
     "execution_count": 25,
     "metadata": {},
     "output_type": "execute_result"
    }
   ],
   "source": [
    "h1b_visa_data_2024_certified['JOB_TITLE'].value_counts().tail(60)"
   ]
  },
  {
   "cell_type": "code",
   "execution_count": 26,
   "metadata": {},
   "outputs": [],
   "source": [
    "# Assuming `h1b_visa_data_2024_certified` is a DataFrame\n",
    "job_title_counts = h1b_visa_data_2024_certified['JOB_TITLE'].value_counts()\n",
    "\n",
    "\n",
    "# Save the output to a text file\n",
    "with open('job_title_counts_2024.txt', 'w') as f:\n",
    "    f.write(job_title_counts.to_string())"
   ]
  },
  {
   "cell_type": "code",
   "execution_count": 27,
   "metadata": {},
   "outputs": [],
   "source": [
    "# Distribution plot of top 10 Job Status\n",
    "top_jobs = h1b_visa_data_2024_certified[\"JOB_TITLE\"].value_counts().head(10)"
   ]
  },
  {
   "cell_type": "code",
   "execution_count": 28,
   "metadata": {},
   "outputs": [
    {
     "data": {
      "image/png": "[encoded data removed]",
      "text/plain": [
       "<Figure size 1000x600 with 1 Axes>"
      ]
     },
     "metadata": {},
     "output_type": "display_data"
    }
   ],
   "source": [
    "# plot bar graph\n",
    "top_jobs.plot(kind=\"bar\",title=\"Top 10 Jobs\",figsize=(10,6),colormap='PiYG')\n",
    "plt.show()"
   ]
  },
  {
   "cell_type": "markdown",
   "metadata": {},
   "source": [
    "From the above data, mostly the IT professionals are highly certified such as Software Engineer, Software Developer, and Senior Software Engineer.\n"
   ]
  },
  {
   "cell_type": "code",
   "execution_count": 29,
   "metadata": {},
   "outputs": [
    {
     "data": {
      "image/png": "[encoded data removed]",
      "text/plain": [
       "<Figure size 1000x600 with 1 Axes>"
      ]
     },
     "metadata": {},
     "output_type": "display_data"
    }
   ],
   "source": [
    "# Distribution of Prevailing wage with Histogram plot\n",
    "\n",
    "plt.figure(figsize=(10,6))\n",
    "sns.histplot(h1b_visa_data_2024_certified[\"PREVAILING_WAGE\"],bins=30,kde=True)\n",
    "plt.title(\"Distribution of wage rate among the certified candidate\")\n",
    "plt.show()\n",
    "\n"
   ]
  },
  {
   "cell_type": "markdown",
   "metadata": {},
   "source": [
    "The distribution of wage rates among H1B-certified candidates in 2024 shows a heavy concentration in the lower to mid-range (e.g.,100,000–200,000), with counts tapering sharply as wages exceed this range. This aligns with typical industry standards and prevailing wage requirements, where most roles (e.g., tech, engineering) cluster around competitive but regulated salary levels. Higher wages (e.g., $300,000+) remain rare, likely limited to specialized or senior positions."
   ]
  },
  {
   "cell_type": "code",
   "execution_count": 31,
   "metadata": {},
   "outputs": [],
   "source": [
    "# Distribution of worksite states\n",
    "\n",
    "top_worksite_state = h1b_visa_data_2024_certified[\"WORKSITE_STATE\"].value_counts().head(10)\n"
   ]
  },
  {
   "cell_type": "code",
   "execution_count": 32,
   "metadata": {},
   "outputs": [
    {
     "data": {
      "image/png": "[encoded data removed]",
      "text/plain": [
       "<Figure size 1000x600 with 1 Axes>"
      ]
     },
     "metadata": {},
     "output_type": "display_data"
    }
   ],
   "source": [
    "# plot bar graph for worksite states\n",
    "\n",
    "top_worksite_state.plot(kind=\"bar\",title=\"Top 10 Worksite States\",figsize=(10,6),colormap='coolwarm')\n",
    "plt.show()"
   ]
  },
  {
   "cell_type": "markdown",
   "metadata": {},
   "source": [
    "The bar plot shows the top 10 states with the highest number of certified H-1B visa applications in 2024. California has the highest number of certified H-1B applications, followed by Texas and New York. The remaining states including, Washington, New Jersey, Illinois, Georgia, North Carolina, Massachusetts, and Florida have a progressively decreasing number of applications."
   ]
  },
  {
   "cell_type": "code",
   "execution_count": 33,
   "metadata": {},
   "outputs": [
    {
     "name": "stdout",
     "output_type": "stream",
     "text": [
      "WORKSITE_STATE\n",
      "WV    156409.968361\n",
      "WA    150380.214786\n",
      "CA    148903.716142\n",
      "NY    133055.217610\n",
      "ME    122708.634465\n",
      "DC    117571.978962\n",
      "MA    117105.477526\n",
      "IL    114635.683414\n",
      "CO    113181.633864\n",
      "AR    112989.822307\n",
      "OR    112776.295622\n",
      "NJ    112440.029498\n",
      "DE    112438.194377\n",
      "NV    110422.144671\n",
      "VA    110023.477430\n",
      "CT    109980.712477\n",
      "AZ    108972.185156\n",
      "RI    108824.784754\n",
      "NH    108140.909615\n",
      "KY    107103.774664\n",
      "PA    106723.285859\n",
      "NC    106688.722333\n",
      "GA    106628.164584\n",
      "TX    106519.946784\n",
      "LA    106369.514912\n",
      "ID    106318.472511\n",
      "MD    105740.722951\n",
      "FL    102763.577118\n",
      "WI    101324.026855\n",
      "OK    101004.271329\n",
      "IA    100965.724624\n",
      "MS    100648.013625\n",
      "OH    100563.016076\n",
      "AL    100336.021264\n",
      "TN    100058.499103\n",
      "UT     99328.734903\n",
      "MN     98378.102173\n",
      "SC     98236.772879\n",
      "HI     97882.682523\n",
      "MO     97262.621423\n",
      "MI     95615.617939\n",
      "NE     94340.539492\n",
      "KS     93168.085458\n",
      "IN     92272.248377\n",
      "SD     88260.858715\n",
      "NM     87762.696050\n",
      "VT     83243.979494\n",
      "PR     80464.263116\n",
      "WY     80297.049223\n",
      "ND     71412.436164\n",
      "MT     70132.212918\n",
      "AK     65538.675497\n",
      "GU     54101.911814\n",
      "VI     54031.879412\n",
      "MP     26775.463623\n",
      "Name: WAGE_RATE_OF_PAY_FROM, dtype: float64\n"
     ]
    }
   ],
   "source": [
    "# Average wage by states\n",
    "\n",
    "average_wage_by_state = h1b_visa_data_2024_certified.groupby(\"WORKSITE_STATE\")[\"WAGE_RATE_OF_PAY_FROM\"].mean().sort_values(ascending=False)\n",
    "print(average_wage_by_state)"
   ]
  },
  {
   "cell_type": "code",
   "execution_count": 34,
   "metadata": {},
   "outputs": [
    {
     "data": {
      "image/png": "[encoded data removed]",
      "text/plain": [
       "<Figure size 1000x600 with 1 Axes>"
      ]
     },
     "metadata": {},
     "output_type": "display_data"
    }
   ],
   "source": [
    "# plot bar graph of top 10 average wage by state \n",
    "average_wage_by_state.head(10).plot(kind=\"bar\",title=\"Top 10 States by average wages\",figsize=(10,6),colormap='rainbow')\n",
    "plt.show()"
   ]
  },
  {
   "cell_type": "markdown",
   "metadata": {},
   "source": [
    "The bar chart presents the top 10 states with the highest average wages for H1B visa applications in 2024. West Virginia leads with the highest average wage, followed by Washington and California. The remaining states, including New York, Maine,  District of Columbia, Massachusetts, Illinois, Colorado, and Arkansas show a gradual decrease in average wages."
   ]
  },
  {
   "cell_type": "code",
   "execution_count": 36,
   "metadata": {},
   "outputs": [
    {
     "data": {
      "image/png": "[encoded data removed]",
      "text/plain": [
       "<Figure size 1000x600 with 1 Axes>"
      ]
     },
     "metadata": {},
     "output_type": "display_data"
    }
   ],
   "source": [
    "# plot bar graph of low 10 average wage by state \n",
    "average_wage_by_state.tail(10).plot(kind=\"bar\",title=\"Low 10 States by average wages\",figsize=(10,6),colormap='rainbow')\n",
    "plt.show()"
   ]
  },
  {
   "cell_type": "markdown",
   "metadata": {},
   "source": [
    "The bar chart presents the bottom 10 states with the lowest average wages for H1B visa applications in 2024. New Mexico has the lowest average wage, followed by Vermont and Puerto Rico. The remaining states, including Wyoming, North Dakota, Montana, Alaska, Guam, Virgin Islands, and Northern Mariana Islands, show a gradual increase in average wages."
   ]
  },
  {
   "cell_type": "code",
   "execution_count": 37,
   "metadata": {},
   "outputs": [
    {
     "name": "stdout",
     "output_type": "stream",
     "text": [
      "SOC_TITLE\n",
      "Software Developers                                166085\n",
      "Computer Systems Engineers/Architects               34481\n",
      "Information Technology Project Managers             19163\n",
      "Software Quality Assurance Analysts and Testers     16896\n",
      "Computer Systems Analysts                           16387\n",
      "Data Scientists                                     13254\n",
      "Computer Programmers                                12631\n",
      "Computer and Information Systems Managers           10947\n",
      "Business Intelligence Analysts                      10200\n",
      "Accountants and Auditors                             8897\n",
      "Name: count, dtype: int64\n"
     ]
    }
   ],
   "source": [
    "# Distribution plot of top 10 SOC_TITLE\n",
    "top_soc_title = h1b_visa_data_2024_certified[\"SOC_TITLE\"].value_counts().head(10)\n",
    "print(top_soc_title)"
   ]
  },
  {
   "cell_type": "code",
   "execution_count": 38,
   "metadata": {},
   "outputs": [
    {
     "data": {
      "image/png": "[encoded data removed]",
      "text/plain": [
       "<Figure size 1000x600 with 1 Axes>"
      ]
     },
     "metadata": {},
     "output_type": "display_data"
    }
   ],
   "source": [
    "# Bar plot of top 10 soc_title\n",
    "top_soc_title.plot(kind=\"bar\",title=\"Top 10 SOC Title\",figsize=(10,6),colormap=\"Set1\")\n",
    "plt.show()"
   ]
  },
  {
   "cell_type": "code",
   "execution_count": 39,
   "metadata": {},
   "outputs": [
    {
     "name": "stdout",
     "output_type": "stream",
     "text": [
      "SOC_TITLE\n",
      "Fence Erectors                                   1\n",
      "GRAPHIC DESIGNERS                                1\n",
      "Financial Qualitative Analysts                   1\n",
      "Information Security Analyst                     1\n",
      "Educational Administrators, Postsecondary        1\n",
      "Instructional Coordinator                        1\n",
      "Airline Pilots, Copilots, and Flight Engineer    1\n",
      "Broadcast Technicians                            1\n",
      "COMPUTER AND INFORMATION RESEARCH SCIENTISTS     1\n",
      "Maintenance Workers, Machinery                   1\n",
      "Name: count, dtype: int64\n"
     ]
    }
   ],
   "source": [
    "# Distribution plot of bottom 10 SOC_TITLE\n",
    "bottom_soc_title = h1b_visa_data_2024_certified[\"SOC_TITLE\"].value_counts().tail(10)\n",
    "print(bottom_soc_title)"
   ]
  },
  {
   "cell_type": "code",
   "execution_count": 41,
   "metadata": {},
   "outputs": [
    {
     "data": {
      "image/png": "[encoded data removed]",
      "text/plain": [
       "<Figure size 1600x600 with 1 Axes>"
      ]
     },
     "metadata": {},
     "output_type": "display_data"
    }
   ],
   "source": [
    "# Wages by Job title\n",
    "\n",
    "plt.figure(figsize=(16,6))\n",
    "sns.boxplot(data=h1b_visa_data_2024_certified[[\"SOC_TITLE\",\n",
    "                                               \"WAGE_RATE_OF_PAY_FROM\"]].sort_values(by=\"WAGE_RATE_OF_PAY_FROM\",\n",
    "                                                                                     ascending=False).head(10),x=\"SOC_TITLE\",\n",
    "                                                                                     y=\"WAGE_RATE_OF_PAY_FROM\",showmeans=True)\n",
    "plt.xticks(rotation=90)\n",
    "plt.show()\n"
   ]
  },
  {
   "cell_type": "code",
   "execution_count": 42,
   "metadata": {},
   "outputs": [
    {
     "name": "stdout",
     "output_type": "stream",
     "text": [
      "EMPLOYER_NAME\n",
      "Amazon.com Services LLC                   12655\n",
      "COGNIZANT TECHNOLOGY SOLUTIONS US CORP    11226\n",
      "Ernst & Young U.S. LLP                     9834\n",
      "Microsoft Corporation                      9491\n",
      "Google LLC                                 8847\n",
      "INFOSYS LIMITED                            5896\n",
      "TATA CONSULTANCY SERVICES LIMITED          5675\n",
      "Tata Consultancy Services Limited          3945\n",
      "HCL AMERICA INC                            3931\n",
      "WAL-MART ASSOCIATES, INC.                  3814\n",
      "Intel Corporation                          3673\n",
      "Apple Inc.                                 3522\n",
      "Amazon Web Services, Inc.                  3362\n",
      "Accenture LLP                              3309\n",
      "IBM Corporation                            3195\n",
      "JPMorgan Chase & Co.                       2890\n",
      "Meta Platforms, Inc                        2889\n",
      "Deloitte Consulting LLP                    2693\n",
      "CAPGEMINI AMERICA INC                      2666\n",
      "Salesforce, Inc.                           2292\n",
      "Name: count, dtype: int64\n"
     ]
    }
   ],
   "source": [
    "# Top employers getting H1B visa certified\n",
    "\n",
    "top_employers = h1b_visa_data_2024_certified[\"EMPLOYER_NAME\"].value_counts().head(20)\n",
    "print(top_employers)"
   ]
  },
  {
   "cell_type": "code",
   "execution_count": 43,
   "metadata": {},
   "outputs": [
    {
     "name": "stdout",
     "output_type": "stream",
     "text": [
      "EMPLOYER_NAME\n",
      "Athena Medical Management, LLC               1\n",
      "BILH, Inc                                    1\n",
      "Newton Healthcare Corporation                1\n",
      "Cinchseal Associates, Inc.                   1\n",
      "CAPITAL HAICH PHOTOGRAPHIC PRODUCTION LLC    1\n",
      "Lawyers Without Borders Inc.                 1\n",
      "Splashtacular, LLC                           1\n",
      "Urban Justice Center                         1\n",
      "Sugar Beets Inc                              1\n",
      "Soona Co                                     1\n",
      "Name: count, dtype: int64\n"
     ]
    }
   ],
   "source": [
    "# Bottom employers getting H1B visa certified\n",
    "\n",
    "bottom_employers = h1b_visa_data_2024_certified[\"EMPLOYER_NAME\"].value_counts().tail(10)\n",
    "print(bottom_employers)"
   ]
  },
  {
   "cell_type": "code",
   "execution_count": 44,
   "metadata": {},
   "outputs": [],
   "source": [
    "employer = h1b_visa_data_2024_certified[\"EMPLOYER_NAME\"].value_counts()\n",
    "\n",
    "# Save the output to a text file\n",
    "with open('employer-2024.txt', 'w') as f:\n",
    "    f.write(employer.to_string())"
   ]
  },
  {
   "cell_type": "code",
   "execution_count": 45,
   "metadata": {},
   "outputs": [
    {
     "name": "stdout",
     "output_type": "stream",
     "text": [
      "AGENT_REPRESENTING_EMPLOYER\n",
      "Yes    381502\n",
      "No     137288\n",
      "Name: count, dtype: int64\n"
     ]
    }
   ],
   "source": [
    "# Agents representing employers \n",
    "\n",
    "agents = h1b_visa_data_2024_certified[\"AGENT_REPRESENTING_EMPLOYER\"].value_counts().head(10)\n",
    "print(agents)"
   ]
  },
  {
   "cell_type": "code",
   "execution_count": 46,
   "metadata": {},
   "outputs": [
    {
     "name": "stdout",
     "output_type": "stream",
     "text": [
      "YEAR\n",
      "2023     46833\n",
      "2024    201043\n",
      "Name: CASE_NUMBER, dtype: int64\n"
     ]
    }
   ],
   "source": [
    "# Remote work trends\n",
    "\n",
    "h1b_visa_data_2024_certified[\"RECEIVED_DATE\"] = pd.to_datetime(h1b_visa_data_2024_certified[\"RECEIVED_DATE\"], errors='coerce')\n",
    "h1b_visa_data_2024_certified['YEAR'] = h1b_visa_data_2024_certified[\"RECEIVED_DATE\"].dt.year\n",
    "\n",
    "remote_trends = h1b_visa_data_2024_certified[h1b_visa_data_2024_certified[\"WORKSITE_STATE\"]!=h1b_visa_data_2024_certified[\"EMPLOYER_STATE\"]]\n",
    "remote_trends_by_year = remote_trends.groupby('YEAR')['CASE_NUMBER'].count()\n",
    "\n",
    "print(remote_trends_by_year)\n"
   ]
  },
  {
   "cell_type": "markdown",
   "metadata": {},
   "source": [
    "The data shows a dramatic rise in H1B-certified remote work positions, surging from 46,833 in 2023 to 201,043 in 2024. This reflects accelerated adoption of remote work policies by employers post-pandemic, alongside updated USCIS guidelines accommodating distributed teams and global talent demand in fields like tech and consulting."
   ]
  }
 ],
 "metadata": {
  "kernelspec": {
   "display_name": "env",
   "language": "python",
   "name": "python3"
  },
  "language_info": {
   "codemirror_mode": {
    "name": "ipython",
    "version": 3
   },
   "file_extension": ".py",
   "mimetype": "text/x-python",
   "name": "python",
   "nbconvert_exporter": "python",
   "pygments_lexer": "ipython3",
   "version": "3.9.6"
  }
 },
 "nbformat": 4,
 "nbformat_minor": 2
}
